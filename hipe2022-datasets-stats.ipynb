{
 "cells": [
  {
   "cell_type": "markdown",
   "id": "0c5938eb",
   "metadata": {},
   "source": [
    "# Imports"
   ]
  },
  {
   "cell_type": "code",
   "execution_count": 1,
   "id": "84f5b8ff",
   "metadata": {},
   "outputs": [],
   "source": [
    "import os\n",
    "import random\n",
    "from typing import List, Dict\n",
    "from hipe_commons.helpers.tsv import parse_tsv, ENTITY_TYPES, HipeDocument, HipeEntity\n",
    "from hipe_commons.stats import describe_dataset"
   ]
  },
  {
   "cell_type": "markdown",
   "id": "3b041768",
   "metadata": {},
   "source": [
    "# Functions"
   ]
  },
  {
   "cell_type": "code",
   "execution_count": 2,
   "id": "a9687518",
   "metadata": {},
   "outputs": [],
   "source": [
    "def collect_entities(documents: List[HipeDocument]) -> Dict[str, List[HipeEntity]]:\n",
    "    \"\"\"Simple function to gather all entities from documents in a dataset, divided by type.\n",
    "\n",
    "    :param documents: Input documents in HIPE format\n",
    "    :type documents: List[HipeDocument]\n",
    "    :return: A list of `HipeEntity` objects\n",
    "    :rtype: Dict[str, List[HipeEntity]]\n",
    "    \"\"\"\n",
    "    all_entities = {}\n",
    "\n",
    "    for doc in ajmc_sample_en_docs:\n",
    "        for e_type in ENTITY_TYPES:\n",
    "            \n",
    "            if e_type in doc.entities:\n",
    "\n",
    "                if e_type not in all_entities:\n",
    "                    all_entities[e_type] = []\n",
    "\n",
    "                all_entities[e_type] += doc.entities[e_type]\n",
    "    return all_entities"
   ]
  },
  {
   "cell_type": "markdown",
   "id": "2a79f912",
   "metadata": {},
   "source": [
    "# HIPE 2022 Datasets"
   ]
  },
  {
   "cell_type": "code",
   "execution_count": 30,
   "id": "78b29c82",
   "metadata": {},
   "outputs": [],
   "source": [
    "HIPE2022_data_path = \"./data/v1.0/\""
   ]
  },
  {
   "cell_type": "markdown",
   "id": "8af7af62",
   "metadata": {},
   "source": [
    "## ajmc"
   ]
  },
  {
   "cell_type": "markdown",
   "id": "dad9df87",
   "metadata": {},
   "source": [
    "### Paths"
   ]
  },
  {
   "cell_type": "code",
   "execution_count": 18,
   "id": "8d5254da",
   "metadata": {},
   "outputs": [],
   "source": [
    "ajmc_sample_en_path = os.path.join(HIPE2022_data_path, \"ajmc/en/HIPE-2022-v1.0-ajmc-sample-en.tsv\")"
   ]
  },
  {
   "cell_type": "code",
   "execution_count": 19,
   "id": "c3444079",
   "metadata": {},
   "outputs": [],
   "source": [
    "ajmc_sample_de_path = os.path.join(HIPE2022_data_path, \"ajmc/de/HIPE-2022-v1.0-ajmc-sample-de.tsv\")"
   ]
  },
  {
   "cell_type": "markdown",
   "id": "dea822df",
   "metadata": {},
   "source": [
    "### EN sample"
   ]
  },
  {
   "cell_type": "code",
   "execution_count": 25,
   "id": "0ae73724",
   "metadata": {},
   "outputs": [],
   "source": [
    "# parse the TSV into a list of `HipeDocument` objects\n",
    "ajmc_sample_en_docs = parse_tsv(file_path=ajmc_sample_en_path)"
   ]
  },
  {
   "cell_type": "code",
   "execution_count": 27,
   "id": "c9a2928b",
   "metadata": {},
   "outputs": [
    {
     "name": "stdout",
     "output_type": "stream",
     "text": [
      "\n",
      "Path of the TSV file: ./data/v1.0/ajmc/en/HIPE-2022-v1.0-ajmc-sample-en.tsv \n",
      "Number of documents: 5 \n",
      "Number of entities: {'coarse_lit': 153, 'fine_lit': 153} \n",
      "Number of tokens: 2187 \n",
      "Entity breakdown by type: coarse_lit\n",
      "+-------+---------+\n",
      "|       |   count |\n",
      "+=======+=========+\n",
      "| date  |       1 |\n",
      "+-------+---------+\n",
      "| loc   |       5 |\n",
      "+-------+---------+\n",
      "| pers  |      65 |\n",
      "+-------+---------+\n",
      "| scope |      51 |\n",
      "+-------+---------+\n",
      "| work  |      31 |\n",
      "+-------+---------+\n",
      "fine_lit\n",
      "+--------------+---------+\n",
      "|              |   count |\n",
      "+==============+=========+\n",
      "| date         |       1 |\n",
      "+--------------+---------+\n",
      "| loc          |       5 |\n",
      "+--------------+---------+\n",
      "| pers.author  |      28 |\n",
      "+--------------+---------+\n",
      "| pers.editor  |       6 |\n",
      "+--------------+---------+\n",
      "| pers.myth    |      30 |\n",
      "+--------------+---------+\n",
      "| pers.other   |       1 |\n",
      "+--------------+---------+\n",
      "| scope        |      51 |\n",
      "+--------------+---------+\n",
      "| work.primlit |      30 |\n",
      "+--------------+---------+\n",
      "| work.seclit  |       1 |\n",
      "+--------------+---------+\n",
      "\n"
     ]
    }
   ],
   "source": [
    "# print some basic stats for the TSV dataset \n",
    "print(describe_dataset(documents=ajmc_sample_en_docs))"
   ]
  },
  {
   "cell_type": "markdown",
   "id": "459ec156",
   "metadata": {},
   "source": [
    "### DE sample"
   ]
  },
  {
   "cell_type": "code",
   "execution_count": 28,
   "id": "c5ecbe6f",
   "metadata": {},
   "outputs": [],
   "source": [
    "# parse the TSV into a list of `HipeDocument` objects\n",
    "ajmc_sample_de_docs = parse_tsv(file_path=ajmc_sample_de_path)"
   ]
  },
  {
   "cell_type": "code",
   "execution_count": 29,
   "id": "c631a431",
   "metadata": {},
   "outputs": [
    {
     "name": "stdout",
     "output_type": "stream",
     "text": [
      "\n",
      "Path of the TSV file: ./data/v1.0/ajmc/de/HIPE-2022-v1.0-ajmc-sample-de.tsv \n",
      "Number of documents: 8 \n",
      "Number of entities: {'coarse_lit': 202, 'fine_lit': 202, 'nested': 7} \n",
      "Number of tokens: 2584 \n",
      "Entity breakdown by type: coarse_lit\n",
      "+-------+---------+\n",
      "|       |   count |\n",
      "+=======+=========+\n",
      "| date  |       2 |\n",
      "+-------+---------+\n",
      "| loc   |       3 |\n",
      "+-------+---------+\n",
      "| pers  |      92 |\n",
      "+-------+---------+\n",
      "| scope |      79 |\n",
      "+-------+---------+\n",
      "| work  |      26 |\n",
      "+-------+---------+\n",
      "fine_lit\n",
      "+--------------+---------+\n",
      "|              |   count |\n",
      "+==============+=========+\n",
      "| date         |       2 |\n",
      "+--------------+---------+\n",
      "| loc          |       3 |\n",
      "+--------------+---------+\n",
      "| pers.author  |      36 |\n",
      "+--------------+---------+\n",
      "| pers.myth    |      54 |\n",
      "+--------------+---------+\n",
      "| pers.other   |       2 |\n",
      "+--------------+---------+\n",
      "| scope        |      79 |\n",
      "+--------------+---------+\n",
      "| work.primlit |      25 |\n",
      "+--------------+---------+\n",
      "| work.seclit  |       1 |\n",
      "+--------------+---------+\n",
      "nested\n",
      "+-------+---------+\n",
      "|       |   count |\n",
      "+=======+=========+\n",
      "| loc   |       2 |\n",
      "+-------+---------+\n",
      "| scope |       5 |\n",
      "+-------+---------+\n",
      "\n"
     ]
    }
   ],
   "source": [
    "# print some basic stats for the TSV dataset \n",
    "print(describe_dataset(documents=ajmc_sample_de_docs))"
   ]
  },
  {
   "cell_type": "markdown",
   "id": "b0a7aad4",
   "metadata": {},
   "source": [
    "## hipe2020"
   ]
  },
  {
   "cell_type": "markdown",
   "id": "3f7ef9e3",
   "metadata": {},
   "source": [
    "## letemps"
   ]
  },
  {
   "cell_type": "markdown",
   "id": "e7875d7c",
   "metadata": {},
   "source": [
    "## topres19th"
   ]
  },
  {
   "cell_type": "markdown",
   "id": "05344548",
   "metadata": {},
   "source": [
    "## newseye"
   ]
  },
  {
   "cell_type": "markdown",
   "id": "9b5096d5",
   "metadata": {},
   "source": [
    "## sonar"
   ]
  }
 ],
 "metadata": {
  "kernelspec": {
   "display_name": "Python 3 (ipykernel)",
   "language": "python",
   "name": "python3"
  },
  "language_info": {
   "codemirror_mode": {
    "name": "ipython",
    "version": 3
   },
   "file_extension": ".py",
   "mimetype": "text/x-python",
   "name": "python",
   "nbconvert_exporter": "python",
   "pygments_lexer": "ipython3",
   "version": "3.8.0"
  }
 },
 "nbformat": 4,
 "nbformat_minor": 5
}
