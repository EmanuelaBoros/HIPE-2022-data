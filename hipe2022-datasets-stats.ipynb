{
 "cells": [
  {
   "cell_type": "markdown",
   "id": "3c72f315",
   "metadata": {},
   "source": [
    "# HIPE 2022 dataset statistics"
   ]
  },
  {
   "cell_type": "markdown",
   "id": "0c5938eb",
   "metadata": {},
   "source": [
    "# Imports"
   ]
  },
  {
   "cell_type": "code",
   "execution_count": 1,
   "id": "84f5b8ff",
   "metadata": {},
   "outputs": [],
   "source": [
    "import os\n",
    "import random\n",
    "from typing import List, Dict\n",
    "from hipe_commons.helpers.tsv import parse_tsv, ENTITY_TYPES, HipeDocument, HipeEntity\n",
    "from hipe_commons.stats import describe_dataset"
   ]
  },
  {
   "cell_type": "markdown",
   "id": "3b041768",
   "metadata": {},
   "source": [
    "# Functions"
   ]
  },
  {
   "cell_type": "code",
   "execution_count": 2,
   "id": "a9687518",
   "metadata": {},
   "outputs": [],
   "source": [
    "def collect_entities(documents: List[HipeDocument]) -> Dict[str, List[HipeEntity]]:\n",
    "    \"\"\"Simple function to gather all entities from documents in a dataset, divided by type.\n",
    "\n",
    "    :param documents: Input documents in HIPE format\n",
    "    :type documents: List[HipeDocument]\n",
    "    :return: A list of `HipeEntity` objects\n",
    "    :rtype: Dict[str, List[HipeEntity]]\n",
    "    \"\"\"\n",
    "    all_entities = {}\n",
    "\n",
    "    for doc in ajmc_sample_en_docs:\n",
    "        for e_type in ENTITY_TYPES:\n",
    "            \n",
    "            if e_type in doc.entities:\n",
    "\n",
    "                if e_type not in all_entities:\n",
    "                    all_entities[e_type] = []\n",
    "\n",
    "                all_entities[e_type] += doc.entities[e_type]\n",
    "    return all_entities"
   ]
  },
  {
   "cell_type": "markdown",
   "id": "2a79f912",
   "metadata": {},
   "source": [
    "# HIPE 2022 Datasets"
   ]
  },
  {
   "cell_type": "code",
   "execution_count": 30,
   "id": "78b29c82",
   "metadata": {},
   "outputs": [],
   "source": [
    "HIPE2022_data_path = \"./data/v1.0/\""
   ]
  },
  {
   "cell_type": "markdown",
   "id": "8af7af62",
   "metadata": {},
   "source": [
    "## ajmc\n",
    "\n",
    "See the [README file](./documentation/README-ajmc.md) for detailed information about this dataset."
   ]
  },
  {
   "cell_type": "markdown",
   "id": "dad9df87",
   "metadata": {},
   "source": [
    "### File paths"
   ]
  },
  {
   "cell_type": "code",
   "execution_count": 18,
   "id": "8d5254da",
   "metadata": {},
   "outputs": [],
   "source": [
    "ajmc_sample_en_path = os.path.join(HIPE2022_data_path, \"ajmc/en/HIPE-2022-v1.0-ajmc-sample-en.tsv\")"
   ]
  },
  {
   "cell_type": "code",
   "execution_count": 19,
   "id": "c3444079",
   "metadata": {},
   "outputs": [],
   "source": [
    "ajmc_sample_de_path = os.path.join(HIPE2022_data_path, \"ajmc/de/HIPE-2022-v1.0-ajmc-sample-de.tsv\")"
   ]
  },
  {
   "cell_type": "markdown",
   "id": "dea822df",
   "metadata": {},
   "source": [
    "### EN sample"
   ]
  },
  {
   "cell_type": "code",
   "execution_count": 25,
   "id": "0ae73724",
   "metadata": {},
   "outputs": [],
   "source": [
    "# parse the TSV into a list of `HipeDocument` objects\n",
    "ajmc_sample_en_docs = parse_tsv(file_path=ajmc_sample_en_path)"
   ]
  },
  {
   "cell_type": "code",
   "execution_count": 27,
   "id": "c9a2928b",
   "metadata": {},
   "outputs": [
    {
     "name": "stdout",
     "output_type": "stream",
     "text": [
      "\n",
      "Path of the TSV file: ./data/v1.0/ajmc/en/HIPE-2022-v1.0-ajmc-sample-en.tsv \n",
      "Number of documents: 5 \n",
      "Number of entities: {'coarse_lit': 153, 'fine_lit': 153} \n",
      "Number of tokens: 2187 \n",
      "Entity breakdown by type: coarse_lit\n",
      "+-------+---------+\n",
      "|       |   count |\n",
      "+=======+=========+\n",
      "| date  |       1 |\n",
      "+-------+---------+\n",
      "| loc   |       5 |\n",
      "+-------+---------+\n",
      "| pers  |      65 |\n",
      "+-------+---------+\n",
      "| scope |      51 |\n",
      "+-------+---------+\n",
      "| work  |      31 |\n",
      "+-------+---------+\n",
      "fine_lit\n",
      "+--------------+---------+\n",
      "|              |   count |\n",
      "+==============+=========+\n",
      "| date         |       1 |\n",
      "+--------------+---------+\n",
      "| loc          |       5 |\n",
      "+--------------+---------+\n",
      "| pers.author  |      28 |\n",
      "+--------------+---------+\n",
      "| pers.editor  |       6 |\n",
      "+--------------+---------+\n",
      "| pers.myth    |      30 |\n",
      "+--------------+---------+\n",
      "| pers.other   |       1 |\n",
      "+--------------+---------+\n",
      "| scope        |      51 |\n",
      "+--------------+---------+\n",
      "| work.primlit |      30 |\n",
      "+--------------+---------+\n",
      "| work.seclit  |       1 |\n",
      "+--------------+---------+\n",
      "\n"
     ]
    }
   ],
   "source": [
    "# print some basic stats for the TSV dataset \n",
    "print(describe_dataset(documents=ajmc_sample_en_docs))"
   ]
  },
  {
   "cell_type": "markdown",
   "id": "459ec156",
   "metadata": {},
   "source": [
    "### DE sample"
   ]
  },
  {
   "cell_type": "code",
   "execution_count": 28,
   "id": "c5ecbe6f",
   "metadata": {},
   "outputs": [],
   "source": [
    "# parse the TSV into a list of `HipeDocument` objects\n",
    "ajmc_sample_de_docs = parse_tsv(file_path=ajmc_sample_de_path)"
   ]
  },
  {
   "cell_type": "code",
   "execution_count": 29,
   "id": "c631a431",
   "metadata": {},
   "outputs": [
    {
     "name": "stdout",
     "output_type": "stream",
     "text": [
      "\n",
      "Path of the TSV file: ./data/v1.0/ajmc/de/HIPE-2022-v1.0-ajmc-sample-de.tsv \n",
      "Number of documents: 8 \n",
      "Number of entities: {'coarse_lit': 202, 'fine_lit': 202, 'nested': 7} \n",
      "Number of tokens: 2584 \n",
      "Entity breakdown by type: coarse_lit\n",
      "+-------+---------+\n",
      "|       |   count |\n",
      "+=======+=========+\n",
      "| date  |       2 |\n",
      "+-------+---------+\n",
      "| loc   |       3 |\n",
      "+-------+---------+\n",
      "| pers  |      92 |\n",
      "+-------+---------+\n",
      "| scope |      79 |\n",
      "+-------+---------+\n",
      "| work  |      26 |\n",
      "+-------+---------+\n",
      "fine_lit\n",
      "+--------------+---------+\n",
      "|              |   count |\n",
      "+==============+=========+\n",
      "| date         |       2 |\n",
      "+--------------+---------+\n",
      "| loc          |       3 |\n",
      "+--------------+---------+\n",
      "| pers.author  |      36 |\n",
      "+--------------+---------+\n",
      "| pers.myth    |      54 |\n",
      "+--------------+---------+\n",
      "| pers.other   |       2 |\n",
      "+--------------+---------+\n",
      "| scope        |      79 |\n",
      "+--------------+---------+\n",
      "| work.primlit |      25 |\n",
      "+--------------+---------+\n",
      "| work.seclit  |       1 |\n",
      "+--------------+---------+\n",
      "nested\n",
      "+-------+---------+\n",
      "|       |   count |\n",
      "+=======+=========+\n",
      "| loc   |       2 |\n",
      "+-------+---------+\n",
      "| scope |       5 |\n",
      "+-------+---------+\n",
      "\n"
     ]
    }
   ],
   "source": [
    "# print some basic stats for the TSV dataset \n",
    "print(describe_dataset(documents=ajmc_sample_de_docs))"
   ]
  },
  {
   "cell_type": "markdown",
   "id": "b0a7aad4",
   "metadata": {},
   "source": [
    "## hipe2020\n",
    "\n",
    "See the [README file](./documentation/README-hipe2020.md) for detailed information about this dataset."
   ]
  },
  {
   "cell_type": "markdown",
   "id": "920280da",
   "metadata": {},
   "source": [
    "### File paths"
   ]
  },
  {
   "cell_type": "code",
   "execution_count": 48,
   "id": "094c5c69",
   "metadata": {},
   "outputs": [],
   "source": [
    "hipe2020_dev_en_path = os.path.join(HIPE2022_data_path, \"hipe2020/en/HIPE-2022-v1.0-hipe2020-dev-en.tsv\")"
   ]
  },
  {
   "cell_type": "code",
   "execution_count": 42,
   "id": "75b76afe",
   "metadata": {},
   "outputs": [],
   "source": [
    "hipe2020_train_de_path = os.path.join(HIPE2022_data_path, \"hipe2020/de/HIPE-2022-v1.0-hipe2020-train-de.tsv\")"
   ]
  },
  {
   "cell_type": "code",
   "execution_count": 43,
   "id": "d0da09ac",
   "metadata": {},
   "outputs": [],
   "source": [
    "hipe2020_dev_de_path = os.path.join(HIPE2022_data_path, \"hipe2020/de/HIPE-2022-v1.0-hipe2020-dev-de.tsv\")"
   ]
  },
  {
   "cell_type": "code",
   "execution_count": 44,
   "id": "74076a21",
   "metadata": {},
   "outputs": [],
   "source": [
    "hipe2020_dev_fr_path = os.path.join(HIPE2022_data_path, \"hipe2020/fr/HIPE-2022-v1.0-hipe2020-dev-fr.tsv\")"
   ]
  },
  {
   "cell_type": "code",
   "execution_count": 45,
   "id": "43698776",
   "metadata": {},
   "outputs": [],
   "source": [
    "hipe2020_train_fr_path = os.path.join(HIPE2022_data_path, \"hipe2020/fr/HIPE-2022-v1.0-hipe2020-train-fr.tsv\")"
   ]
  },
  {
   "cell_type": "markdown",
   "id": "65159b61",
   "metadata": {},
   "source": [
    "### hipe2020 EN"
   ]
  },
  {
   "cell_type": "markdown",
   "id": "578ab9f2",
   "metadata": {},
   "source": [
    "#### Dev"
   ]
  },
  {
   "cell_type": "code",
   "execution_count": 49,
   "id": "c5ecbe6f",
   "metadata": {},
   "outputs": [],
   "source": [
    "# parse the TSV into a list of `HipeDocument` objects\n",
    "hipe2020_dev_en_docs = parse_tsv(file_path=hipe2020_dev_en_path)"
   ]
  },
  {
   "cell_type": "code",
   "execution_count": 51,
   "id": "c631a431",
   "metadata": {},
   "outputs": [
    {
     "name": "stdout",
     "output_type": "stream",
     "text": [
      "\n",
      "Path of the TSV file: ./data/v1.0/hipe2020/en/HIPE-2022-v1.0-hipe2020-dev-en.tsv \n",
      "Number of documents: 80 \n",
      "Number of entities: {'coarse_lit': 966, 'coarse_meto': 15} \n",
      "Number of tokens: 29063 \n",
      "Entity breakdown by type: coarse_lit\n",
      "+------+---------+\n",
      "|      |   count |\n",
      "+======+=========+\n",
      "| loc  |     384 |\n",
      "+------+---------+\n",
      "| org  |     118 |\n",
      "+------+---------+\n",
      "| pers |     402 |\n",
      "+------+---------+\n",
      "| prod |      33 |\n",
      "+------+---------+\n",
      "| time |      29 |\n",
      "+------+---------+\n",
      "coarse_meto\n",
      "+-----+---------+\n",
      "|     |   count |\n",
      "+=====+=========+\n",
      "| loc |       6 |\n",
      "+-----+---------+\n",
      "| org |       9 |\n",
      "+-----+---------+\n",
      "\n"
     ]
    }
   ],
   "source": [
    "# print some basic stats for the TSV dataset \n",
    "print(describe_dataset(documents=hipe2020_dev_en_docs))"
   ]
  },
  {
   "cell_type": "markdown",
   "id": "d369e2f1",
   "metadata": {},
   "source": [
    "### hipe2020 DE"
   ]
  },
  {
   "cell_type": "markdown",
   "id": "a2d08d45",
   "metadata": {},
   "source": [
    "#### Dev"
   ]
  },
  {
   "cell_type": "code",
   "execution_count": 52,
   "id": "34dd4006",
   "metadata": {},
   "outputs": [],
   "source": [
    "# parse the TSV into a list of `HipeDocument` objects\n",
    "hipe2020_dev_de_docs = parse_tsv(file_path=hipe2020_dev_de_path)"
   ]
  },
  {
   "cell_type": "code",
   "execution_count": 53,
   "id": "a5bbc258",
   "metadata": {},
   "outputs": [
    {
     "name": "stdout",
     "output_type": "stream",
     "text": [
      "\n",
      "Path of the TSV file: ./data/v1.0/hipe2020/de/HIPE-2022-v1.0-hipe2020-dev-de.tsv \n",
      "Number of documents: 33 \n",
      "Number of entities: {'coarse_lit': 1242, 'coarse_meto': 91, 'fine_lit': 1242, 'fine_meto': 91, 'fine_comp': 468, 'nested': 67} \n",
      "Number of tokens: 32671 \n",
      "Entity breakdown by type: coarse_lit\n",
      "+------+---------+\n",
      "|      |   count |\n",
      "+======+=========+\n",
      "| loc  |     588 |\n",
      "+------+---------+\n",
      "| org  |     164 |\n",
      "+------+---------+\n",
      "| pers |     372 |\n",
      "+------+---------+\n",
      "| prod |      49 |\n",
      "+------+---------+\n",
      "| time |      69 |\n",
      "+------+---------+\n",
      "coarse_meto\n",
      "+------+---------+\n",
      "|      |   count |\n",
      "+======+=========+\n",
      "| loc  |      12 |\n",
      "+------+---------+\n",
      "| org  |      78 |\n",
      "+------+---------+\n",
      "| prod |       1 |\n",
      "+------+---------+\n",
      "fine_lit\n",
      "+---------------------+---------+\n",
      "|                     |   count |\n",
      "+=====================+=========+\n",
      "| loc.adm.nat         |     135 |\n",
      "+---------------------+---------+\n",
      "| loc.adm.reg         |      53 |\n",
      "+---------------------+---------+\n",
      "| loc.adm.sup         |       8 |\n",
      "+---------------------+---------+\n",
      "| loc.adm.town        |     339 |\n",
      "+---------------------+---------+\n",
      "| loc.fac             |      15 |\n",
      "+---------------------+---------+\n",
      "| loc.oro             |      24 |\n",
      "+---------------------+---------+\n",
      "| loc.phys.geo        |       7 |\n",
      "+---------------------+---------+\n",
      "| loc.phys.hydro      |       7 |\n",
      "+---------------------+---------+\n",
      "| org.adm             |      53 |\n",
      "+---------------------+---------+\n",
      "| org.ent             |     100 |\n",
      "+---------------------+---------+\n",
      "| org.ent.pressagency |      11 |\n",
      "+---------------------+---------+\n",
      "| pers.coll           |       1 |\n",
      "+---------------------+---------+\n",
      "| pers.ind            |     371 |\n",
      "+---------------------+---------+\n",
      "| prod.doctr          |       3 |\n",
      "+---------------------+---------+\n",
      "| prod.media          |      46 |\n",
      "+---------------------+---------+\n",
      "| time.date.abs       |      69 |\n",
      "+---------------------+---------+\n",
      "fine_meto\n",
      "+--------------+---------+\n",
      "|              |   count |\n",
      "+==============+=========+\n",
      "| loc.adm.reg  |       1 |\n",
      "+--------------+---------+\n",
      "| loc.adm.town |       1 |\n",
      "+--------------+---------+\n",
      "| loc.fac      |      10 |\n",
      "+--------------+---------+\n",
      "| org.adm      |      75 |\n",
      "+--------------+---------+\n",
      "| org.ent      |       3 |\n",
      "+--------------+---------+\n",
      "| prod.media   |       1 |\n",
      "+--------------+---------+\n",
      "fine_comp\n",
      "+----------------+---------+\n",
      "|                |   count |\n",
      "+================+=========+\n",
      "| comp.demonym   |      16 |\n",
      "+----------------+---------+\n",
      "| comp.function  |      83 |\n",
      "+----------------+---------+\n",
      "| comp.name      |     225 |\n",
      "+----------------+---------+\n",
      "| comp.qualifier |       5 |\n",
      "+----------------+---------+\n",
      "| comp.title     |     139 |\n",
      "+----------------+---------+\n",
      "nested\n",
      "+----------------+---------+\n",
      "|                |   count |\n",
      "+================+=========+\n",
      "| loc.adm.nat    |      10 |\n",
      "+----------------+---------+\n",
      "| loc.adm.reg    |       5 |\n",
      "+----------------+---------+\n",
      "| loc.adm.town   |      26 |\n",
      "+----------------+---------+\n",
      "| loc.phys.geo   |       2 |\n",
      "+----------------+---------+\n",
      "| loc.phys.hydro |       2 |\n",
      "+----------------+---------+\n",
      "| org.adm        |       3 |\n",
      "+----------------+---------+\n",
      "| org.ent        |       7 |\n",
      "+----------------+---------+\n",
      "| pers.ind       |       9 |\n",
      "+----------------+---------+\n",
      "| time.date.abs  |       3 |\n",
      "+----------------+---------+\n",
      "\n"
     ]
    }
   ],
   "source": [
    "# print some basic stats for the TSV dataset \n",
    "print(describe_dataset(documents=hipe2020_dev_de_docs))"
   ]
  },
  {
   "cell_type": "markdown",
   "id": "578ab9f2",
   "metadata": {},
   "source": [
    "#### Train"
   ]
  },
  {
   "cell_type": "code",
   "execution_count": 54,
   "id": "34dd4006",
   "metadata": {},
   "outputs": [],
   "source": [
    "# parse the TSV into a list of `HipeDocument` objects\n",
    "hipe2020_train_de_docs = parse_tsv(file_path=hipe2020_train_de_path)"
   ]
  },
  {
   "cell_type": "code",
   "execution_count": 55,
   "id": "a5bbc258",
   "metadata": {},
   "outputs": [
    {
     "name": "stdout",
     "output_type": "stream",
     "text": [
      "\n",
      "Path of the TSV file: ./data/v1.0/hipe2020/de/HIPE-2022-v1.0-hipe2020-train-de.tsv \n",
      "Number of documents: 103 \n",
      "Number of entities: {'coarse_lit': 3494, 'coarse_meto': 325, 'fine_lit': 3494, 'fine_meto': 325, 'fine_comp': 1436, 'nested': 158} \n",
      "Number of tokens: 86445 \n",
      "Entity breakdown by type: coarse_lit\n",
      "+------+---------+\n",
      "|      |   count |\n",
      "+======+=========+\n",
      "| loc  |    1740 |\n",
      "+------+---------+\n",
      "| org  |     358 |\n",
      "+------+---------+\n",
      "| pers |    1166 |\n",
      "+------+---------+\n",
      "| prod |     112 |\n",
      "+------+---------+\n",
      "| time |     118 |\n",
      "+------+---------+\n",
      "coarse_meto\n",
      "+------+---------+\n",
      "|      |   count |\n",
      "+======+=========+\n",
      "| loc  |      17 |\n",
      "+------+---------+\n",
      "| org  |     306 |\n",
      "+------+---------+\n",
      "| pers |       2 |\n",
      "+------+---------+\n",
      "fine_lit\n",
      "+---------------------+---------+\n",
      "|                     |   count |\n",
      "+=====================+=========+\n",
      "| loc.add.phys        |       2 |\n",
      "+---------------------+---------+\n",
      "| loc.adm.nat         |     563 |\n",
      "+---------------------+---------+\n",
      "| loc.adm.reg         |     199 |\n",
      "+---------------------+---------+\n",
      "| loc.adm.sup         |      42 |\n",
      "+---------------------+---------+\n",
      "| loc.adm.town        |     687 |\n",
      "+---------------------+---------+\n",
      "| loc.fac             |      46 |\n",
      "+---------------------+---------+\n",
      "| loc.oro             |      52 |\n",
      "+---------------------+---------+\n",
      "| loc.phys.astro      |       2 |\n",
      "+---------------------+---------+\n",
      "| loc.phys.geo        |      58 |\n",
      "+---------------------+---------+\n",
      "| loc.phys.hydro      |      88 |\n",
      "+---------------------+---------+\n",
      "| loc.unk             |       1 |\n",
      "+---------------------+---------+\n",
      "| org.adm             |     136 |\n",
      "+---------------------+---------+\n",
      "| org.ent             |     196 |\n",
      "+---------------------+---------+\n",
      "| org.ent.pressagency |      26 |\n",
      "+---------------------+---------+\n",
      "| pers.coll           |      14 |\n",
      "+---------------------+---------+\n",
      "| pers.ind            |    1152 |\n",
      "+---------------------+---------+\n",
      "| prod.doctr          |      19 |\n",
      "+---------------------+---------+\n",
      "| prod.media          |      93 |\n",
      "+---------------------+---------+\n",
      "| time.date.abs       |     118 |\n",
      "+---------------------+---------+\n",
      "fine_meto\n",
      "+-------------+---------+\n",
      "|             |   count |\n",
      "+=============+=========+\n",
      "| loc.adm.reg |      17 |\n",
      "+-------------+---------+\n",
      "| org.adm     |     294 |\n",
      "+-------------+---------+\n",
      "| org.ent     |      12 |\n",
      "+-------------+---------+\n",
      "| pers.coll   |       1 |\n",
      "+-------------+---------+\n",
      "| pers.ind    |       1 |\n",
      "+-------------+---------+\n",
      "fine_comp\n",
      "+----------------+---------+\n",
      "|                |   count |\n",
      "+================+=========+\n",
      "| comp.demonym   |      30 |\n",
      "+----------------+---------+\n",
      "| comp.function  |     280 |\n",
      "+----------------+---------+\n",
      "| comp.name      |     703 |\n",
      "+----------------+---------+\n",
      "| comp.qualifier |      35 |\n",
      "+----------------+---------+\n",
      "| comp.title     |     388 |\n",
      "+----------------+---------+\n",
      "nested\n",
      "+----------------+---------+\n",
      "|                |   count |\n",
      "+================+=========+\n",
      "| loc.adm.nat    |      13 |\n",
      "+----------------+---------+\n",
      "| loc.adm.reg    |       3 |\n",
      "+----------------+---------+\n",
      "| loc.adm.sup    |       4 |\n",
      "+----------------+---------+\n",
      "| loc.adm.town   |      57 |\n",
      "+----------------+---------+\n",
      "| loc.fac        |       3 |\n",
      "+----------------+---------+\n",
      "| loc.oro        |       1 |\n",
      "+----------------+---------+\n",
      "| loc.phys.geo   |       2 |\n",
      "+----------------+---------+\n",
      "| loc.phys.hydro |      10 |\n",
      "+----------------+---------+\n",
      "| org.adm        |       9 |\n",
      "+----------------+---------+\n",
      "| org.ent        |      35 |\n",
      "+----------------+---------+\n",
      "| pers.coll      |       1 |\n",
      "+----------------+---------+\n",
      "| pers.ind       |      16 |\n",
      "+----------------+---------+\n",
      "| prod.media     |       1 |\n",
      "+----------------+---------+\n",
      "| time.date.abs  |       3 |\n",
      "+----------------+---------+\n",
      "\n"
     ]
    }
   ],
   "source": [
    "# print some basic stats for the TSV dataset \n",
    "print(describe_dataset(documents=hipe2020_train_de_docs))"
   ]
  },
  {
   "cell_type": "markdown",
   "id": "d6b097b1",
   "metadata": {},
   "source": [
    "### hipe2020 FR"
   ]
  },
  {
   "cell_type": "markdown",
   "id": "a2d08d45",
   "metadata": {},
   "source": [
    "#### Dev"
   ]
  },
  {
   "cell_type": "code",
   "execution_count": 56,
   "id": "34dd4006",
   "metadata": {},
   "outputs": [],
   "source": [
    "# parse the TSV into a list of `HipeDocument` objects\n",
    "hipe2020_dev_fr_docs = parse_tsv(file_path=hipe2020_dev_fr_path)"
   ]
  },
  {
   "cell_type": "code",
   "execution_count": 57,
   "id": "a5bbc258",
   "metadata": {},
   "outputs": [
    {
     "name": "stdout",
     "output_type": "stream",
     "text": [
      "\n",
      "Path of the TSV file: ./data/v1.0/hipe2020/fr/HIPE-2022-v1.0-hipe2020-dev-fr.tsv \n",
      "Number of documents: 43 \n",
      "Number of entities: {'coarse_lit': 1729, 'coarse_meto': 108, 'fine_lit': 1729, 'fine_meto': 108, 'fine_comp': 724, 'nested': 91} \n",
      "Number of tokens: 37953 \n",
      "Entity breakdown by type: coarse_lit\n",
      "+------+---------+\n",
      "|      |   count |\n",
      "+======+=========+\n",
      "| loc  |     774 |\n",
      "+------+---------+\n",
      "| org  |     159 |\n",
      "+------+---------+\n",
      "| pers |     679 |\n",
      "+------+---------+\n",
      "| prod |      49 |\n",
      "+------+---------+\n",
      "| time |      68 |\n",
      "+------+---------+\n",
      "coarse_meto\n",
      "+-----+---------+\n",
      "|     |   count |\n",
      "+=====+=========+\n",
      "| loc |       3 |\n",
      "+-----+---------+\n",
      "| org |     105 |\n",
      "+-----+---------+\n",
      "fine_lit\n",
      "+------------------------+---------+\n",
      "|                        |   count |\n",
      "+========================+=========+\n",
      "| loc.add.phys           |       1 |\n",
      "+------------------------+---------+\n",
      "| loc.adm.nat            |     258 |\n",
      "+------------------------+---------+\n",
      "| loc.adm.reg            |      73 |\n",
      "+------------------------+---------+\n",
      "| loc.adm.sup            |      27 |\n",
      "+------------------------+---------+\n",
      "| loc.adm.town           |     352 |\n",
      "+------------------------+---------+\n",
      "| loc.fac                |      11 |\n",
      "+------------------------+---------+\n",
      "| loc.oro                |      10 |\n",
      "+------------------------+---------+\n",
      "| loc.phys.geo           |      21 |\n",
      "+------------------------+---------+\n",
      "| loc.phys.hydro         |      18 |\n",
      "+------------------------+---------+\n",
      "| loc.unk                |       3 |\n",
      "+------------------------+---------+\n",
      "| org.adm                |      54 |\n",
      "+------------------------+---------+\n",
      "| org.ent                |      81 |\n",
      "+------------------------+---------+\n",
      "| org.ent.pressagency    |      24 |\n",
      "+------------------------+---------+\n",
      "| pers.coll              |      10 |\n",
      "+------------------------+---------+\n",
      "| pers.ind               |     655 |\n",
      "+------------------------+---------+\n",
      "| pers.ind.articleauthor |      14 |\n",
      "+------------------------+---------+\n",
      "| prod.doctr             |       2 |\n",
      "+------------------------+---------+\n",
      "| prod.media             |      47 |\n",
      "+------------------------+---------+\n",
      "| time.date.abs          |      68 |\n",
      "+------------------------+---------+\n",
      "fine_meto\n",
      "+---------+---------+\n",
      "|         |   count |\n",
      "+=========+=========+\n",
      "| loc.fac |       2 |\n",
      "+---------+---------+\n",
      "| loc.oro |       1 |\n",
      "+---------+---------+\n",
      "| org.adm |      79 |\n",
      "+---------+---------+\n",
      "| org.ent |      26 |\n",
      "+---------+---------+\n",
      "fine_comp\n",
      "+----------------+---------+\n",
      "|                |   count |\n",
      "+================+=========+\n",
      "| comp.demonym   |       7 |\n",
      "+----------------+---------+\n",
      "| comp.function  |     117 |\n",
      "+----------------+---------+\n",
      "| comp.name      |     343 |\n",
      "+----------------+---------+\n",
      "| comp.qualifier |       9 |\n",
      "+----------------+---------+\n",
      "| comp.title     |     248 |\n",
      "+----------------+---------+\n",
      "nested\n",
      "+----------------+---------+\n",
      "|                |   count |\n",
      "+================+=========+\n",
      "| loc.adm.nat    |      15 |\n",
      "+----------------+---------+\n",
      "| loc.adm.reg    |       5 |\n",
      "+----------------+---------+\n",
      "| loc.adm.town   |      37 |\n",
      "+----------------+---------+\n",
      "| loc.fac        |       1 |\n",
      "+----------------+---------+\n",
      "| loc.phys.geo   |       2 |\n",
      "+----------------+---------+\n",
      "| loc.phys.hydro |       5 |\n",
      "+----------------+---------+\n",
      "| org.adm        |       3 |\n",
      "+----------------+---------+\n",
      "| org.ent        |       8 |\n",
      "+----------------+---------+\n",
      "| pers.ind       |      14 |\n",
      "+----------------+---------+\n",
      "| prod.media     |       1 |\n",
      "+----------------+---------+\n",
      "\n"
     ]
    }
   ],
   "source": [
    "# print some basic stats for the TSV dataset \n",
    "print(describe_dataset(documents=hipe2020_dev_fr_docs))"
   ]
  },
  {
   "cell_type": "markdown",
   "id": "578ab9f2",
   "metadata": {},
   "source": [
    "#### Train"
   ]
  },
  {
   "cell_type": "code",
   "execution_count": 58,
   "id": "34dd4006",
   "metadata": {},
   "outputs": [],
   "source": [
    "# parse the TSV into a list of `HipeDocument` objects\n",
    "hipe2020_train_fr_docs = parse_tsv(file_path=hipe2020_train_fr_path)"
   ]
  },
  {
   "cell_type": "code",
   "execution_count": 59,
   "id": "a5bbc258",
   "metadata": {},
   "outputs": [
    {
     "name": "stdout",
     "output_type": "stream",
     "text": [
      "\n",
      "Path of the TSV file: ./data/v1.0/hipe2020/fr/HIPE-2022-v1.0-hipe2020-train-fr.tsv \n",
      "Number of documents: 158 \n",
      "Number of entities: {'coarse_lit': 6926, 'coarse_meto': 451, 'fine_lit': 6926, 'fine_meto': 451, 'fine_comp': 3051, 'nested': 473} \n",
      "Number of tokens: 166220 \n",
      "Entity breakdown by type: coarse_lit\n",
      "+------+---------+\n",
      "|      |   count |\n",
      "+======+=========+\n",
      "| comp |       1 |\n",
      "+------+---------+\n",
      "| loc  |    3088 |\n",
      "+------+---------+\n",
      "| org  |     836 |\n",
      "+------+---------+\n",
      "| pers |    2525 |\n",
      "+------+---------+\n",
      "| prod |     200 |\n",
      "+------+---------+\n",
      "| time |     276 |\n",
      "+------+---------+\n",
      "coarse_meto\n",
      "+-----+---------+\n",
      "|     |   count |\n",
      "+=====+=========+\n",
      "| loc |       7 |\n",
      "+-----+---------+\n",
      "| org |     444 |\n",
      "+-----+---------+\n",
      "fine_lit\n",
      "+------------------------+---------+\n",
      "|                        |   count |\n",
      "+========================+=========+\n",
      "| comp.name              |       1 |\n",
      "+------------------------+---------+\n",
      "| loc.add.elec           |       1 |\n",
      "+------------------------+---------+\n",
      "| loc.add.phys           |       3 |\n",
      "+------------------------+---------+\n",
      "| loc.adm.nat            |     648 |\n",
      "+------------------------+---------+\n",
      "| loc.adm.reg            |     376 |\n",
      "+------------------------+---------+\n",
      "| loc.adm.sup            |      63 |\n",
      "+------------------------+---------+\n",
      "| loc.adm.town           |    1687 |\n",
      "+------------------------+---------+\n",
      "| loc.fac                |      59 |\n",
      "+------------------------+---------+\n",
      "| loc.oro                |      91 |\n",
      "+------------------------+---------+\n",
      "| loc.phys.geo           |      84 |\n",
      "+------------------------+---------+\n",
      "| loc.phys.hydro         |      73 |\n",
      "+------------------------+---------+\n",
      "| loc.unk                |       3 |\n",
      "+------------------------+---------+\n",
      "| org.adm                |     208 |\n",
      "+------------------------+---------+\n",
      "| org.ent                |     571 |\n",
      "+------------------------+---------+\n",
      "| org.ent.pressagency    |      57 |\n",
      "+------------------------+---------+\n",
      "| pers.coll              |      20 |\n",
      "+------------------------+---------+\n",
      "| pers.ind               |    2407 |\n",
      "+------------------------+---------+\n",
      "| pers.ind.articleauthor |      98 |\n",
      "+------------------------+---------+\n",
      "| prod.doctr             |      48 |\n",
      "+------------------------+---------+\n",
      "| prod.media             |     152 |\n",
      "+------------------------+---------+\n",
      "| time.date.abs          |     276 |\n",
      "+------------------------+---------+\n",
      "fine_meto\n",
      "+--------------+---------+\n",
      "|              |   count |\n",
      "+==============+=========+\n",
      "| loc.adm.town |       2 |\n",
      "+--------------+---------+\n",
      "| loc.fac      |       1 |\n",
      "+--------------+---------+\n",
      "| loc.oro      |       4 |\n",
      "+--------------+---------+\n",
      "| org.adm      |     307 |\n",
      "+--------------+---------+\n",
      "| org.ent      |     137 |\n",
      "+--------------+---------+\n",
      "fine_comp\n",
      "+----------------+---------+\n",
      "|                |   count |\n",
      "+================+=========+\n",
      "| comp.demonym   |      22 |\n",
      "+----------------+---------+\n",
      "| comp.function  |     535 |\n",
      "+----------------+---------+\n",
      "| comp.name      |    1477 |\n",
      "+----------------+---------+\n",
      "| comp.qualifier |      24 |\n",
      "+----------------+---------+\n",
      "| comp.title     |     993 |\n",
      "+----------------+---------+\n",
      "nested\n",
      "+----------------+---------+\n",
      "|                |   count |\n",
      "+================+=========+\n",
      "| loc.adm.nat    |      76 |\n",
      "+----------------+---------+\n",
      "| loc.adm.reg    |      36 |\n",
      "+----------------+---------+\n",
      "| loc.adm.sup    |       5 |\n",
      "+----------------+---------+\n",
      "| loc.adm.town   |     251 |\n",
      "+----------------+---------+\n",
      "| loc.fac        |       2 |\n",
      "+----------------+---------+\n",
      "| loc.oro        |       4 |\n",
      "+----------------+---------+\n",
      "| loc.phys.geo   |       9 |\n",
      "+----------------+---------+\n",
      "| loc.phys.hydro |      12 |\n",
      "+----------------+---------+\n",
      "| org.adm        |      11 |\n",
      "+----------------+---------+\n",
      "| org.ent        |      53 |\n",
      "+----------------+---------+\n",
      "| pers.coll      |       3 |\n",
      "+----------------+---------+\n",
      "| pers.ind       |      11 |\n",
      "+----------------+---------+\n",
      "\n"
     ]
    }
   ],
   "source": [
    "# print some basic stats for the TSV dataset \n",
    "print(describe_dataset(documents=hipe2020_train_fr_docs))"
   ]
  },
  {
   "cell_type": "markdown",
   "id": "3f7ef9e3",
   "metadata": {},
   "source": [
    "## letemps\n",
    "\n",
    "See the [README file](./documentation/README-letemps.md) for detailed information about this dataset."
   ]
  },
  {
   "cell_type": "markdown",
   "id": "b0891649",
   "metadata": {},
   "source": [
    "### File paths"
   ]
  },
  {
   "cell_type": "code",
   "execution_count": 60,
   "id": "b56444c5",
   "metadata": {},
   "outputs": [],
   "source": [
    "letemps_dev_fr_path = os.path.join(HIPE2022_data_path, \"letemps/fr/HIPE-2022-v1.0-letemps-dev-fr.tsv\")"
   ]
  },
  {
   "cell_type": "code",
   "execution_count": 61,
   "id": "d12057aa",
   "metadata": {},
   "outputs": [],
   "source": [
    "letemps_train_fr_path = os.path.join(HIPE2022_data_path, \"letemps/fr/HIPE-2022-v1.0-letemps-train-fr.tsv\")"
   ]
  },
  {
   "cell_type": "markdown",
   "id": "a2d08d45",
   "metadata": {},
   "source": [
    "#### Dev"
   ]
  },
  {
   "cell_type": "code",
   "execution_count": 62,
   "id": "34dd4006",
   "metadata": {},
   "outputs": [],
   "source": [
    "# parse the TSV into a list of `HipeDocument` objects\n",
    "letemps_dev_fr_docs = parse_tsv(file_path=letemps_dev_fr_path)"
   ]
  },
  {
   "cell_type": "code",
   "execution_count": 63,
   "id": "a5bbc258",
   "metadata": {},
   "outputs": [
    {
     "name": "stdout",
     "output_type": "stream",
     "text": [
      "\n",
      "Path of the TSV file: ./data/v1.0/letemps/fr/HIPE-2022-v1.0-letemps-dev-fr.tsv \n",
      "Number of documents: 51 \n",
      "Number of entities: {'coarse_lit': 869, 'fine_lit': 869, 'nested': 12} \n",
      "Number of tokens: 38649 \n",
      "Entity breakdown by type: coarse_lit\n",
      "+------+---------+\n",
      "|      |   count |\n",
      "+======+=========+\n",
      "| loc  |     516 |\n",
      "+------+---------+\n",
      "| org  |      41 |\n",
      "+------+---------+\n",
      "| pers |     312 |\n",
      "+------+---------+\n",
      "fine_lit\n",
      "+----------------+---------+\n",
      "|                |   count |\n",
      "+================+=========+\n",
      "| loc            |      16 |\n",
      "+----------------+---------+\n",
      "| loc.add        |       2 |\n",
      "+----------------+---------+\n",
      "| loc.add.phys   |      21 |\n",
      "+----------------+---------+\n",
      "| loc.adm        |      20 |\n",
      "+----------------+---------+\n",
      "| loc.adm.nat    |     104 |\n",
      "+----------------+---------+\n",
      "| loc.adm.reg    |      45 |\n",
      "+----------------+---------+\n",
      "| loc.adm.town   |     270 |\n",
      "+----------------+---------+\n",
      "| loc.admin.sup  |       1 |\n",
      "+----------------+---------+\n",
      "| loc.phys.geo   |      25 |\n",
      "+----------------+---------+\n",
      "| loc.phys.hydro |      12 |\n",
      "+----------------+---------+\n",
      "| org.adm        |      12 |\n",
      "+----------------+---------+\n",
      "| org.ent        |      29 |\n",
      "+----------------+---------+\n",
      "| pers           |       4 |\n",
      "+----------------+---------+\n",
      "| pers.coll      |       7 |\n",
      "+----------------+---------+\n",
      "| pers.ind       |     301 |\n",
      "+----------------+---------+\n",
      "nested\n",
      "+--------------+---------+\n",
      "|              |   count |\n",
      "+==============+=========+\n",
      "| loc.adm.nat  |      10 |\n",
      "+--------------+---------+\n",
      "| loc.adm.town |       1 |\n",
      "+--------------+---------+\n",
      "| pers.ind     |       1 |\n",
      "+--------------+---------+\n",
      "\n"
     ]
    }
   ],
   "source": [
    "# print some basic stats for the TSV dataset \n",
    "print(describe_dataset(documents=letemps_dev_fr_docs))"
   ]
  },
  {
   "cell_type": "markdown",
   "id": "578ab9f2",
   "metadata": {},
   "source": [
    "#### Train"
   ]
  },
  {
   "cell_type": "code",
   "execution_count": 64,
   "id": "34dd4006",
   "metadata": {},
   "outputs": [],
   "source": [
    "# parse the TSV into a list of `HipeDocument` objects\n",
    "letemps_train_fr_docs = parse_tsv(file_path=letemps_train_fr_path)"
   ]
  },
  {
   "cell_type": "code",
   "execution_count": 65,
   "id": "a5bbc258",
   "metadata": {},
   "outputs": [
    {
     "name": "stdout",
     "output_type": "stream",
     "text": [
      "\n",
      "Path of the TSV file: ./data/v1.0/letemps/fr/HIPE-2022-v1.0-letemps-train-fr.tsv \n",
      "Number of documents: 414 \n",
      "Number of entities: {'coarse_lit': 9159, 'fine_lit': 9159, 'nested': 69} \n",
      "Number of tokens: 379487 \n",
      "Entity breakdown by type: coarse_lit\n",
      "+------+---------+\n",
      "|      |   count |\n",
      "+======+=========+\n",
      "| loc  |    5260 |\n",
      "+------+---------+\n",
      "| org  |     472 |\n",
      "+------+---------+\n",
      "| pers |    3427 |\n",
      "+------+---------+\n",
      "fine_lit\n",
      "+----------------+---------+\n",
      "|                |   count |\n",
      "+================+=========+\n",
      "| loc            |     262 |\n",
      "+----------------+---------+\n",
      "| loc.add        |       3 |\n",
      "+----------------+---------+\n",
      "| loc.add.phys   |     169 |\n",
      "+----------------+---------+\n",
      "| loc.adm        |     111 |\n",
      "+----------------+---------+\n",
      "| loc.adm.nat    |    1097 |\n",
      "+----------------+---------+\n",
      "| loc.adm.reg    |     477 |\n",
      "+----------------+---------+\n",
      "| loc.adm.town   |    2713 |\n",
      "+----------------+---------+\n",
      "| loc.admin.sup  |      33 |\n",
      "+----------------+---------+\n",
      "| loc.oro        |      13 |\n",
      "+----------------+---------+\n",
      "| loc.phys       |      10 |\n",
      "+----------------+---------+\n",
      "| loc.phys.astro |      10 |\n",
      "+----------------+---------+\n",
      "| loc.phys.geo   |     268 |\n",
      "+----------------+---------+\n",
      "| loc.phys.hydro |      94 |\n",
      "+----------------+---------+\n",
      "| org.adm        |     171 |\n",
      "+----------------+---------+\n",
      "| org.ent        |     301 |\n",
      "+----------------+---------+\n",
      "| pers           |      45 |\n",
      "+----------------+---------+\n",
      "| pers.coll      |     149 |\n",
      "+----------------+---------+\n",
      "| pers.ind       |    3233 |\n",
      "+----------------+---------+\n",
      "nested\n",
      "+----------------+---------+\n",
      "|                |   count |\n",
      "+================+=========+\n",
      "| loc.adm.nat    |       9 |\n",
      "+----------------+---------+\n",
      "| loc.adm.reg    |       5 |\n",
      "+----------------+---------+\n",
      "| loc.adm.town   |      43 |\n",
      "+----------------+---------+\n",
      "| loc.phys.geo   |       5 |\n",
      "+----------------+---------+\n",
      "| loc.phys.hydro |       1 |\n",
      "+----------------+---------+\n",
      "| org.ent        |       1 |\n",
      "+----------------+---------+\n",
      "| pers.ind       |       5 |\n",
      "+----------------+---------+\n",
      "\n"
     ]
    }
   ],
   "source": [
    "# print some basic stats for the TSV dataset \n",
    "print(describe_dataset(documents=letemps_train_fr_docs))"
   ]
  },
  {
   "cell_type": "markdown",
   "id": "e7875d7c",
   "metadata": {},
   "source": [
    "## topRes19th\n",
    "\n",
    "See the [README file](./documentation/README-topres19th.md) for detailed information about this dataset."
   ]
  },
  {
   "cell_type": "markdown",
   "id": "815c335e",
   "metadata": {},
   "source": [
    "### File paths"
   ]
  },
  {
   "cell_type": "code",
   "execution_count": 66,
   "id": "273054a9",
   "metadata": {},
   "outputs": [],
   "source": [
    "topRes19th_dev_en_path = os.path.join(HIPE2022_data_path, \"topRes19th/en/HIPE-2022-v1.0-topRes19th-dev-en.tsv\")"
   ]
  },
  {
   "cell_type": "code",
   "execution_count": 67,
   "id": "0f42ded3",
   "metadata": {},
   "outputs": [],
   "source": [
    "topRes19th_train_en_path = os.path.join(HIPE2022_data_path, \"topRes19th/en/HIPE-2022-v1.0-topRes19th-train-en.tsv\")"
   ]
  },
  {
   "cell_type": "markdown",
   "id": "37cda1ab",
   "metadata": {},
   "source": [
    "#### Dev"
   ]
  },
  {
   "cell_type": "code",
   "execution_count": 68,
   "id": "34dd4006",
   "metadata": {},
   "outputs": [],
   "source": [
    "# parse the TSV into a list of `HipeDocument` objects\n",
    "topRes19th_dev_en_docs = parse_tsv(file_path=topRes19th_dev_en_path)"
   ]
  },
  {
   "cell_type": "code",
   "execution_count": 69,
   "id": "a5bbc258",
   "metadata": {},
   "outputs": [
    {
     "name": "stdout",
     "output_type": "stream",
     "text": [
      "\n",
      "Path of the TSV file: ./data/v1.0/topRes19th/en/HIPE-2022-v1.0-topRes19th-dev-en.tsv \n",
      "Number of documents: 34 \n",
      "Number of entities: {'coarse_lit': 237} \n",
      "Number of tokens: 11917 \n",
      "Entity breakdown by type: coarse_lit\n",
      "+----------+---------+\n",
      "|          |   count |\n",
      "+==========+=========+\n",
      "| BUILDING |      19 |\n",
      "+----------+---------+\n",
      "| LOC      |     201 |\n",
      "+----------+---------+\n",
      "| STREET   |      17 |\n",
      "+----------+---------+\n",
      "\n"
     ]
    }
   ],
   "source": [
    "# print some basic stats for the TSV dataset \n",
    "print(describe_dataset(documents=topRes19th_dev_en_docs))"
   ]
  },
  {
   "cell_type": "markdown",
   "id": "078d355b",
   "metadata": {},
   "source": [
    "#### Train"
   ]
  },
  {
   "cell_type": "code",
   "execution_count": 70,
   "id": "34dd4006",
   "metadata": {},
   "outputs": [],
   "source": [
    "# parse the TSV into a list of `HipeDocument` objects\n",
    "topRes19th_train_en_docs = parse_tsv(file_path=topRes19th_train_en_path)"
   ]
  },
  {
   "cell_type": "code",
   "execution_count": 71,
   "id": "a5bbc258",
   "metadata": {},
   "outputs": [
    {
     "name": "stdout",
     "output_type": "stream",
     "text": [
      "\n",
      "Path of the TSV file: ./data/v1.0/topRes19th/en/HIPE-2022-v1.0-topRes19th-train-en.tsv \n",
      "Number of documents: 309 \n",
      "Number of entities: {'coarse_lit': 3182} \n",
      "Number of tokens: 123983 \n",
      "Entity breakdown by type: coarse_lit\n",
      "+----------+---------+\n",
      "|          |   count |\n",
      "+==========+=========+\n",
      "| BUILDING |     359 |\n",
      "+----------+---------+\n",
      "| LOC      |    2580 |\n",
      "+----------+---------+\n",
      "| STREET   |     243 |\n",
      "+----------+---------+\n",
      "\n"
     ]
    }
   ],
   "source": [
    "# print some basic stats for the TSV dataset \n",
    "print(describe_dataset(documents=topRes19th_train_en_docs))"
   ]
  },
  {
   "cell_type": "markdown",
   "id": "05344548",
   "metadata": {},
   "source": [
    "## newseye\n",
    "\n",
    "See the [README file](./documentation/README-newseye.md) for detailed information about this dataset."
   ]
  },
  {
   "cell_type": "markdown",
   "id": "4631efca",
   "metadata": {},
   "source": [
    "### File paths"
   ]
  },
  {
   "cell_type": "code",
   "execution_count": 76,
   "id": "45ea17b2",
   "metadata": {},
   "outputs": [],
   "source": [
    "newseye_dev_fr_path = os.path.join(HIPE2022_data_path, \"newseye/fr/HIPE-2022-v1.0-newseye-dev-fr.tsv\")"
   ]
  },
  {
   "cell_type": "code",
   "execution_count": 80,
   "id": "b01ae55b",
   "metadata": {},
   "outputs": [],
   "source": [
    "newseye_train_fr_path = os.path.join(HIPE2022_data_path, \"newseye/fr/HIPE-2022-v1.0-newseye-train-fr.tsv\")"
   ]
  },
  {
   "cell_type": "code",
   "execution_count": 81,
   "id": "45ea17b2",
   "metadata": {},
   "outputs": [],
   "source": [
    "newseye_dev_de_path = os.path.join(HIPE2022_data_path, \"newseye/de/HIPE-2022-v1.0-newseye-dev-de.tsv\")"
   ]
  },
  {
   "cell_type": "code",
   "execution_count": 82,
   "id": "b01ae55b",
   "metadata": {},
   "outputs": [],
   "source": [
    "newseye_train_de_path = os.path.join(HIPE2022_data_path, \"newseye/de/HIPE-2022-v1.0-newseye-train-de.tsv\")"
   ]
  },
  {
   "cell_type": "code",
   "execution_count": 95,
   "id": "45ea17b2",
   "metadata": {},
   "outputs": [],
   "source": [
    "newseye_dev_fi_path = os.path.join(HIPE2022_data_path, \"newseye/fi/HIPE-2022-v1.0-newseye-dev-fi.tsv\")"
   ]
  },
  {
   "cell_type": "code",
   "execution_count": 96,
   "id": "b01ae55b",
   "metadata": {},
   "outputs": [],
   "source": [
    "newseye_train_fi_path = os.path.join(HIPE2022_data_path, \"newseye/fi/HIPE-2022-v1.0-newseye-train-fi.tsv\")"
   ]
  },
  {
   "cell_type": "code",
   "execution_count": 97,
   "id": "45ea17b2",
   "metadata": {},
   "outputs": [],
   "source": [
    "newseye_dev_sv_path = os.path.join(HIPE2022_data_path, \"newseye/sv/HIPE-2022-v1.0-newseye-dev-sv.tsv\")"
   ]
  },
  {
   "cell_type": "code",
   "execution_count": 103,
   "id": "b01ae55b",
   "metadata": {},
   "outputs": [],
   "source": [
    "newseye_train_sv_path = os.path.join(HIPE2022_data_path, \"newseye/sv/HIPE-2022-v1.0-newseye-train-sv.tsv\")"
   ]
  },
  {
   "cell_type": "markdown",
   "id": "8ab57da2",
   "metadata": {},
   "source": [
    "### newseye FR"
   ]
  },
  {
   "cell_type": "markdown",
   "id": "ee75b3f1",
   "metadata": {},
   "source": [
    "#### Dev"
   ]
  },
  {
   "cell_type": "code",
   "execution_count": 78,
   "id": "34dd4006",
   "metadata": {},
   "outputs": [],
   "source": [
    "# parse the TSV into a list of `HipeDocument` objects\n",
    "newseye_dev_fr_docs = parse_tsv(file_path=newseye_dev_fr_path)"
   ]
  },
  {
   "cell_type": "code",
   "execution_count": 79,
   "id": "a5bbc258",
   "metadata": {},
   "outputs": [
    {
     "name": "stdout",
     "output_type": "stream",
     "text": [
      "\n",
      "Path of the TSV file: ./data/v1.0/newseye/fr/HIPE-2022-v1.0-newseye-dev-fr.tsv \n",
      "Number of documents: 1 \n",
      "Number of entities: {'coarse_lit': 752, 'fine_lit': 3, 'nested': 32} \n",
      "Number of tokens: 21727 \n",
      "Entity breakdown by type: coarse_lit\n",
      "+-----------+---------+\n",
      "|           |   count |\n",
      "+===========+=========+\n",
      "| HumanProd |      11 |\n",
      "+-----------+---------+\n",
      "| LOC       |     335 |\n",
      "+-----------+---------+\n",
      "| ORG       |     113 |\n",
      "+-----------+---------+\n",
      "| PER       |     293 |\n",
      "+-----------+---------+\n",
      "fine_lit\n",
      "+------------+---------+\n",
      "|            |   count |\n",
      "+============+=========+\n",
      "| PER.author |       3 |\n",
      "+------------+---------+\n",
      "nested\n",
      "+-----------+---------+\n",
      "|           |   count |\n",
      "+===========+=========+\n",
      "| HumanProd |       1 |\n",
      "+-----------+---------+\n",
      "| LOC       |      18 |\n",
      "+-----------+---------+\n",
      "| ORG       |       7 |\n",
      "+-----------+---------+\n",
      "| PER       |       6 |\n",
      "+-----------+---------+\n",
      "\n"
     ]
    }
   ],
   "source": [
    "# print some basic stats for the TSV dataset \n",
    "print(describe_dataset(documents=newseye_dev_fr_docs))"
   ]
  },
  {
   "cell_type": "markdown",
   "id": "e2468467",
   "metadata": {},
   "source": [
    "#### Train"
   ]
  },
  {
   "cell_type": "code",
   "execution_count": 83,
   "id": "34dd4006",
   "metadata": {},
   "outputs": [],
   "source": [
    "# parse the TSV into a list of `HipeDocument` objects\n",
    "newseye_train_fr_docs = parse_tsv(file_path=newseye_train_fr_path)"
   ]
  },
  {
   "cell_type": "code",
   "execution_count": 84,
   "id": "a5bbc258",
   "metadata": {},
   "outputs": [
    {
     "name": "stdout",
     "output_type": "stream",
     "text": [
      "\n",
      "Path of the TSV file: ./data/v1.0/newseye/fr/HIPE-2022-v1.0-newseye-train-fr.tsv \n",
      "Number of documents: 1 \n",
      "Number of entities: {'coarse_lit': 10423, 'fine_lit': 99, 'nested': 522} \n",
      "Number of tokens: 255165 \n",
      "Entity breakdown by type: coarse_lit\n",
      "+-----------+---------+\n",
      "|           |   count |\n",
      "+===========+=========+\n",
      "| HumanProd |     200 |\n",
      "+-----------+---------+\n",
      "| LOC       |    4055 |\n",
      "+-----------+---------+\n",
      "| ORG       |    1285 |\n",
      "+-----------+---------+\n",
      "| PER       |    4883 |\n",
      "+-----------+---------+\n",
      "fine_lit\n",
      "+------------+---------+\n",
      "|            |   count |\n",
      "+============+=========+\n",
      "| PER.author |      99 |\n",
      "+------------+---------+\n",
      "nested\n",
      "+-----------+---------+\n",
      "|           |   count |\n",
      "+===========+=========+\n",
      "| HumanProd |       6 |\n",
      "+-----------+---------+\n",
      "| LOC       |     263 |\n",
      "+-----------+---------+\n",
      "| ORG       |     212 |\n",
      "+-----------+---------+\n",
      "| PER       |      41 |\n",
      "+-----------+---------+\n",
      "\n"
     ]
    }
   ],
   "source": [
    "# print some basic stats for the TSV dataset \n",
    "print(describe_dataset(documents=newseye_train_fr_docs))"
   ]
  },
  {
   "cell_type": "markdown",
   "id": "1651d391",
   "metadata": {},
   "source": [
    "### newseye DE"
   ]
  },
  {
   "cell_type": "markdown",
   "id": "ee75b3f1",
   "metadata": {},
   "source": [
    "#### Dev"
   ]
  },
  {
   "cell_type": "code",
   "execution_count": 88,
   "id": "34dd4006",
   "metadata": {},
   "outputs": [],
   "source": [
    "# parse the TSV into a list of `HipeDocument` objects\n",
    "newseye_dev_de_docs = parse_tsv(file_path=newseye_dev_de_path)"
   ]
  },
  {
   "cell_type": "code",
   "execution_count": 89,
   "id": "a5bbc258",
   "metadata": {},
   "outputs": [
    {
     "name": "stdout",
     "output_type": "stream",
     "text": [
      "\n",
      "Path of the TSV file: ./data/v1.0/newseye/de/HIPE-2022-v1.0-newseye-dev-de.tsv \n",
      "Number of documents: 1 \n",
      "Number of entities: {'coarse_lit': 539, 'fine_lit': 5, 'nested': 29} \n",
      "Number of tokens: 40061 \n",
      "Entity breakdown by type: coarse_lit\n",
      "+-----------+---------+\n",
      "|           |   count |\n",
      "+===========+=========+\n",
      "| HumanProd |       4 |\n",
      "+-----------+---------+\n",
      "| LOC       |     263 |\n",
      "+-----------+---------+\n",
      "| ORG       |     123 |\n",
      "+-----------+---------+\n",
      "| PER       |     149 |\n",
      "+-----------+---------+\n",
      "fine_lit\n",
      "+------------+---------+\n",
      "|            |   count |\n",
      "+============+=========+\n",
      "| PER.author |       5 |\n",
      "+------------+---------+\n",
      "nested\n",
      "+-----+---------+\n",
      "|     |   count |\n",
      "+=====+=========+\n",
      "| LOC |      10 |\n",
      "+-----+---------+\n",
      "| ORG |      11 |\n",
      "+-----+---------+\n",
      "| PER |       8 |\n",
      "+-----+---------+\n",
      "\n"
     ]
    }
   ],
   "source": [
    "# print some basic stats for the TSV dataset \n",
    "print(describe_dataset(documents=newseye_dev_de_docs))"
   ]
  },
  {
   "cell_type": "markdown",
   "id": "e2468467",
   "metadata": {},
   "source": [
    "#### Train"
   ]
  },
  {
   "cell_type": "code",
   "execution_count": 90,
   "id": "34dd4006",
   "metadata": {},
   "outputs": [],
   "source": [
    "# parse the TSV into a list of `HipeDocument` objects\n",
    "newseye_train_de_docs = parse_tsv(file_path=newseye_train_de_path)"
   ]
  },
  {
   "cell_type": "code",
   "execution_count": 91,
   "id": "a5bbc258",
   "metadata": {},
   "outputs": [
    {
     "name": "stdout",
     "output_type": "stream",
     "text": [
      "\n",
      "Path of the TSV file: ./data/v1.0/newseye/de/HIPE-2022-v1.0-newseye-train-de.tsv \n",
      "Number of documents: 1 \n",
      "Number of entities: {'coarse_lit': 11397, 'fine_lit': 21, 'nested': 1134} \n",
      "Number of tokens: 448243 \n",
      "Entity breakdown by type: coarse_lit\n",
      "+-----------+---------+\n",
      "|           |   count |\n",
      "+===========+=========+\n",
      "| HumanProd |      37 |\n",
      "+-----------+---------+\n",
      "| LOC       |    5144 |\n",
      "+-----------+---------+\n",
      "| ORG       |    3110 |\n",
      "+-----------+---------+\n",
      "| PER       |    3106 |\n",
      "+-----------+---------+\n",
      "fine_lit\n",
      "+------------+---------+\n",
      "|            |   count |\n",
      "+============+=========+\n",
      "| PER.author |      21 |\n",
      "+------------+---------+\n",
      "nested\n",
      "+-----------+---------+\n",
      "|           |   count |\n",
      "+===========+=========+\n",
      "| HumanProd |       2 |\n",
      "+-----------+---------+\n",
      "| LOC       |     755 |\n",
      "+-----------+---------+\n",
      "| ORG       |     136 |\n",
      "+-----------+---------+\n",
      "| PER       |     241 |\n",
      "+-----------+---------+\n",
      "\n"
     ]
    }
   ],
   "source": [
    "# print some basic stats for the TSV dataset \n",
    "print(describe_dataset(documents=newseye_train_de_docs))"
   ]
  },
  {
   "cell_type": "markdown",
   "id": "06c61634",
   "metadata": {},
   "source": [
    "### newseye FI"
   ]
  },
  {
   "cell_type": "markdown",
   "id": "ee75b3f1",
   "metadata": {},
   "source": [
    "#### Dev"
   ]
  },
  {
   "cell_type": "code",
   "execution_count": 99,
   "id": "34dd4006",
   "metadata": {},
   "outputs": [],
   "source": [
    "# parse the TSV into a list of `HipeDocument` objects\n",
    "newseye_dev_fi_docs = parse_tsv(file_path=newseye_dev_fi_path)"
   ]
  },
  {
   "cell_type": "code",
   "execution_count": 100,
   "id": "a5bbc258",
   "metadata": {},
   "outputs": [
    {
     "name": "stdout",
     "output_type": "stream",
     "text": [
      "\n",
      "Path of the TSV file: ./data/v1.0/newseye/fi/HIPE-2022-v1.0-newseye-dev-fi.tsv \n",
      "Number of documents: 1 \n",
      "Number of entities: {'coarse_lit': 223, 'fine_lit': 1, 'nested': 26} \n",
      "Number of tokens: 6350 \n",
      "Entity breakdown by type: coarse_lit\n",
      "+-----------+---------+\n",
      "|           |   count |\n",
      "+===========+=========+\n",
      "| HumanProd |      12 |\n",
      "+-----------+---------+\n",
      "| LOC       |      97 |\n",
      "+-----------+---------+\n",
      "| ORG       |      37 |\n",
      "+-----------+---------+\n",
      "| PER       |      77 |\n",
      "+-----------+---------+\n",
      "fine_lit\n",
      "+------------+---------+\n",
      "|            |   count |\n",
      "+============+=========+\n",
      "| PER.author |       1 |\n",
      "+------------+---------+\n",
      "nested\n",
      "+-----+---------+\n",
      "|     |   count |\n",
      "+=====+=========+\n",
      "| LOC |      22 |\n",
      "+-----+---------+\n",
      "| ORG |       2 |\n",
      "+-----+---------+\n",
      "| PER |       2 |\n",
      "+-----+---------+\n",
      "\n"
     ]
    }
   ],
   "source": [
    "# print some basic stats for the TSV dataset \n",
    "print(describe_dataset(documents=newseye_dev_fi_docs))"
   ]
  },
  {
   "cell_type": "markdown",
   "id": "e2468467",
   "metadata": {},
   "source": [
    "#### Train"
   ]
  },
  {
   "cell_type": "code",
   "execution_count": 104,
   "id": "34dd4006",
   "metadata": {},
   "outputs": [],
   "source": [
    "# parse the TSV into a list of `HipeDocument` objects\n",
    "newseye_train_fi_docs = parse_tsv(file_path=newseye_train_fi_path)"
   ]
  },
  {
   "cell_type": "code",
   "execution_count": 105,
   "id": "a5bbc258",
   "metadata": {},
   "outputs": [
    {
     "name": "stdout",
     "output_type": "stream",
     "text": [
      "\n",
      "Path of the TSV file: ./data/v1.0/newseye/fi/HIPE-2022-v1.0-newseye-train-fi.tsv \n",
      "Number of documents: 1 \n",
      "Number of entities: {'coarse_lit': 2146, 'fine_lit': 15, 'nested': 225} \n",
      "Number of tokens: 48222 \n",
      "Entity breakdown by type: coarse_lit\n",
      "+-----------+---------+\n",
      "|           |   count |\n",
      "+===========+=========+\n",
      "| HumanProd |     126 |\n",
      "+-----------+---------+\n",
      "| LOC       |     979 |\n",
      "+-----------+---------+\n",
      "| ORG       |     259 |\n",
      "+-----------+---------+\n",
      "| PER       |     782 |\n",
      "+-----------+---------+\n",
      "fine_lit\n",
      "+------------+---------+\n",
      "|            |   count |\n",
      "+============+=========+\n",
      "| PER.author |      15 |\n",
      "+------------+---------+\n",
      "nested\n",
      "+-----------+---------+\n",
      "|           |   count |\n",
      "+===========+=========+\n",
      "| HumanProd |       2 |\n",
      "+-----------+---------+\n",
      "| LOC       |     171 |\n",
      "+-----------+---------+\n",
      "| ORG       |      35 |\n",
      "+-----------+---------+\n",
      "| PER       |      17 |\n",
      "+-----------+---------+\n",
      "\n"
     ]
    }
   ],
   "source": [
    "# print some basic stats for the TSV dataset \n",
    "print(describe_dataset(documents=newseye_train_fi_docs))"
   ]
  },
  {
   "cell_type": "markdown",
   "id": "dfa18022",
   "metadata": {},
   "source": [
    "### newseye SV"
   ]
  },
  {
   "cell_type": "markdown",
   "id": "ee75b3f1",
   "metadata": {},
   "source": [
    "#### Dev"
   ]
  },
  {
   "cell_type": "code",
   "execution_count": 109,
   "id": "34dd4006",
   "metadata": {},
   "outputs": [],
   "source": [
    "# parse the TSV into a list of `HipeDocument` objects\n",
    "newseye_dev_sv_docs = parse_tsv(file_path=newseye_dev_sv_path)"
   ]
  },
  {
   "cell_type": "code",
   "execution_count": 110,
   "id": "a5bbc258",
   "metadata": {},
   "outputs": [
    {
     "name": "stdout",
     "output_type": "stream",
     "text": [
      "\n",
      "Path of the TSV file: ./data/v1.0/newseye/sv/HIPE-2022-v1.0-newseye-dev-sv.tsv \n",
      "Number of documents: 1 \n",
      "Number of entities: {'coarse_lit': 266, 'fine_lit': 1, 'nested': 9} \n",
      "Number of tokens: 6906 \n",
      "Entity breakdown by type: coarse_lit\n",
      "+-----------+---------+\n",
      "|           |   count |\n",
      "+===========+=========+\n",
      "| HumanProd |      17 |\n",
      "+-----------+---------+\n",
      "| LOC       |     148 |\n",
      "+-----------+---------+\n",
      "| ORG       |      17 |\n",
      "+-----------+---------+\n",
      "| PER       |      84 |\n",
      "+-----------+---------+\n",
      "fine_lit\n",
      "+------------+---------+\n",
      "|            |   count |\n",
      "+============+=========+\n",
      "| PER.author |       1 |\n",
      "+------------+---------+\n",
      "nested\n",
      "+-----+---------+\n",
      "|     |   count |\n",
      "+=====+=========+\n",
      "| LOC |       7 |\n",
      "+-----+---------+\n",
      "| ORG |       1 |\n",
      "+-----+---------+\n",
      "| PER |       1 |\n",
      "+-----+---------+\n",
      "\n"
     ]
    }
   ],
   "source": [
    "# print some basic stats for the TSV dataset \n",
    "print(describe_dataset(documents=newseye_dev_sv_docs))"
   ]
  },
  {
   "cell_type": "markdown",
   "id": "e2468467",
   "metadata": {},
   "source": [
    "#### Train"
   ]
  },
  {
   "cell_type": "code",
   "execution_count": 111,
   "id": "34dd4006",
   "metadata": {},
   "outputs": [],
   "source": [
    "# parse the TSV into a list of `HipeDocument` objects\n",
    "newseye_train_sv_docs = parse_tsv(file_path=newseye_train_sv_path)"
   ]
  },
  {
   "cell_type": "code",
   "execution_count": 112,
   "id": "a5bbc258",
   "metadata": {},
   "outputs": [
    {
     "name": "stdout",
     "output_type": "stream",
     "text": [
      "\n",
      "Path of the TSV file: ./data/v1.0/newseye/sv/HIPE-2022-v1.0-newseye-train-sv.tsv \n",
      "Number of documents: 1 \n",
      "Number of entities: {'coarse_lit': 2141, 'fine_lit': 16, 'nested': 126} \n",
      "Number of tokens: 56306 \n",
      "Entity breakdown by type: coarse_lit\n",
      "+-----------+---------+\n",
      "|           |   count |\n",
      "+===========+=========+\n",
      "| HumanProd |     164 |\n",
      "+-----------+---------+\n",
      "| LOC       |     985 |\n",
      "+-----------+---------+\n",
      "| ORG       |     153 |\n",
      "+-----------+---------+\n",
      "| PER       |     839 |\n",
      "+-----------+---------+\n",
      "fine_lit\n",
      "+------------+---------+\n",
      "|            |   count |\n",
      "+============+=========+\n",
      "| PER.author |      16 |\n",
      "+------------+---------+\n",
      "nested\n",
      "+-----------+---------+\n",
      "|           |   count |\n",
      "+===========+=========+\n",
      "| HumanProd |       1 |\n",
      "+-----------+---------+\n",
      "| LOC       |     100 |\n",
      "+-----------+---------+\n",
      "| ORG       |      15 |\n",
      "+-----------+---------+\n",
      "| PER       |      10 |\n",
      "+-----------+---------+\n",
      "\n"
     ]
    }
   ],
   "source": [
    "# print some basic stats for the TSV dataset \n",
    "print(describe_dataset(documents=newseye_train_sv_docs))"
   ]
  },
  {
   "cell_type": "markdown",
   "id": "9b5096d5",
   "metadata": {},
   "source": [
    "## sonar\n",
    "\n",
    "See the [README file](./documentation/README-sonar.md) for detailed information about this dataset."
   ]
  },
  {
   "cell_type": "markdown",
   "id": "f3b4525f",
   "metadata": {},
   "source": [
    "### File paths"
   ]
  },
  {
   "cell_type": "code",
   "execution_count": 72,
   "id": "1f30273b",
   "metadata": {},
   "outputs": [],
   "source": [
    "sonar_dev_de_path = os.path.join(HIPE2022_data_path, \"sonar/de/HIPE-2022-v1.0-sonar-dev-de.tsv\")"
   ]
  },
  {
   "cell_type": "markdown",
   "id": "a09cf4d5",
   "metadata": {},
   "source": [
    "#### Dev"
   ]
  },
  {
   "cell_type": "code",
   "execution_count": 74,
   "metadata": {},
   "outputs": [],
   "source": [
    "# parse the TSV into a list of `HipeDocument` objects\n",
    "sonar_dev_de_docs = parse_tsv(file_path=sonar_dev_de_path)"
   ]
  },
  {
   "cell_type": "code",
   "execution_count": 75,
   "id": "b5418497",
   "metadata": {},
   "outputs": [
    {
     "name": "stdout",
     "output_type": "stream",
     "text": [
      "\n",
      "Path of the TSV file: ./data/v1.0/sonar/de/HIPE-2022-v1.0-sonar-dev-de.tsv \n",
      "Number of documents: 10 \n",
      "Number of entities: {'coarse_lit': 1316} \n",
      "Number of tokens: 29554 \n",
      "Entity breakdown by type: coarse_lit\n",
      "+-----+---------+\n",
      "|     |   count |\n",
      "+=====+=========+\n",
      "| LOC |     606 |\n",
      "+-----+---------+\n",
      "| ORG |     215 |\n",
      "+-----+---------+\n",
      "| PER |     495 |\n",
      "+-----+---------+\n",
      "\n"
     ]
    }
   ],
   "source": [
    "# print some basic stats for the TSV dataset \n",
    "print(describe_dataset(documents=sonar_dev_de_docs))"
   ]
  }
 ],
 "metadata": {
  "kernelspec": {
   "display_name": "Python 3 (ipykernel)",
   "language": "python",
   "name": "python3"
  },
  "language_info": {
   "codemirror_mode": {
    "name": "ipython",
    "version": 3
   },
   "file_extension": ".py",
   "mimetype": "text/x-python",
   "name": "python",
   "nbconvert_exporter": "python",
   "pygments_lexer": "ipython3",
   "version": "3.8.0"
  }
 },
 "nbformat": 4,
 "nbformat_minor": 5
}
