{
 "cells": [
  {
   "cell_type": "markdown",
   "id": "a5be4e76",
   "metadata": {},
   "source": [
    "# HIPE 2022 dataset statistics"
   ]
  },
  {
   "cell_type": "markdown",
   "id": "d3a7b60b",
   "metadata": {},
   "source": [
    "# Imports"
   ]
  },
  {
   "cell_type": "code",
   "execution_count": 46,
   "id": "39ac9869",
   "metadata": {},
   "outputs": [],
   "source": [
    "import os\n",
    "import random\n",
    "from typing import List, Dict\n",
    "from hipe_commons.helpers.tsv import parse_tsv, ENTITY_TYPES, HipeDocument, HipeEntity\n",
    "from hipe_commons.stats import describe_dataset, compute_entities_stats"
   ]
  },
  {
   "cell_type": "markdown",
   "id": "2e16b1a3",
   "metadata": {},
   "source": [
    "# Functions"
   ]
  },
  {
   "cell_type": "code",
   "execution_count": 47,
   "id": "a7f403d6",
   "metadata": {},
   "outputs": [],
   "source": [
    "def collect_entities(documents: List[HipeDocument]) -> Dict[str, List[HipeEntity]]:\n",
    "    \"\"\"Simple function to gather all entities from documents in a dataset, divided by type.\n",
    "\n",
    "    :param documents: Input documents in HIPE format\n",
    "    :type documents: List[HipeDocument]\n",
    "    :return: A list of `HipeEntity` objects\n",
    "    :rtype: Dict[str, List[HipeEntity]]\n",
    "    \"\"\"\n",
    "    all_entities = {}\n",
    "\n",
    "    for doc in ajmc_sample_en_docs:\n",
    "        for e_type in ENTITY_TYPES:\n",
    "            \n",
    "            if e_type in doc.entities:\n",
    "\n",
    "                if e_type not in all_entities:\n",
    "                    all_entities[e_type] = []\n",
    "\n",
    "                all_entities[e_type] += doc.entities[e_type]\n",
    "    return all_entities"
   ]
  },
  {
   "cell_type": "markdown",
   "id": "86eee725",
   "metadata": {},
   "source": [
    "# HIPE 2022 Datasets"
   ]
  },
  {
   "cell_type": "code",
   "execution_count": 48,
   "id": "0f6a13c1",
   "metadata": {},
   "outputs": [],
   "source": [
    "RELEASE_VERSION = \"v2.1\"\n",
    "HIPE2022_data_path = f\"./data/{RELEASE_VERSION}/\""
   ]
  },
  {
   "cell_type": "markdown",
   "id": "3fc6a3e6",
   "metadata": {},
   "source": [
    "## ajmc\n",
    "\n",
    "See the [README file](./documentation/README-ajmc.md) for detailed information about this dataset."
   ]
  },
  {
   "cell_type": "markdown",
   "id": "23ea36b7",
   "metadata": {},
   "source": [
    "### File paths"
   ]
  },
  {
   "cell_type": "code",
   "execution_count": 49,
   "id": "f1d7980b",
   "metadata": {},
   "outputs": [],
   "source": [
    "# EN\n",
    "ajmc_train_en_path = os.path.join(HIPE2022_data_path, f\"ajmc/en/HIPE-2022-{RELEASE_VERSION}-ajmc-train-en.tsv\")\n",
    "ajmc_dev_en_path = os.path.join(HIPE2022_data_path, f\"ajmc/en/HIPE-2022-{RELEASE_VERSION}-ajmc-dev-en.tsv\")\n",
    "ajmc_test_en_path = os.path.join(HIPE2022_data_path, f\"ajmc/en/HIPE-2022-{RELEASE_VERSION}-ajmc-test-en.tsv\")\n",
    "\n",
    "# DE\n",
    "ajmc_train_de_path = os.path.join(HIPE2022_data_path, f\"ajmc/de/HIPE-2022-{RELEASE_VERSION}-ajmc-train-de.tsv\")\n",
    "ajmc_dev_de_path = os.path.join(HIPE2022_data_path, f\"ajmc/de/HIPE-2022-{RELEASE_VERSION}-ajmc-dev-de.tsv\")\n",
    "ajmc_test_de_path = os.path.join(HIPE2022_data_path, f\"ajmc/de/HIPE-2022-{RELEASE_VERSION}-ajmc-test-de.tsv\")\n",
    "\n",
    "# FR\n",
    "ajmc_train_fr_path = os.path.join(HIPE2022_data_path, f\"ajmc/fr/HIPE-2022-{RELEASE_VERSION}-ajmc-train-fr.tsv\")\n",
    "ajmc_dev_fr_path = os.path.join(HIPE2022_data_path, f\"ajmc/fr/HIPE-2022-{RELEASE_VERSION}-ajmc-dev-fr.tsv\")\n",
    "ajmc_test_fr_path = os.path.join(HIPE2022_data_path, f\"ajmc/fr/HIPE-2022-{RELEASE_VERSION}-ajmc-test-fr.tsv\")"
   ]
  },
  {
   "cell_type": "markdown",
   "id": "98069843",
   "metadata": {},
   "source": [
    "### ajmc EN"
   ]
  },
  {
   "cell_type": "markdown",
   "id": "6fe36fe5",
   "metadata": {},
   "source": [
    "#### Dev"
   ]
  },
  {
   "cell_type": "code",
   "execution_count": 50,
   "id": "d7d48341",
   "metadata": {},
   "outputs": [],
   "source": [
    "# parse the TSV into a list of `HipeDocument` objects\n",
    "ajmc_dev_en_docs = parse_tsv(file_path=ajmc_dev_en_path)"
   ]
  },
  {
   "cell_type": "code",
   "execution_count": 51,
   "id": "d4d2e96e",
   "metadata": {},
   "outputs": [
    {
     "name": "stdout",
     "output_type": "stream",
     "text": [
      "\n",
      "Path of the TSV file: ./data/v2.1/ajmc/en/HIPE-2022-v2.1-ajmc-dev-en.tsv \n",
      "Number of documents: 14 \n",
      "Number of entities: {'coarse_lit': 416, 'fine_lit': 416} \n",
      "Number of tokens: 6506 \n",
      "Entity breakdown by type: coarse_lit\n",
      "+-------+---------+\n",
      "|       |   count |\n",
      "+=======+=========+\n",
      "| date  |       5 |\n",
      "+-------+---------+\n",
      "| loc   |       3 |\n",
      "+-------+---------+\n",
      "| pers  |     130 |\n",
      "+-------+---------+\n",
      "| scope |     162 |\n",
      "+-------+---------+\n",
      "| work  |     116 |\n",
      "+-------+---------+\n",
      "fine_lit\n",
      "+--------------+---------+\n",
      "|              |   count |\n",
      "+==============+=========+\n",
      "| date         |       5 |\n",
      "+--------------+---------+\n",
      "| loc          |       3 |\n",
      "+--------------+---------+\n",
      "| pers.author  |      69 |\n",
      "+--------------+---------+\n",
      "| pers.editor  |       9 |\n",
      "+--------------+---------+\n",
      "| pers.myth    |      50 |\n",
      "+--------------+---------+\n",
      "| pers.other   |       2 |\n",
      "+--------------+---------+\n",
      "| scope        |     162 |\n",
      "+--------------+---------+\n",
      "| work.fragm   |       1 |\n",
      "+--------------+---------+\n",
      "| work.primlit |     103 |\n",
      "+--------------+---------+\n",
      "| work.seclit  |      12 |\n",
      "+--------------+---------+\n",
      "\n"
     ]
    }
   ],
   "source": [
    "# print some basic stats for the TSV dataset \n",
    "print(describe_dataset(documents=ajmc_dev_en_docs))"
   ]
  },
  {
   "cell_type": "markdown",
   "id": "cae8b1f1",
   "metadata": {},
   "source": [
    "#### Train"
   ]
  },
  {
   "cell_type": "code",
   "execution_count": 52,
   "id": "9c59de36",
   "metadata": {},
   "outputs": [],
   "source": [
    "# parse the TSV into a list of `HipeDocument` objects\n",
    "ajmc_train_en_docs = parse_tsv(file_path=ajmc_train_en_path)"
   ]
  },
  {
   "cell_type": "code",
   "execution_count": 53,
   "id": "27ed577b",
   "metadata": {},
   "outputs": [
    {
     "name": "stdout",
     "output_type": "stream",
     "text": [
      "\n",
      "Path of the TSV file: ./data/v2.1/ajmc/en/HIPE-2022-v2.1-ajmc-train-en.tsv \n",
      "Number of documents: 60 \n",
      "Number of entities: {'coarse_lit': 1823, 'fine_lit': 1823, 'nested': 4} \n",
      "Number of tokens: 30932 \n",
      "Entity breakdown by type: coarse_lit\n",
      "+--------+---------+\n",
      "|        |   count |\n",
      "+========+=========+\n",
      "| date   |      12 |\n",
      "+--------+---------+\n",
      "| loc    |      39 |\n",
      "+--------+---------+\n",
      "| object |       3 |\n",
      "+--------+---------+\n",
      "| pers   |     618 |\n",
      "+--------+---------+\n",
      "| scope  |     684 |\n",
      "+--------+---------+\n",
      "| work   |     467 |\n",
      "+--------+---------+\n",
      "fine_lit\n",
      "+----------------+---------+\n",
      "|                |   count |\n",
      "+================+=========+\n",
      "| date           |      12 |\n",
      "+----------------+---------+\n",
      "| loc            |      39 |\n",
      "+----------------+---------+\n",
      "| object.manuscr |       3 |\n",
      "+----------------+---------+\n",
      "| pers.author    |     237 |\n",
      "+----------------+---------+\n",
      "| pers.editor    |      28 |\n",
      "+----------------+---------+\n",
      "| pers.myth      |     331 |\n",
      "+----------------+---------+\n",
      "| pers.other     |      22 |\n",
      "+----------------+---------+\n",
      "| scope          |     684 |\n",
      "+----------------+---------+\n",
      "| work.fragm     |       2 |\n",
      "+----------------+---------+\n",
      "| work.journal   |       1 |\n",
      "+----------------+---------+\n",
      "| work.other     |       3 |\n",
      "+----------------+---------+\n",
      "| work.primlit   |     414 |\n",
      "+----------------+---------+\n",
      "| work.seclit    |      47 |\n",
      "+----------------+---------+\n",
      "nested\n",
      "+--------------+---------+\n",
      "|              |   count |\n",
      "+==============+=========+\n",
      "| pers.author  |       1 |\n",
      "+--------------+---------+\n",
      "| pers.myth    |       1 |\n",
      "+--------------+---------+\n",
      "| scope        |       1 |\n",
      "+--------------+---------+\n",
      "| work.primlit |       1 |\n",
      "+--------------+---------+\n",
      "\n"
     ]
    }
   ],
   "source": [
    "# print some basic stats for the TSV dataset \n",
    "print(describe_dataset(documents=ajmc_train_en_docs))"
   ]
  },
  {
   "cell_type": "markdown",
   "id": "ddd117b3",
   "metadata": {},
   "source": [
    "#### Test"
   ]
  },
  {
   "cell_type": "code",
   "execution_count": 54,
   "id": "8c60c253",
   "metadata": {},
   "outputs": [],
   "source": [
    "# parse the TSV into a list of `HipeDocument` objects\n",
    "ajmc_test_en_docs = parse_tsv(file_path=ajmc_test_en_path)"
   ]
  },
  {
   "cell_type": "code",
   "execution_count": 55,
   "id": "b9126e02",
   "metadata": {},
   "outputs": [
    {
     "name": "stdout",
     "output_type": "stream",
     "text": [
      "\n",
      "Path of the TSV file: ./data/v2.1/ajmc/en/HIPE-2022-v2.1-ajmc-test-en.tsv \n",
      "Number of documents: 13 \n",
      "Number of entities: {'coarse_lit': 348, 'fine_lit': 348} \n",
      "Number of tokens: 6052 \n",
      "Entity breakdown by type: coarse_lit\n",
      "+-------+---------+\n",
      "|       |   count |\n",
      "+=======+=========+\n",
      "| date  |       3 |\n",
      "+-------+---------+\n",
      "| loc   |       3 |\n",
      "+-------+---------+\n",
      "| pers  |      96 |\n",
      "+-------+---------+\n",
      "| scope |     151 |\n",
      "+-------+---------+\n",
      "| work  |      95 |\n",
      "+-------+---------+\n",
      "fine_lit\n",
      "+--------------+---------+\n",
      "|              |   count |\n",
      "+==============+=========+\n",
      "| date         |       3 |\n",
      "+--------------+---------+\n",
      "| loc          |       3 |\n",
      "+--------------+---------+\n",
      "| pers.author  |      47 |\n",
      "+--------------+---------+\n",
      "| pers.editor  |       4 |\n",
      "+--------------+---------+\n",
      "| pers.myth    |      41 |\n",
      "+--------------+---------+\n",
      "| pers.other   |       4 |\n",
      "+--------------+---------+\n",
      "| scope        |     151 |\n",
      "+--------------+---------+\n",
      "| work.fragm   |       2 |\n",
      "+--------------+---------+\n",
      "| work.primlit |      83 |\n",
      "+--------------+---------+\n",
      "| work.seclit  |      10 |\n",
      "+--------------+---------+\n",
      "\n"
     ]
    }
   ],
   "source": [
    "# print some basic stats for the TSV dataset \n",
    "print(describe_dataset(documents=ajmc_test_en_docs))"
   ]
  },
  {
   "cell_type": "markdown",
   "id": "85a78a1a",
   "metadata": {},
   "source": [
    "### ajmc DE"
   ]
  },
  {
   "cell_type": "markdown",
   "id": "f2c54bf0",
   "metadata": {},
   "source": [
    "#### Dev"
   ]
  },
  {
   "cell_type": "code",
   "execution_count": 56,
   "id": "e10a9e0b",
   "metadata": {},
   "outputs": [],
   "source": [
    "# parse the TSV into a list of `HipeDocument` objects\n",
    "ajmc_dev_de_docs = parse_tsv(file_path=ajmc_dev_de_path)"
   ]
  },
  {
   "cell_type": "code",
   "execution_count": 57,
   "id": "7b3fd754",
   "metadata": {},
   "outputs": [
    {
     "name": "stdout",
     "output_type": "stream",
     "text": [
      "\n",
      "Path of the TSV file: ./data/v2.1/ajmc/de/HIPE-2022-v2.1-ajmc-dev-de.tsv \n",
      "Number of documents: 14 \n",
      "Number of entities: {'coarse_lit': 403, 'fine_lit': 403, 'nested': 2} \n",
      "Number of tokens: 4702 \n",
      "Entity breakdown by type: coarse_lit\n",
      "+--------+---------+\n",
      "|        |   count |\n",
      "+========+=========+\n",
      "| loc    |      10 |\n",
      "+--------+---------+\n",
      "| object |       4 |\n",
      "+--------+---------+\n",
      "| pers   |     162 |\n",
      "+--------+---------+\n",
      "| scope  |     157 |\n",
      "+--------+---------+\n",
      "| work   |      70 |\n",
      "+--------+---------+\n",
      "fine_lit\n",
      "+----------------+---------+\n",
      "|                |   count |\n",
      "+================+=========+\n",
      "| loc            |      10 |\n",
      "+----------------+---------+\n",
      "| object.manuscr |       4 |\n",
      "+----------------+---------+\n",
      "| pers.author    |      65 |\n",
      "+----------------+---------+\n",
      "| pers.editor    |       7 |\n",
      "+----------------+---------+\n",
      "| pers.myth      |      87 |\n",
      "+----------------+---------+\n",
      "| pers.other     |       3 |\n",
      "+----------------+---------+\n",
      "| scope          |     157 |\n",
      "+----------------+---------+\n",
      "| work.primlit   |      70 |\n",
      "+----------------+---------+\n",
      "nested\n",
      "+-----------+---------+\n",
      "|           |   count |\n",
      "+===========+=========+\n",
      "| loc       |       1 |\n",
      "+-----------+---------+\n",
      "| pers.myth |       1 |\n",
      "+-----------+---------+\n",
      "\n"
     ]
    }
   ],
   "source": [
    "# print some basic stats for the TSV dataset \n",
    "print(describe_dataset(documents=ajmc_dev_de_docs))"
   ]
  },
  {
   "cell_type": "markdown",
   "id": "67c3f97c",
   "metadata": {},
   "source": [
    "#### Train"
   ]
  },
  {
   "cell_type": "code",
   "execution_count": 58,
   "id": "8da40406",
   "metadata": {},
   "outputs": [],
   "source": [
    "# parse the TSV into a list of `HipeDocument` objects\n",
    "ajmc_train_de_docs = parse_tsv(file_path=ajmc_train_de_path)\n"
   ]
  },
  {
   "cell_type": "code",
   "execution_count": 59,
   "id": "af8ae6f5",
   "metadata": {},
   "outputs": [
    {
     "name": "stdout",
     "output_type": "stream",
     "text": [
      "\n",
      "Path of the TSV file: ./data/v2.1/ajmc/de/HIPE-2022-v2.1-ajmc-train-de.tsv \n",
      "Number of documents: 76 \n",
      "Number of entities: {'coarse_lit': 1738, 'fine_lit': 1738, 'nested': 11} \n",
      "Number of tokens: 22695 \n",
      "Entity breakdown by type: coarse_lit\n",
      "+--------+---------+\n",
      "|        |   count |\n",
      "+========+=========+\n",
      "| date   |       2 |\n",
      "+--------+---------+\n",
      "| loc    |      31 |\n",
      "+--------+---------+\n",
      "| object |       6 |\n",
      "+--------+---------+\n",
      "| pers   |     620 |\n",
      "+--------+---------+\n",
      "| scope  |     758 |\n",
      "+--------+---------+\n",
      "| work   |     321 |\n",
      "+--------+---------+\n",
      "fine_lit\n",
      "+----------------+---------+\n",
      "|                |   count |\n",
      "+================+=========+\n",
      "| date           |       2 |\n",
      "+----------------+---------+\n",
      "| loc            |      31 |\n",
      "+----------------+---------+\n",
      "| object.manuscr |       6 |\n",
      "+----------------+---------+\n",
      "| pers.author    |     354 |\n",
      "+----------------+---------+\n",
      "| pers.editor    |      16 |\n",
      "+----------------+---------+\n",
      "| pers.myth      |     234 |\n",
      "+----------------+---------+\n",
      "| pers.other     |      16 |\n",
      "+----------------+---------+\n",
      "| scope          |     758 |\n",
      "+----------------+---------+\n",
      "| work.fragm     |       2 |\n",
      "+----------------+---------+\n",
      "| work.primlit   |     312 |\n",
      "+----------------+---------+\n",
      "| work.seclit    |       7 |\n",
      "+----------------+---------+\n",
      "nested\n",
      "+--------------+---------+\n",
      "|              |   count |\n",
      "+==============+=========+\n",
      "| loc          |       3 |\n",
      "+--------------+---------+\n",
      "| pers.author  |       2 |\n",
      "+--------------+---------+\n",
      "| pers.editor  |       1 |\n",
      "+--------------+---------+\n",
      "| scope        |       3 |\n",
      "+--------------+---------+\n",
      "| work.primlit |       1 |\n",
      "+--------------+---------+\n",
      "| work.seclit  |       1 |\n",
      "+--------------+---------+\n",
      "\n"
     ]
    }
   ],
   "source": [
    "# print some basic stats for the TSV dataset \n",
    "print(describe_dataset(documents=ajmc_train_de_docs))"
   ]
  },
  {
   "cell_type": "markdown",
   "id": "71fe8a79",
   "metadata": {},
   "source": [
    "#### Test"
   ]
  },
  {
   "cell_type": "code",
   "execution_count": 60,
   "id": "f0c87457",
   "metadata": {},
   "outputs": [],
   "source": [
    "# parse the TSV into a list of `HipeDocument` objects\n",
    "ajmc_test_de_docs = parse_tsv(file_path=ajmc_test_de_path)"
   ]
  },
  {
   "cell_type": "code",
   "execution_count": 61,
   "id": "f42c1222",
   "metadata": {},
   "outputs": [
    {
     "name": "stdout",
     "output_type": "stream",
     "text": [
      "\n",
      "Path of the TSV file: ./data/v2.1/ajmc/de/HIPE-2022-v2.1-ajmc-test-de.tsv \n",
      "Number of documents: 16 \n",
      "Number of entities: {'coarse_lit': 382, 'fine_lit': 382} \n",
      "Number of tokens: 4845 \n",
      "Entity breakdown by type: coarse_lit\n",
      "+--------+---------+\n",
      "|        |   count |\n",
      "+========+=========+\n",
      "| loc    |       2 |\n",
      "+--------+---------+\n",
      "| object |       2 |\n",
      "+--------+---------+\n",
      "| pers   |     128 |\n",
      "+--------+---------+\n",
      "| scope  |     176 |\n",
      "+--------+---------+\n",
      "| work   |      74 |\n",
      "+--------+---------+\n",
      "fine_lit\n",
      "+----------------+---------+\n",
      "|                |   count |\n",
      "+================+=========+\n",
      "| loc            |       2 |\n",
      "+----------------+---------+\n",
      "| object.manuscr |       2 |\n",
      "+----------------+---------+\n",
      "| pers.author    |      48 |\n",
      "+----------------+---------+\n",
      "| pers.editor    |       4 |\n",
      "+----------------+---------+\n",
      "| pers.myth      |      76 |\n",
      "+----------------+---------+\n",
      "| scope          |     176 |\n",
      "+----------------+---------+\n",
      "| work.primlit   |      74 |\n",
      "+----------------+---------+\n",
      "\n"
     ]
    }
   ],
   "source": [
    "# print some basic stats for the TSV dataset \n",
    "print(describe_dataset(documents=ajmc_test_de_docs))"
   ]
  },
  {
   "cell_type": "markdown",
   "id": "f498af21",
   "metadata": {},
   "source": [
    "### ajmc FR"
   ]
  },
  {
   "cell_type": "markdown",
   "id": "9e2eb3ec",
   "metadata": {},
   "source": [
    "#### Dev"
   ]
  },
  {
   "cell_type": "code",
   "execution_count": 62,
   "id": "cc683514",
   "metadata": {},
   "outputs": [],
   "source": [
    "# parse the TSV into a list of `HipeDocument` objects\n",
    "ajmc_dev_fr_docs = parse_tsv(file_path=ajmc_dev_fr_path)"
   ]
  },
  {
   "cell_type": "code",
   "execution_count": 63,
   "id": "0644243e",
   "metadata": {},
   "outputs": [
    {
     "name": "stdout",
     "output_type": "stream",
     "text": [
      "\n",
      "Path of the TSV file: ./data/v2.1/ajmc/fr/HIPE-2022-v2.1-ajmc-dev-fr.tsv \n",
      "Number of documents: 17 \n",
      "Number of entities: {'coarse_lit': 391, 'fine_lit': 391} \n",
      "Number of tokens: 5425 \n",
      "Entity breakdown by type: coarse_lit\n",
      "+-------+---------+\n",
      "|       |   count |\n",
      "+=======+=========+\n",
      "| pers  |     123 |\n",
      "+-------+---------+\n",
      "| scope |     169 |\n",
      "+-------+---------+\n",
      "| work  |      99 |\n",
      "+-------+---------+\n",
      "fine_lit\n",
      "+--------------+---------+\n",
      "|              |   count |\n",
      "+==============+=========+\n",
      "| pers.author  |      52 |\n",
      "+--------------+---------+\n",
      "| pers.editor  |      13 |\n",
      "+--------------+---------+\n",
      "| pers.myth    |      23 |\n",
      "+--------------+---------+\n",
      "| pers.other   |      35 |\n",
      "+--------------+---------+\n",
      "| scope        |     169 |\n",
      "+--------------+---------+\n",
      "| work.primlit |      99 |\n",
      "+--------------+---------+\n",
      "\n"
     ]
    }
   ],
   "source": [
    "# print some basic stats for the TSV dataset \n",
    "print(describe_dataset(documents=ajmc_dev_fr_docs))"
   ]
  },
  {
   "cell_type": "markdown",
   "id": "a2020856",
   "metadata": {},
   "source": [
    "#### Train"
   ]
  },
  {
   "cell_type": "code",
   "execution_count": 64,
   "id": "de15545d",
   "metadata": {},
   "outputs": [],
   "source": [
    "# parse the TSV into a list of `HipeDocument` objects\n",
    "ajmc_train_fr_docs = parse_tsv(file_path=ajmc_train_fr_path)"
   ]
  },
  {
   "cell_type": "code",
   "execution_count": 65,
   "id": "786a76a5",
   "metadata": {},
   "outputs": [
    {
     "name": "stdout",
     "output_type": "stream",
     "text": [
      "\n",
      "Path of the TSV file: ./data/v2.1/ajmc/fr/HIPE-2022-v2.1-ajmc-train-fr.tsv \n",
      "Number of documents: 72 \n",
      "Number of entities: {'coarse_lit': 1621, 'fine_lit': 1621, 'nested': 9} \n",
      "Number of tokens: 24669 \n",
      "Entity breakdown by type: coarse_lit\n",
      "+--------+---------+\n",
      "|        |   count |\n",
      "+========+=========+\n",
      "| date   |       2 |\n",
      "+--------+---------+\n",
      "| loc    |      15 |\n",
      "+--------+---------+\n",
      "| object |      10 |\n",
      "+--------+---------+\n",
      "| pers   |     577 |\n",
      "+--------+---------+\n",
      "| scope  |     639 |\n",
      "+--------+---------+\n",
      "| work   |     378 |\n",
      "+--------+---------+\n",
      "fine_lit\n",
      "+----------------+---------+\n",
      "|                |   count |\n",
      "+================+=========+\n",
      "| date           |       2 |\n",
      "+----------------+---------+\n",
      "| loc            |      15 |\n",
      "+----------------+---------+\n",
      "| object.manuscr |      10 |\n",
      "+----------------+---------+\n",
      "| pers.author    |     294 |\n",
      "+----------------+---------+\n",
      "| pers.editor    |      57 |\n",
      "+----------------+---------+\n",
      "| pers.myth      |      83 |\n",
      "+----------------+---------+\n",
      "| pers.other     |     143 |\n",
      "+----------------+---------+\n",
      "| scope          |     639 |\n",
      "+----------------+---------+\n",
      "| work.fragm     |       4 |\n",
      "+----------------+---------+\n",
      "| work.primlit   |     368 |\n",
      "+----------------+---------+\n",
      "| work.seclit    |       6 |\n",
      "+----------------+---------+\n",
      "nested\n",
      "+--------------+---------+\n",
      "|              |   count |\n",
      "+==============+=========+\n",
      "| pers.author  |       1 |\n",
      "+--------------+---------+\n",
      "| pers.editor  |       1 |\n",
      "+--------------+---------+\n",
      "| pers.other   |       1 |\n",
      "+--------------+---------+\n",
      "| scope        |       4 |\n",
      "+--------------+---------+\n",
      "| work.primlit |       2 |\n",
      "+--------------+---------+\n",
      "\n"
     ]
    }
   ],
   "source": [
    "# print some basic stats for the TSV dataset \n",
    "print(describe_dataset(documents=ajmc_train_fr_docs))"
   ]
  },
  {
   "cell_type": "markdown",
   "id": "1e143ac9",
   "metadata": {},
   "source": [
    "#### Test"
   ]
  },
  {
   "cell_type": "code",
   "execution_count": 66,
   "id": "4e0e0e7e",
   "metadata": {},
   "outputs": [],
   "source": [
    "# parse the TSV into a list of `HipeDocument` objects\n",
    "ajmc_test_fr_docs = parse_tsv(file_path=ajmc_test_fr_path)"
   ]
  },
  {
   "cell_type": "code",
   "execution_count": 67,
   "id": "20ecae70",
   "metadata": {},
   "outputs": [
    {
     "name": "stdout",
     "output_type": "stream",
     "text": [
      "\n",
      "Path of the TSV file: ./data/v2.1/ajmc/fr/HIPE-2022-v2.1-ajmc-test-fr.tsv \n",
      "Number of documents: 15 \n",
      "Number of entities: {'coarse_lit': 360, 'fine_lit': 360} \n",
      "Number of tokens: 5390 \n",
      "Entity breakdown by type: coarse_lit\n",
      "+-------+---------+\n",
      "|       |   count |\n",
      "+=======+=========+\n",
      "| date  |       3 |\n",
      "+-------+---------+\n",
      "| loc   |       9 |\n",
      "+-------+---------+\n",
      "| pers  |     139 |\n",
      "+-------+---------+\n",
      "| scope |     129 |\n",
      "+-------+---------+\n",
      "| work  |      80 |\n",
      "+-------+---------+\n",
      "fine_lit\n",
      "+--------------+---------+\n",
      "|              |   count |\n",
      "+==============+=========+\n",
      "| date         |       3 |\n",
      "+--------------+---------+\n",
      "| loc          |       9 |\n",
      "+--------------+---------+\n",
      "| pers.author  |      78 |\n",
      "+--------------+---------+\n",
      "| pers.editor  |      35 |\n",
      "+--------------+---------+\n",
      "| pers.myth    |      14 |\n",
      "+--------------+---------+\n",
      "| pers.other   |      12 |\n",
      "+--------------+---------+\n",
      "| scope        |     129 |\n",
      "+--------------+---------+\n",
      "| work.fragm   |       1 |\n",
      "+--------------+---------+\n",
      "| work.primlit |      78 |\n",
      "+--------------+---------+\n",
      "| work.seclit  |       1 |\n",
      "+--------------+---------+\n",
      "\n"
     ]
    }
   ],
   "source": [
    "# print some basic stats for the TSV dataset \n",
    "print(describe_dataset(documents=ajmc_test_fr_docs))"
   ]
  },
  {
   "cell_type": "markdown",
   "id": "8d2a85c1",
   "metadata": {},
   "source": [
    "## hipe2020\n",
    "\n",
    "See the [README file](./documentation/README-hipe2020.md) for detailed information about this dataset."
   ]
  },
  {
   "cell_type": "markdown",
   "id": "dbd8cb25",
   "metadata": {},
   "source": [
    "### File paths"
   ]
  },
  {
   "cell_type": "code",
   "execution_count": 68,
   "id": "f992992b",
   "metadata": {},
   "outputs": [],
   "source": [
    "# EN\n",
    "hipe2020_dev_en_path = os.path.join(HIPE2022_data_path, f\"hipe2020/en/HIPE-2022-{RELEASE_VERSION}-hipe2020-dev-en.tsv\")\n",
    "hipe2020_test_en_path = os.path.join(HIPE2022_data_path, f\"hipe2020/en/HIPE-2022-{RELEASE_VERSION}-hipe2020-test-en.tsv\")\n",
    "\n",
    "# DE\n",
    "hipe2020_train_de_path = os.path.join(HIPE2022_data_path, f\"hipe2020/de/HIPE-2022-{RELEASE_VERSION}-hipe2020-train-de.tsv\")\n",
    "hipe2020_dev_de_path = os.path.join(HIPE2022_data_path, f\"hipe2020/de/HIPE-2022-{RELEASE_VERSION}-hipe2020-dev-de.tsv\")\n",
    "hipe2020_test_de_path = os.path.join(HIPE2022_data_path, f\"hipe2020/de/HIPE-2022-{RELEASE_VERSION}-hipe2020-test-de.tsv\")\n",
    "\n",
    "\n",
    "# FR\n",
    "hipe2020_dev_fr_path = os.path.join(HIPE2022_data_path, f\"hipe2020/fr/HIPE-2022-{RELEASE_VERSION}-hipe2020-dev-fr.tsv\")\n",
    "hipe2020_train_fr_path = os.path.join(HIPE2022_data_path, f\"hipe2020/fr/HIPE-2022-{RELEASE_VERSION}-hipe2020-train-fr.tsv\")\n",
    "hipe2020_test_fr_path = os.path.join(HIPE2022_data_path, f\"hipe2020/fr/HIPE-2022-{RELEASE_VERSION}-hipe2020-test-fr.tsv\")"
   ]
  },
  {
   "cell_type": "markdown",
   "id": "7d13fb06",
   "metadata": {},
   "source": [
    "### hipe2020 EN"
   ]
  },
  {
   "cell_type": "markdown",
   "id": "6037598d",
   "metadata": {},
   "source": [
    "#### Dev\n"
   ]
  },
  {
   "cell_type": "code",
   "execution_count": 69,
   "id": "5980486f",
   "metadata": {},
   "outputs": [],
   "source": [
    "# parse the TSV into a list of `HipeDocument` objects\n",
    "hipe2020_dev_en_docs = parse_tsv(file_path=hipe2020_dev_en_path)"
   ]
  },
  {
   "cell_type": "code",
   "execution_count": 70,
   "id": "e1ebf584",
   "metadata": {},
   "outputs": [
    {
     "name": "stdout",
     "output_type": "stream",
     "text": [
      "\n",
      "Path of the TSV file: ./data/v2.1/hipe2020/en/HIPE-2022-v2.1-hipe2020-dev-en.tsv \n",
      "Number of documents: 80 \n",
      "Number of entities: {'coarse_lit': 966, 'coarse_meto': 15} \n",
      "Number of tokens: 29063 \n",
      "Entity breakdown by type: coarse_lit\n",
      "+------+---------+\n",
      "|      |   count |\n",
      "+======+=========+\n",
      "| loc  |     384 |\n",
      "+------+---------+\n",
      "| org  |     118 |\n",
      "+------+---------+\n",
      "| pers |     402 |\n",
      "+------+---------+\n",
      "| prod |      33 |\n",
      "+------+---------+\n",
      "| time |      29 |\n",
      "+------+---------+\n",
      "coarse_meto\n",
      "+-----+---------+\n",
      "|     |   count |\n",
      "+=====+=========+\n",
      "| loc |       6 |\n",
      "+-----+---------+\n",
      "| org |       9 |\n",
      "+-----+---------+\n",
      "\n"
     ]
    }
   ],
   "source": [
    "# print some basic stats for the TSV dataset \n",
    "print(describe_dataset(documents=hipe2020_dev_en_docs))"
   ]
  },
  {
   "cell_type": "markdown",
   "id": "b8f5ffdc",
   "metadata": {},
   "source": [
    "#### Test\n"
   ]
  },
  {
   "cell_type": "code",
   "execution_count": 71,
   "id": "09095db0",
   "metadata": {},
   "outputs": [],
   "source": [
    "# parse the TSV into a list of `HipeDocument` objects\n",
    "hipe2020_test_en_docs = parse_tsv(file_path=hipe2020_test_en_path)"
   ]
  },
  {
   "cell_type": "code",
   "execution_count": 72,
   "id": "f5bc2a16",
   "metadata": {},
   "outputs": [
    {
     "name": "stdout",
     "output_type": "stream",
     "text": [
      "\n",
      "Path of the TSV file: ./data/v2.1/hipe2020/en/HIPE-2022-v2.1-hipe2020-test-en.tsv \n",
      "Number of documents: 46 \n",
      "Number of entities: {'coarse_lit': 449, 'coarse_meto': 25} \n",
      "Number of tokens: 16634 \n",
      "Entity breakdown by type: coarse_lit\n",
      "+------+---------+\n",
      "|      |   count |\n",
      "+======+=========+\n",
      "| loc  |     181 |\n",
      "+------+---------+\n",
      "| org  |      76 |\n",
      "+------+---------+\n",
      "| pers |     156 |\n",
      "+------+---------+\n",
      "| prod |      19 |\n",
      "+------+---------+\n",
      "| time |      17 |\n",
      "+------+---------+\n",
      "coarse_meto\n",
      "+-----+---------+\n",
      "|     |   count |\n",
      "+=====+=========+\n",
      "| loc |       3 |\n",
      "+-----+---------+\n",
      "| org |      22 |\n",
      "+-----+---------+\n",
      "\n"
     ]
    }
   ],
   "source": [
    "# print some basic stats for the TSV dataset \n",
    "print(describe_dataset(documents=hipe2020_test_en_docs))"
   ]
  },
  {
   "cell_type": "markdown",
   "id": "374f4ccb",
   "metadata": {},
   "source": [
    "### hipe2020 DE"
   ]
  },
  {
   "cell_type": "markdown",
   "id": "d5d064d1",
   "metadata": {},
   "source": [
    "#### Dev"
   ]
  },
  {
   "cell_type": "code",
   "execution_count": 73,
   "id": "ee918688",
   "metadata": {},
   "outputs": [],
   "source": [
    "# parse the TSV into a list of `HipeDocument` objects\n",
    "hipe2020_dev_de_docs = parse_tsv(file_path=hipe2020_dev_de_path)"
   ]
  },
  {
   "cell_type": "code",
   "execution_count": 74,
   "id": "ca1b34aa",
   "metadata": {},
   "outputs": [
    {
     "name": "stdout",
     "output_type": "stream",
     "text": [
      "\n",
      "Path of the TSV file: ./data/v2.1/hipe2020/de/HIPE-2022-v2.1-hipe2020-dev-de.tsv \n",
      "Number of documents: 33 \n",
      "Number of entities: {'coarse_lit': 1242, 'coarse_meto': 91, 'fine_lit': 1242, 'fine_meto': 91, 'fine_comp': 468, 'nested': 67} \n",
      "Number of tokens: 32671 \n",
      "Entity breakdown by type: coarse_lit\n",
      "+------+---------+\n",
      "|      |   count |\n",
      "+======+=========+\n",
      "| loc  |     588 |\n",
      "+------+---------+\n",
      "| org  |     164 |\n",
      "+------+---------+\n",
      "| pers |     372 |\n",
      "+------+---------+\n",
      "| prod |      49 |\n",
      "+------+---------+\n",
      "| time |      69 |\n",
      "+------+---------+\n",
      "coarse_meto\n",
      "+------+---------+\n",
      "|      |   count |\n",
      "+======+=========+\n",
      "| loc  |      12 |\n",
      "+------+---------+\n",
      "| org  |      78 |\n",
      "+------+---------+\n",
      "| prod |       1 |\n",
      "+------+---------+\n",
      "fine_lit\n",
      "+---------------------+---------+\n",
      "|                     |   count |\n",
      "+=====================+=========+\n",
      "| loc.adm.nat         |     135 |\n",
      "+---------------------+---------+\n",
      "| loc.adm.reg         |      53 |\n",
      "+---------------------+---------+\n",
      "| loc.adm.sup         |       8 |\n",
      "+---------------------+---------+\n",
      "| loc.adm.town        |     339 |\n",
      "+---------------------+---------+\n",
      "| loc.fac             |      15 |\n",
      "+---------------------+---------+\n",
      "| loc.oro             |      24 |\n",
      "+---------------------+---------+\n",
      "| loc.phys.geo        |       7 |\n",
      "+---------------------+---------+\n",
      "| loc.phys.hydro      |       7 |\n",
      "+---------------------+---------+\n",
      "| org.adm             |      53 |\n",
      "+---------------------+---------+\n",
      "| org.ent             |     100 |\n",
      "+---------------------+---------+\n",
      "| org.ent.pressagency |      11 |\n",
      "+---------------------+---------+\n",
      "| pers.coll           |       1 |\n",
      "+---------------------+---------+\n",
      "| pers.ind            |     371 |\n",
      "+---------------------+---------+\n",
      "| prod.doctr          |       3 |\n",
      "+---------------------+---------+\n",
      "| prod.media          |      46 |\n",
      "+---------------------+---------+\n",
      "| time.date.abs       |      69 |\n",
      "+---------------------+---------+\n",
      "fine_meto\n",
      "+--------------+---------+\n",
      "|              |   count |\n",
      "+==============+=========+\n",
      "| loc.adm.reg  |       1 |\n",
      "+--------------+---------+\n",
      "| loc.adm.town |       1 |\n",
      "+--------------+---------+\n",
      "| loc.fac      |      10 |\n",
      "+--------------+---------+\n",
      "| org.adm      |      75 |\n",
      "+--------------+---------+\n",
      "| org.ent      |       3 |\n",
      "+--------------+---------+\n",
      "| prod.media   |       1 |\n",
      "+--------------+---------+\n",
      "fine_comp\n",
      "+----------------+---------+\n",
      "|                |   count |\n",
      "+================+=========+\n",
      "| comp.demonym   |      16 |\n",
      "+----------------+---------+\n",
      "| comp.function  |      83 |\n",
      "+----------------+---------+\n",
      "| comp.name      |     225 |\n",
      "+----------------+---------+\n",
      "| comp.qualifier |       5 |\n",
      "+----------------+---------+\n",
      "| comp.title     |     139 |\n",
      "+----------------+---------+\n",
      "nested\n",
      "+----------------+---------+\n",
      "|                |   count |\n",
      "+================+=========+\n",
      "| loc.adm.nat    |      10 |\n",
      "+----------------+---------+\n",
      "| loc.adm.reg    |       5 |\n",
      "+----------------+---------+\n",
      "| loc.adm.town   |      26 |\n",
      "+----------------+---------+\n",
      "| loc.phys.geo   |       2 |\n",
      "+----------------+---------+\n",
      "| loc.phys.hydro |       2 |\n",
      "+----------------+---------+\n",
      "| org.adm        |       3 |\n",
      "+----------------+---------+\n",
      "| org.ent        |       7 |\n",
      "+----------------+---------+\n",
      "| pers.ind       |       9 |\n",
      "+----------------+---------+\n",
      "| time.date.abs  |       3 |\n",
      "+----------------+---------+\n",
      "\n"
     ]
    }
   ],
   "source": [
    "# print some basic stats for the TSV dataset \n",
    "print(describe_dataset(documents=hipe2020_dev_de_docs))"
   ]
  },
  {
   "cell_type": "markdown",
   "id": "d9066d1a",
   "metadata": {},
   "source": [
    "#### Train"
   ]
  },
  {
   "cell_type": "code",
   "execution_count": 75,
   "id": "d3f07e60",
   "metadata": {},
   "outputs": [],
   "source": [
    "# parse the TSV into a list of `HipeDocument` objects\n",
    "hipe2020_train_de_docs = parse_tsv(file_path=hipe2020_train_de_path)"
   ]
  },
  {
   "cell_type": "code",
   "execution_count": 76,
   "id": "681ff82c",
   "metadata": {},
   "outputs": [
    {
     "name": "stdout",
     "output_type": "stream",
     "text": [
      "\n",
      "Path of the TSV file: ./data/v2.1/hipe2020/de/HIPE-2022-v2.1-hipe2020-train-de.tsv \n",
      "Number of documents: 103 \n",
      "Number of entities: {'coarse_lit': 3494, 'coarse_meto': 325, 'fine_lit': 3494, 'fine_meto': 325, 'fine_comp': 1436, 'nested': 158} \n",
      "Number of tokens: 86445 \n",
      "Entity breakdown by type: coarse_lit\n",
      "+------+---------+\n",
      "|      |   count |\n",
      "+======+=========+\n",
      "| loc  |    1740 |\n",
      "+------+---------+\n",
      "| org  |     358 |\n",
      "+------+---------+\n",
      "| pers |    1166 |\n",
      "+------+---------+\n",
      "| prod |     112 |\n",
      "+------+---------+\n",
      "| time |     118 |\n",
      "+------+---------+\n",
      "coarse_meto\n",
      "+------+---------+\n",
      "|      |   count |\n",
      "+======+=========+\n",
      "| loc  |      17 |\n",
      "+------+---------+\n",
      "| org  |     306 |\n",
      "+------+---------+\n",
      "| pers |       2 |\n",
      "+------+---------+\n",
      "fine_lit\n",
      "+---------------------+---------+\n",
      "|                     |   count |\n",
      "+=====================+=========+\n",
      "| loc.add.phys        |       2 |\n",
      "+---------------------+---------+\n",
      "| loc.adm.nat         |     563 |\n",
      "+---------------------+---------+\n",
      "| loc.adm.reg         |     199 |\n",
      "+---------------------+---------+\n",
      "| loc.adm.sup         |      42 |\n",
      "+---------------------+---------+\n",
      "| loc.adm.town        |     687 |\n",
      "+---------------------+---------+\n",
      "| loc.fac             |      46 |\n",
      "+---------------------+---------+\n",
      "| loc.oro             |      52 |\n",
      "+---------------------+---------+\n",
      "| loc.phys.astro      |       2 |\n",
      "+---------------------+---------+\n",
      "| loc.phys.geo        |      58 |\n",
      "+---------------------+---------+\n",
      "| loc.phys.hydro      |      88 |\n",
      "+---------------------+---------+\n",
      "| loc.unk             |       1 |\n",
      "+---------------------+---------+\n",
      "| org.adm             |     136 |\n",
      "+---------------------+---------+\n",
      "| org.ent             |     196 |\n",
      "+---------------------+---------+\n",
      "| org.ent.pressagency |      26 |\n",
      "+---------------------+---------+\n",
      "| pers.coll           |      14 |\n",
      "+---------------------+---------+\n",
      "| pers.ind            |    1152 |\n",
      "+---------------------+---------+\n",
      "| prod.doctr          |      19 |\n",
      "+---------------------+---------+\n",
      "| prod.media          |      93 |\n",
      "+---------------------+---------+\n",
      "| time.date.abs       |     118 |\n",
      "+---------------------+---------+\n",
      "fine_meto\n",
      "+-------------+---------+\n",
      "|             |   count |\n",
      "+=============+=========+\n",
      "| loc.adm.reg |      17 |\n",
      "+-------------+---------+\n",
      "| org.adm     |     294 |\n",
      "+-------------+---------+\n",
      "| org.ent     |      12 |\n",
      "+-------------+---------+\n",
      "| pers.coll   |       1 |\n",
      "+-------------+---------+\n",
      "| pers.ind    |       1 |\n",
      "+-------------+---------+\n",
      "fine_comp\n",
      "+----------------+---------+\n",
      "|                |   count |\n",
      "+================+=========+\n",
      "| comp.demonym   |      30 |\n",
      "+----------------+---------+\n",
      "| comp.function  |     280 |\n",
      "+----------------+---------+\n",
      "| comp.name      |     703 |\n",
      "+----------------+---------+\n",
      "| comp.qualifier |      35 |\n",
      "+----------------+---------+\n",
      "| comp.title     |     388 |\n",
      "+----------------+---------+\n",
      "nested\n",
      "+----------------+---------+\n",
      "|                |   count |\n",
      "+================+=========+\n",
      "| loc.adm.nat    |      13 |\n",
      "+----------------+---------+\n",
      "| loc.adm.reg    |       3 |\n",
      "+----------------+---------+\n",
      "| loc.adm.sup    |       4 |\n",
      "+----------------+---------+\n",
      "| loc.adm.town   |      57 |\n",
      "+----------------+---------+\n",
      "| loc.fac        |       3 |\n",
      "+----------------+---------+\n",
      "| loc.oro        |       1 |\n",
      "+----------------+---------+\n",
      "| loc.phys.geo   |       2 |\n",
      "+----------------+---------+\n",
      "| loc.phys.hydro |      10 |\n",
      "+----------------+---------+\n",
      "| org.adm        |       9 |\n",
      "+----------------+---------+\n",
      "| org.ent        |      35 |\n",
      "+----------------+---------+\n",
      "| pers.coll      |       1 |\n",
      "+----------------+---------+\n",
      "| pers.ind       |      16 |\n",
      "+----------------+---------+\n",
      "| prod.media     |       1 |\n",
      "+----------------+---------+\n",
      "| time.date.abs  |       3 |\n",
      "+----------------+---------+\n",
      "\n"
     ]
    }
   ],
   "source": [
    "# print some basic stats for the TSV dataset \n",
    "print(describe_dataset(documents=hipe2020_train_de_docs))"
   ]
  },
  {
   "cell_type": "markdown",
   "id": "14039039",
   "metadata": {},
   "source": [
    "#### Test\n"
   ]
  },
  {
   "cell_type": "code",
   "execution_count": 77,
   "id": "cb729ef9",
   "metadata": {},
   "outputs": [],
   "source": [
    "# parse the TSV into a list of `HipeDocument` objects\n",
    "hipe2020_test_de_docs = parse_tsv(file_path=hipe2020_test_de_path)"
   ]
  },
  {
   "cell_type": "code",
   "execution_count": 78,
   "id": "dc7c8dec",
   "metadata": {},
   "outputs": [
    {
     "name": "stdout",
     "output_type": "stream",
     "text": [
      "\n",
      "Path of the TSV file: ./data/v2.1/hipe2020/de/HIPE-2022-v2.1-hipe2020-test-de.tsv \n",
      "Number of documents: 49 \n",
      "Number of entities: {'coarse_lit': 1147, 'coarse_meto': 118, 'fine_lit': 1147, 'fine_meto': 118, 'fine_comp': 431, 'nested': 73} \n",
      "Number of tokens: 30737 \n",
      "Entity breakdown by type: coarse_lit\n",
      "+------+---------+\n",
      "|      |   count |\n",
      "+======+=========+\n",
      "| loc  |     595 |\n",
      "+------+---------+\n",
      "| org  |     130 |\n",
      "+------+---------+\n",
      "| pers |     311 |\n",
      "+------+---------+\n",
      "| prod |      62 |\n",
      "+------+---------+\n",
      "| time |      49 |\n",
      "+------+---------+\n",
      "coarse_meto\n",
      "+------+---------+\n",
      "|      |   count |\n",
      "+======+=========+\n",
      "| loc  |       1 |\n",
      "+------+---------+\n",
      "| org  |     116 |\n",
      "+------+---------+\n",
      "| pers |       1 |\n",
      "+------+---------+\n",
      "fine_lit\n",
      "+------------------------+---------+\n",
      "|                        |   count |\n",
      "+========================+=========+\n",
      "| loc.adm.nat            |     160 |\n",
      "+------------------------+---------+\n",
      "| loc.adm.reg            |      84 |\n",
      "+------------------------+---------+\n",
      "| loc.adm.sup            |      21 |\n",
      "+------------------------+---------+\n",
      "| loc.adm.town           |     257 |\n",
      "+------------------------+---------+\n",
      "| loc.fac                |      14 |\n",
      "+------------------------+---------+\n",
      "| loc.oro                |       5 |\n",
      "+------------------------+---------+\n",
      "| loc.phys.astro         |      10 |\n",
      "+------------------------+---------+\n",
      "| loc.phys.geo           |      14 |\n",
      "+------------------------+---------+\n",
      "| loc.phys.hydro         |      29 |\n",
      "+------------------------+---------+\n",
      "| loc.unk                |       1 |\n",
      "+------------------------+---------+\n",
      "| org.adm                |      29 |\n",
      "+------------------------+---------+\n",
      "| org.ent                |      83 |\n",
      "+------------------------+---------+\n",
      "| org.ent.pressagency    |      18 |\n",
      "+------------------------+---------+\n",
      "| pers.ind               |     309 |\n",
      "+------------------------+---------+\n",
      "| pers.ind.articleauthor |       2 |\n",
      "+------------------------+---------+\n",
      "| prod.doctr             |       5 |\n",
      "+------------------------+---------+\n",
      "| prod.media             |      57 |\n",
      "+------------------------+---------+\n",
      "| time.date.abs          |      49 |\n",
      "+------------------------+---------+\n",
      "fine_meto\n",
      "+-------------+---------+\n",
      "|             |   count |\n",
      "+=============+=========+\n",
      "| loc.adm.nat |       1 |\n",
      "+-------------+---------+\n",
      "| org.adm     |     116 |\n",
      "+-------------+---------+\n",
      "| pers.ind    |       1 |\n",
      "+-------------+---------+\n",
      "fine_comp\n",
      "+----------------+---------+\n",
      "|                |   count |\n",
      "+================+=========+\n",
      "| comp.demonym   |      17 |\n",
      "+----------------+---------+\n",
      "| comp.function  |      66 |\n",
      "+----------------+---------+\n",
      "| comp.name      |     214 |\n",
      "+----------------+---------+\n",
      "| comp.qualifier |      33 |\n",
      "+----------------+---------+\n",
      "| comp.title     |     101 |\n",
      "+----------------+---------+\n",
      "nested\n",
      "+----------------+---------+\n",
      "|                |   count |\n",
      "+================+=========+\n",
      "| loc.adm.nat    |       4 |\n",
      "+----------------+---------+\n",
      "| loc.adm.reg    |       4 |\n",
      "+----------------+---------+\n",
      "| loc.adm.sup    |       1 |\n",
      "+----------------+---------+\n",
      "| loc.adm.town   |      45 |\n",
      "+----------------+---------+\n",
      "| loc.phys.hydro |       9 |\n",
      "+----------------+---------+\n",
      "| org.adm        |       2 |\n",
      "+----------------+---------+\n",
      "| org.ent        |       4 |\n",
      "+----------------+---------+\n",
      "| pers.ind       |       3 |\n",
      "+----------------+---------+\n",
      "| prod.media     |       1 |\n",
      "+----------------+---------+\n",
      "\n"
     ]
    }
   ],
   "source": [
    "# print some basic stats for the TSV dataset \n",
    "print(describe_dataset(documents=hipe2020_test_de_docs))"
   ]
  },
  {
   "cell_type": "markdown",
   "id": "3d98272e",
   "metadata": {},
   "source": [
    "### hipe2020 FR"
   ]
  },
  {
   "cell_type": "markdown",
   "id": "070880bf",
   "metadata": {},
   "source": [
    "#### Dev"
   ]
  },
  {
   "cell_type": "code",
   "execution_count": 79,
   "id": "eb508bb1",
   "metadata": {},
   "outputs": [],
   "source": [
    "# parse the TSV into a list of `HipeDocument` objects\n",
    "hipe2020_dev_fr_docs = parse_tsv(file_path=hipe2020_dev_fr_path)"
   ]
  },
  {
   "cell_type": "code",
   "execution_count": 80,
   "id": "1eac079a",
   "metadata": {},
   "outputs": [
    {
     "name": "stdout",
     "output_type": "stream",
     "text": [
      "\n",
      "Path of the TSV file: ./data/v2.1/hipe2020/fr/HIPE-2022-v2.1-hipe2020-dev-fr.tsv \n",
      "Number of documents: 43 \n",
      "Number of entities: {'coarse_lit': 1729, 'coarse_meto': 108, 'fine_lit': 1729, 'fine_meto': 108, 'fine_comp': 724, 'nested': 91} \n",
      "Number of tokens: 37953 \n",
      "Entity breakdown by type: coarse_lit\n",
      "+------+---------+\n",
      "|      |   count |\n",
      "+======+=========+\n",
      "| loc  |     774 |\n",
      "+------+---------+\n",
      "| org  |     159 |\n",
      "+------+---------+\n",
      "| pers |     679 |\n",
      "+------+---------+\n",
      "| prod |      49 |\n",
      "+------+---------+\n",
      "| time |      68 |\n",
      "+------+---------+\n",
      "coarse_meto\n",
      "+-----+---------+\n",
      "|     |   count |\n",
      "+=====+=========+\n",
      "| loc |       3 |\n",
      "+-----+---------+\n",
      "| org |     105 |\n",
      "+-----+---------+\n",
      "fine_lit\n",
      "+------------------------+---------+\n",
      "|                        |   count |\n",
      "+========================+=========+\n",
      "| loc.add.phys           |       1 |\n",
      "+------------------------+---------+\n",
      "| loc.adm.nat            |     258 |\n",
      "+------------------------+---------+\n",
      "| loc.adm.reg            |      73 |\n",
      "+------------------------+---------+\n",
      "| loc.adm.sup            |      27 |\n",
      "+------------------------+---------+\n",
      "| loc.adm.town           |     352 |\n",
      "+------------------------+---------+\n",
      "| loc.fac                |      11 |\n",
      "+------------------------+---------+\n",
      "| loc.oro                |      10 |\n",
      "+------------------------+---------+\n",
      "| loc.phys.geo           |      21 |\n",
      "+------------------------+---------+\n",
      "| loc.phys.hydro         |      18 |\n",
      "+------------------------+---------+\n",
      "| loc.unk                |       3 |\n",
      "+------------------------+---------+\n",
      "| org.adm                |      54 |\n",
      "+------------------------+---------+\n",
      "| org.ent                |      81 |\n",
      "+------------------------+---------+\n",
      "| org.ent.pressagency    |      24 |\n",
      "+------------------------+---------+\n",
      "| pers.coll              |      10 |\n",
      "+------------------------+---------+\n",
      "| pers.ind               |     655 |\n",
      "+------------------------+---------+\n",
      "| pers.ind.articleauthor |      14 |\n",
      "+------------------------+---------+\n",
      "| prod.doctr             |       2 |\n",
      "+------------------------+---------+\n",
      "| prod.media             |      47 |\n",
      "+------------------------+---------+\n",
      "| time.date.abs          |      68 |\n",
      "+------------------------+---------+\n",
      "fine_meto\n",
      "+---------+---------+\n",
      "|         |   count |\n",
      "+=========+=========+\n",
      "| loc.fac |       2 |\n",
      "+---------+---------+\n",
      "| loc.oro |       1 |\n",
      "+---------+---------+\n",
      "| org.adm |      79 |\n",
      "+---------+---------+\n",
      "| org.ent |      26 |\n",
      "+---------+---------+\n",
      "fine_comp\n",
      "+----------------+---------+\n",
      "|                |   count |\n",
      "+================+=========+\n",
      "| comp.demonym   |       7 |\n",
      "+----------------+---------+\n",
      "| comp.function  |     117 |\n",
      "+----------------+---------+\n",
      "| comp.name      |     343 |\n",
      "+----------------+---------+\n",
      "| comp.qualifier |       9 |\n",
      "+----------------+---------+\n",
      "| comp.title     |     248 |\n",
      "+----------------+---------+\n",
      "nested\n",
      "+----------------+---------+\n",
      "|                |   count |\n",
      "+================+=========+\n",
      "| loc.adm.nat    |      15 |\n",
      "+----------------+---------+\n",
      "| loc.adm.reg    |       5 |\n",
      "+----------------+---------+\n",
      "| loc.adm.town   |      37 |\n",
      "+----------------+---------+\n",
      "| loc.fac        |       1 |\n",
      "+----------------+---------+\n",
      "| loc.phys.geo   |       2 |\n",
      "+----------------+---------+\n",
      "| loc.phys.hydro |       5 |\n",
      "+----------------+---------+\n",
      "| org.adm        |       3 |\n",
      "+----------------+---------+\n",
      "| org.ent        |       8 |\n",
      "+----------------+---------+\n",
      "| pers.ind       |      14 |\n",
      "+----------------+---------+\n",
      "| prod.media     |       1 |\n",
      "+----------------+---------+\n",
      "\n"
     ]
    }
   ],
   "source": [
    "# print some basic stats for the TSV dataset \n",
    "print(describe_dataset(documents=hipe2020_dev_fr_docs))"
   ]
  },
  {
   "cell_type": "markdown",
   "id": "e8dbd691",
   "metadata": {},
   "source": [
    "#### Train"
   ]
  },
  {
   "cell_type": "code",
   "execution_count": 81,
   "id": "e21ac6f4",
   "metadata": {},
   "outputs": [],
   "source": [
    "# parse the TSV into a list of `HipeDocument` objects\n",
    "hipe2020_train_fr_docs = parse_tsv(file_path=hipe2020_train_fr_path)"
   ]
  },
  {
   "cell_type": "code",
   "execution_count": 82,
   "id": "5824fc8b",
   "metadata": {},
   "outputs": [
    {
     "name": "stdout",
     "output_type": "stream",
     "text": [
      "\n",
      "Path of the TSV file: ./data/v2.1/hipe2020/fr/HIPE-2022-v2.1-hipe2020-train-fr.tsv \n",
      "Number of documents: 158 \n",
      "Number of entities: {'coarse_lit': 6926, 'coarse_meto': 450, 'fine_lit': 6926, 'fine_meto': 450, 'fine_comp': 3050, 'nested': 473} \n",
      "Number of tokens: 166220 \n",
      "Entity breakdown by type: coarse_lit\n",
      "+------+---------+\n",
      "|      |   count |\n",
      "+======+=========+\n",
      "| loc  |    3089 |\n",
      "+------+---------+\n",
      "| org  |     836 |\n",
      "+------+---------+\n",
      "| pers |    2525 |\n",
      "+------+---------+\n",
      "| prod |     200 |\n",
      "+------+---------+\n",
      "| time |     276 |\n",
      "+------+---------+\n",
      "coarse_meto\n",
      "+-----+---------+\n",
      "|     |   count |\n",
      "+=====+=========+\n",
      "| loc |       7 |\n",
      "+-----+---------+\n",
      "| org |     443 |\n",
      "+-----+---------+\n",
      "fine_lit\n",
      "+------------------------+---------+\n",
      "|                        |   count |\n",
      "+========================+=========+\n",
      "| loc.add.elec           |       1 |\n",
      "+------------------------+---------+\n",
      "| loc.add.phys           |       3 |\n",
      "+------------------------+---------+\n",
      "| loc.adm.nat            |     648 |\n",
      "+------------------------+---------+\n",
      "| loc.adm.reg            |     376 |\n",
      "+------------------------+---------+\n",
      "| loc.adm.sup            |      63 |\n",
      "+------------------------+---------+\n",
      "| loc.adm.town           |    1688 |\n",
      "+------------------------+---------+\n",
      "| loc.fac                |      59 |\n",
      "+------------------------+---------+\n",
      "| loc.oro                |      91 |\n",
      "+------------------------+---------+\n",
      "| loc.phys.geo           |      84 |\n",
      "+------------------------+---------+\n",
      "| loc.phys.hydro         |      73 |\n",
      "+------------------------+---------+\n",
      "| loc.unk                |       3 |\n",
      "+------------------------+---------+\n",
      "| org.adm                |     208 |\n",
      "+------------------------+---------+\n",
      "| org.ent                |     571 |\n",
      "+------------------------+---------+\n",
      "| org.ent.pressagency    |      57 |\n",
      "+------------------------+---------+\n",
      "| pers.coll              |      20 |\n",
      "+------------------------+---------+\n",
      "| pers.ind               |    2407 |\n",
      "+------------------------+---------+\n",
      "| pers.ind.articleauthor |      98 |\n",
      "+------------------------+---------+\n",
      "| prod.doctr             |      48 |\n",
      "+------------------------+---------+\n",
      "| prod.media             |     152 |\n",
      "+------------------------+---------+\n",
      "| time.date.abs          |     276 |\n",
      "+------------------------+---------+\n",
      "fine_meto\n",
      "+--------------+---------+\n",
      "|              |   count |\n",
      "+==============+=========+\n",
      "| loc.adm.town |       2 |\n",
      "+--------------+---------+\n",
      "| loc.fac      |       1 |\n",
      "+--------------+---------+\n",
      "| loc.oro      |       4 |\n",
      "+--------------+---------+\n",
      "| org.adm      |     306 |\n",
      "+--------------+---------+\n",
      "| org.ent      |     137 |\n",
      "+--------------+---------+\n",
      "fine_comp\n",
      "+----------------+---------+\n",
      "|                |   count |\n",
      "+================+=========+\n",
      "| comp.demonym   |      22 |\n",
      "+----------------+---------+\n",
      "| comp.function  |     535 |\n",
      "+----------------+---------+\n",
      "| comp.name      |    1476 |\n",
      "+----------------+---------+\n",
      "| comp.qualifier |      24 |\n",
      "+----------------+---------+\n",
      "| comp.title     |     993 |\n",
      "+----------------+---------+\n",
      "nested\n",
      "+----------------+---------+\n",
      "|                |   count |\n",
      "+================+=========+\n",
      "| loc.adm.nat    |      76 |\n",
      "+----------------+---------+\n",
      "| loc.adm.reg    |      36 |\n",
      "+----------------+---------+\n",
      "| loc.adm.sup    |       5 |\n",
      "+----------------+---------+\n",
      "| loc.adm.town   |     251 |\n",
      "+----------------+---------+\n",
      "| loc.fac        |       2 |\n",
      "+----------------+---------+\n",
      "| loc.oro        |       4 |\n",
      "+----------------+---------+\n",
      "| loc.phys.geo   |       9 |\n",
      "+----------------+---------+\n",
      "| loc.phys.hydro |      12 |\n",
      "+----------------+---------+\n",
      "| org.adm        |      11 |\n",
      "+----------------+---------+\n",
      "| org.ent        |      53 |\n",
      "+----------------+---------+\n",
      "| pers.coll      |       3 |\n",
      "+----------------+---------+\n",
      "| pers.ind       |      11 |\n",
      "+----------------+---------+\n",
      "\n"
     ]
    }
   ],
   "source": [
    "# print some basic stats for the TSV dataset \n",
    "print(describe_dataset(documents=hipe2020_train_fr_docs))"
   ]
  },
  {
   "cell_type": "markdown",
   "id": "cc5bd52d",
   "metadata": {},
   "source": [
    "#### Test\n"
   ]
  },
  {
   "cell_type": "code",
   "execution_count": 83,
   "id": "ff3b0737",
   "metadata": {},
   "outputs": [],
   "source": [
    "# parse the TSV into a list of `HipeDocument` objects\n",
    "hipe2020_test_fr_docs = parse_tsv(file_path=hipe2020_test_fr_path)"
   ]
  },
  {
   "cell_type": "code",
   "execution_count": 84,
   "id": "d7da663f",
   "metadata": {},
   "outputs": [
    {
     "name": "stdout",
     "output_type": "stream",
     "text": [
      "\n",
      "Path of the TSV file: ./data/v2.1/hipe2020/fr/HIPE-2022-v2.1-hipe2020-test-fr.tsv \n",
      "Number of documents: 43 \n",
      "Number of entities: {'coarse_lit': 1600, 'coarse_meto': 112, 'fine_lit': 1600, 'fine_meto': 112, 'fine_comp': 709, 'nested': 82} \n",
      "Number of tokens: 40854 \n",
      "Entity breakdown by type: coarse_lit\n",
      "+------+---------+\n",
      "|      |   count |\n",
      "+======+=========+\n",
      "| loc  |     854 |\n",
      "+------+---------+\n",
      "| org  |     130 |\n",
      "+------+---------+\n",
      "| pers |     502 |\n",
      "+------+---------+\n",
      "| prod |      61 |\n",
      "+------+---------+\n",
      "| time |      53 |\n",
      "+------+---------+\n",
      "coarse_meto\n",
      "+------+---------+\n",
      "|      |   count |\n",
      "+======+=========+\n",
      "| org  |     111 |\n",
      "+------+---------+\n",
      "| time |       1 |\n",
      "+------+---------+\n",
      "fine_lit\n",
      "+------------------------+---------+\n",
      "|                        |   count |\n",
      "+========================+=========+\n",
      "| loc.adm.nat            |     151 |\n",
      "+------------------------+---------+\n",
      "| loc.adm.reg            |     147 |\n",
      "+------------------------+---------+\n",
      "| loc.adm.sup            |      19 |\n",
      "+------------------------+---------+\n",
      "| loc.adm.town           |     446 |\n",
      "+------------------------+---------+\n",
      "| loc.fac                |      18 |\n",
      "+------------------------+---------+\n",
      "| loc.oro                |      19 |\n",
      "+------------------------+---------+\n",
      "| loc.phys.geo           |      28 |\n",
      "+------------------------+---------+\n",
      "| loc.phys.hydro         |      23 |\n",
      "+------------------------+---------+\n",
      "| loc.unk                |       3 |\n",
      "+------------------------+---------+\n",
      "| org.adm                |      43 |\n",
      "+------------------------+---------+\n",
      "| org.ent                |      67 |\n",
      "+------------------------+---------+\n",
      "| org.ent.pressagency    |      20 |\n",
      "+------------------------+---------+\n",
      "| pers.coll              |       5 |\n",
      "+------------------------+---------+\n",
      "| pers.ind               |     487 |\n",
      "+------------------------+---------+\n",
      "| pers.ind.articleauthor |      10 |\n",
      "+------------------------+---------+\n",
      "| prod.doctr             |       3 |\n",
      "+------------------------+---------+\n",
      "| prod.media             |      58 |\n",
      "+------------------------+---------+\n",
      "| time.date.abs          |      53 |\n",
      "+------------------------+---------+\n",
      "fine_meto\n",
      "+---------------+---------+\n",
      "|               |   count |\n",
      "+===============+=========+\n",
      "| org.adm       |     106 |\n",
      "+---------------+---------+\n",
      "| org.ent       |       5 |\n",
      "+---------------+---------+\n",
      "| time.date.abs |       1 |\n",
      "+---------------+---------+\n",
      "fine_comp\n",
      "+----------------+---------+\n",
      "|                |   count |\n",
      "+================+=========+\n",
      "| comp.demonym   |      10 |\n",
      "+----------------+---------+\n",
      "| comp.function  |     110 |\n",
      "+----------------+---------+\n",
      "| comp.name      |     351 |\n",
      "+----------------+---------+\n",
      "| comp.qualifier |      20 |\n",
      "+----------------+---------+\n",
      "| comp.title     |     218 |\n",
      "+----------------+---------+\n",
      "nested\n",
      "+----------------+---------+\n",
      "|                |   count |\n",
      "+================+=========+\n",
      "| loc.adm.nat    |       8 |\n",
      "+----------------+---------+\n",
      "| loc.adm.reg    |       9 |\n",
      "+----------------+---------+\n",
      "| loc.adm.town   |      40 |\n",
      "+----------------+---------+\n",
      "| loc.phys.geo   |       1 |\n",
      "+----------------+---------+\n",
      "| loc.phys.hydro |       4 |\n",
      "+----------------+---------+\n",
      "| org.adm        |       3 |\n",
      "+----------------+---------+\n",
      "| org.ent        |       6 |\n",
      "+----------------+---------+\n",
      "| pers.ind       |       9 |\n",
      "+----------------+---------+\n",
      "| prod.media     |       2 |\n",
      "+----------------+---------+\n",
      "\n"
     ]
    }
   ],
   "source": [
    "# print some basic stats for the TSV dataset \n",
    "print(describe_dataset(documents=hipe2020_test_fr_docs))"
   ]
  },
  {
   "cell_type": "markdown",
   "id": "f0b06c25",
   "metadata": {},
   "source": [
    "## letemps\n",
    "\n",
    "See the [README file](./documentation/README-letemps.md) for detailed information about this dataset."
   ]
  },
  {
   "cell_type": "markdown",
   "id": "2dcea5cf",
   "metadata": {},
   "source": [
    "### File paths"
   ]
  },
  {
   "cell_type": "code",
   "execution_count": 85,
   "id": "61dec1da",
   "metadata": {},
   "outputs": [],
   "source": [
    "letemps_dev_fr_path = os.path.join(HIPE2022_data_path, f\"letemps/fr/HIPE-2022-{RELEASE_VERSION}-letemps-dev-fr.tsv\")\n",
    "letemps_train_fr_path = os.path.join(HIPE2022_data_path, f\"letemps/fr/HIPE-2022-{RELEASE_VERSION}-letemps-train-fr.tsv\")\n",
    "letemps_test_fr_path = os.path.join(HIPE2022_data_path, f\"letemps/fr/HIPE-2022-{RELEASE_VERSION}-letemps-test-fr.tsv\")"
   ]
  },
  {
   "cell_type": "markdown",
   "id": "2b0537e0",
   "metadata": {},
   "source": [
    "#### Dev"
   ]
  },
  {
   "cell_type": "code",
   "execution_count": 86,
   "id": "ceedad6b",
   "metadata": {},
   "outputs": [],
   "source": [
    "# parse the TSV into a list of `HipeDocument` objects\n",
    "letemps_dev_fr_docs = parse_tsv(file_path=letemps_dev_fr_path)"
   ]
  },
  {
   "cell_type": "code",
   "execution_count": 87,
   "id": "cae0932b",
   "metadata": {},
   "outputs": [
    {
     "name": "stdout",
     "output_type": "stream",
     "text": [
      "\n",
      "Path of the TSV file: ./data/v2.1/letemps/fr/HIPE-2022-v2.1-letemps-dev-fr.tsv \n",
      "Number of documents: 51 \n",
      "Number of entities: {'coarse_lit': 869, 'fine_lit': 869, 'nested': 12} \n",
      "Number of tokens: 38649 \n",
      "Entity breakdown by type: coarse_lit\n",
      "+------+---------+\n",
      "|      |   count |\n",
      "+======+=========+\n",
      "| loc  |     516 |\n",
      "+------+---------+\n",
      "| org  |      41 |\n",
      "+------+---------+\n",
      "| pers |     312 |\n",
      "+------+---------+\n",
      "fine_lit\n",
      "+----------------+---------+\n",
      "|                |   count |\n",
      "+================+=========+\n",
      "| loc            |      16 |\n",
      "+----------------+---------+\n",
      "| loc.add        |       2 |\n",
      "+----------------+---------+\n",
      "| loc.add.phys   |      21 |\n",
      "+----------------+---------+\n",
      "| loc.adm        |      20 |\n",
      "+----------------+---------+\n",
      "| loc.adm.nat    |     104 |\n",
      "+----------------+---------+\n",
      "| loc.adm.reg    |      45 |\n",
      "+----------------+---------+\n",
      "| loc.adm.town   |     270 |\n",
      "+----------------+---------+\n",
      "| loc.admin.sup  |       1 |\n",
      "+----------------+---------+\n",
      "| loc.phys.geo   |      25 |\n",
      "+----------------+---------+\n",
      "| loc.phys.hydro |      12 |\n",
      "+----------------+---------+\n",
      "| org.adm        |      12 |\n",
      "+----------------+---------+\n",
      "| org.ent        |      29 |\n",
      "+----------------+---------+\n",
      "| pers           |       4 |\n",
      "+----------------+---------+\n",
      "| pers.coll      |       7 |\n",
      "+----------------+---------+\n",
      "| pers.ind       |     301 |\n",
      "+----------------+---------+\n",
      "nested\n",
      "+--------------+---------+\n",
      "|              |   count |\n",
      "+==============+=========+\n",
      "| loc.adm.nat  |      10 |\n",
      "+--------------+---------+\n",
      "| loc.adm.town |       1 |\n",
      "+--------------+---------+\n",
      "| pers.ind     |       1 |\n",
      "+--------------+---------+\n",
      "\n"
     ]
    }
   ],
   "source": [
    "# print some basic stats for the TSV dataset \n",
    "print(describe_dataset(documents=letemps_dev_fr_docs))"
   ]
  },
  {
   "cell_type": "markdown",
   "id": "64a305b2",
   "metadata": {},
   "source": [
    "#### Train"
   ]
  },
  {
   "cell_type": "code",
   "execution_count": 88,
   "id": "cc6d3eee",
   "metadata": {},
   "outputs": [],
   "source": [
    "# parse the TSV into a list of `HipeDocument` objects\n",
    "letemps_train_fr_docs = parse_tsv(file_path=letemps_train_fr_path)"
   ]
  },
  {
   "cell_type": "code",
   "execution_count": 89,
   "id": "867d6f04",
   "metadata": {},
   "outputs": [
    {
     "name": "stdout",
     "output_type": "stream",
     "text": [
      "\n",
      "Path of the TSV file: ./data/v2.1/letemps/fr/HIPE-2022-v2.1-letemps-train-fr.tsv \n",
      "Number of documents: 414 \n",
      "Number of entities: {'coarse_lit': 9159, 'fine_lit': 9159, 'nested': 69} \n",
      "Number of tokens: 379487 \n",
      "Entity breakdown by type: coarse_lit\n",
      "+------+---------+\n",
      "|      |   count |\n",
      "+======+=========+\n",
      "| loc  |    5260 |\n",
      "+------+---------+\n",
      "| org  |     472 |\n",
      "+------+---------+\n",
      "| pers |    3427 |\n",
      "+------+---------+\n",
      "fine_lit\n",
      "+----------------+---------+\n",
      "|                |   count |\n",
      "+================+=========+\n",
      "| loc            |     262 |\n",
      "+----------------+---------+\n",
      "| loc.add        |       3 |\n",
      "+----------------+---------+\n",
      "| loc.add.phys   |     169 |\n",
      "+----------------+---------+\n",
      "| loc.adm        |     111 |\n",
      "+----------------+---------+\n",
      "| loc.adm.nat    |    1097 |\n",
      "+----------------+---------+\n",
      "| loc.adm.reg    |     477 |\n",
      "+----------------+---------+\n",
      "| loc.adm.town   |    2713 |\n",
      "+----------------+---------+\n",
      "| loc.admin.sup  |      33 |\n",
      "+----------------+---------+\n",
      "| loc.oro        |      13 |\n",
      "+----------------+---------+\n",
      "| loc.phys       |      10 |\n",
      "+----------------+---------+\n",
      "| loc.phys.astro |      10 |\n",
      "+----------------+---------+\n",
      "| loc.phys.geo   |     268 |\n",
      "+----------------+---------+\n",
      "| loc.phys.hydro |      94 |\n",
      "+----------------+---------+\n",
      "| org.adm        |     171 |\n",
      "+----------------+---------+\n",
      "| org.ent        |     301 |\n",
      "+----------------+---------+\n",
      "| pers           |      45 |\n",
      "+----------------+---------+\n",
      "| pers.coll      |     149 |\n",
      "+----------------+---------+\n",
      "| pers.ind       |    3233 |\n",
      "+----------------+---------+\n",
      "nested\n",
      "+----------------+---------+\n",
      "|                |   count |\n",
      "+================+=========+\n",
      "| loc.adm.nat    |       9 |\n",
      "+----------------+---------+\n",
      "| loc.adm.reg    |       5 |\n",
      "+----------------+---------+\n",
      "| loc.adm.town   |      43 |\n",
      "+----------------+---------+\n",
      "| loc.phys.geo   |       5 |\n",
      "+----------------+---------+\n",
      "| loc.phys.hydro |       1 |\n",
      "+----------------+---------+\n",
      "| org.ent        |       1 |\n",
      "+----------------+---------+\n",
      "| pers.ind       |       5 |\n",
      "+----------------+---------+\n",
      "\n"
     ]
    }
   ],
   "source": [
    "# print some basic stats for the TSV dataset \n",
    "print(describe_dataset(documents=letemps_train_fr_docs))"
   ]
  },
  {
   "cell_type": "markdown",
   "id": "3b23248f",
   "metadata": {},
   "source": [
    "#### Dev"
   ]
  },
  {
   "cell_type": "code",
   "execution_count": 90,
   "id": "bafec598",
   "metadata": {},
   "outputs": [],
   "source": [
    "# parse the TSV into a list of `HipeDocument` objects\n",
    "letemps_test_fr_docs = parse_tsv(file_path=letemps_test_fr_path)"
   ]
  },
  {
   "cell_type": "code",
   "execution_count": 91,
   "id": "91bc22b0",
   "metadata": {},
   "outputs": [
    {
     "name": "stdout",
     "output_type": "stream",
     "text": [
      "\n",
      "Path of the TSV file: ./data/v2.1/letemps/fr/HIPE-2022-v2.1-letemps-test-fr.tsv \n",
      "Number of documents: 51 \n",
      "Number of entities: {'coarse_lit': 1017, 'fine_lit': 1017, 'nested': 12} \n",
      "Number of tokens: 48468 \n",
      "Entity breakdown by type: coarse_lit\n",
      "+------+---------+\n",
      "|      |   count |\n",
      "+======+=========+\n",
      "| loc  |     591 |\n",
      "+------+---------+\n",
      "| org  |      79 |\n",
      "+------+---------+\n",
      "| pers |     347 |\n",
      "+------+---------+\n",
      "fine_lit\n",
      "+----------------+---------+\n",
      "|                |   count |\n",
      "+================+=========+\n",
      "| loc            |      16 |\n",
      "+----------------+---------+\n",
      "| loc.add.phys   |       8 |\n",
      "+----------------+---------+\n",
      "| loc.adm        |      10 |\n",
      "+----------------+---------+\n",
      "| loc.adm.nat    |     155 |\n",
      "+----------------+---------+\n",
      "| loc.adm.reg    |      45 |\n",
      "+----------------+---------+\n",
      "| loc.adm.town   |     311 |\n",
      "+----------------+---------+\n",
      "| loc.admin.sup  |       3 |\n",
      "+----------------+---------+\n",
      "| loc.phys       |       6 |\n",
      "+----------------+---------+\n",
      "| loc.phys.geo   |      26 |\n",
      "+----------------+---------+\n",
      "| loc.phys.hydro |      11 |\n",
      "+----------------+---------+\n",
      "| org.adm        |      36 |\n",
      "+----------------+---------+\n",
      "| org.ent        |      43 |\n",
      "+----------------+---------+\n",
      "| pers           |      12 |\n",
      "+----------------+---------+\n",
      "| pers.coll      |       8 |\n",
      "+----------------+---------+\n",
      "| pers.ind       |     327 |\n",
      "+----------------+---------+\n",
      "nested\n",
      "+--------------+---------+\n",
      "|              |   count |\n",
      "+==============+=========+\n",
      "| loc.adm.town |      10 |\n",
      "+--------------+---------+\n",
      "| loc.phys.geo |       1 |\n",
      "+--------------+---------+\n",
      "| pers.ind     |       1 |\n",
      "+--------------+---------+\n",
      "\n"
     ]
    }
   ],
   "source": [
    "# print some basic stats for the TSV dataset \n",
    "print(describe_dataset(documents=letemps_test_fr_docs))"
   ]
  },
  {
   "cell_type": "markdown",
   "id": "ed696674",
   "metadata": {},
   "source": [
    "## topRes19th\n",
    "\n",
    "See the [README file](./documentation/README-topres19th.md) for detailed information about this dataset."
   ]
  },
  {
   "cell_type": "markdown",
   "id": "01e062c6",
   "metadata": {},
   "source": [
    "### File paths"
   ]
  },
  {
   "cell_type": "code",
   "execution_count": 92,
   "id": "51fa12eb",
   "metadata": {},
   "outputs": [],
   "source": [
    "topRes19th_dev_en_path = os.path.join(HIPE2022_data_path, f\"topres19th/en/HIPE-2022-{RELEASE_VERSION}-topres19th-dev-en.tsv\")\n",
    "topRes19th_train_en_path = os.path.join(HIPE2022_data_path, f\"topres19th/en/HIPE-2022-{RELEASE_VERSION}-topres19th-train-en.tsv\")\n",
    "#topRes19th_test_en_path = os.path.join(HIPE2022_data_path, f\"topres19th/en/HIPE-2022-{RELEASE_VERSION}-topres19th-test-en.tsv\")"
   ]
  },
  {
   "cell_type": "markdown",
   "id": "563e29f2",
   "metadata": {},
   "source": [
    "#### Dev"
   ]
  },
  {
   "cell_type": "code",
   "execution_count": 93,
   "id": "2457dbf9",
   "metadata": {},
   "outputs": [],
   "source": [
    "# parse the TSV into a list of `HipeDocument` objects\n",
    "topRes19th_dev_en_docs = parse_tsv(file_path=topRes19th_dev_en_path)"
   ]
  },
  {
   "cell_type": "code",
   "execution_count": 94,
   "id": "e1fa7ece",
   "metadata": {},
   "outputs": [
    {
     "name": "stdout",
     "output_type": "stream",
     "text": [
      "\n",
      "Path of the TSV file: ./data/v2.1/topres19th/en/HIPE-2022-v2.1-topres19th-dev-en.tsv \n",
      "Number of documents: 34 \n",
      "Number of entities: {'coarse_lit': 237} \n",
      "Number of tokens: 11917 \n",
      "Entity breakdown by type: coarse_lit\n",
      "+----------+---------+\n",
      "|          |   count |\n",
      "+==========+=========+\n",
      "| BUILDING |      19 |\n",
      "+----------+---------+\n",
      "| LOC      |     201 |\n",
      "+----------+---------+\n",
      "| STREET   |      17 |\n",
      "+----------+---------+\n",
      "\n"
     ]
    }
   ],
   "source": [
    "# print some basic stats for the TSV dataset \n",
    "print(describe_dataset(documents=topRes19th_dev_en_docs))"
   ]
  },
  {
   "cell_type": "markdown",
   "id": "4784aff3",
   "metadata": {},
   "source": [
    "#### Train"
   ]
  },
  {
   "cell_type": "code",
   "execution_count": 95,
   "id": "8094673a",
   "metadata": {},
   "outputs": [],
   "source": [
    "# parse the TSV into a list of `HipeDocument` objects\n",
    "topRes19th_train_en_docs = parse_tsv(file_path=topRes19th_train_en_path)"
   ]
  },
  {
   "cell_type": "code",
   "execution_count": 96,
   "id": "fc46b0f1",
   "metadata": {},
   "outputs": [
    {
     "name": "stdout",
     "output_type": "stream",
     "text": [
      "\n",
      "Path of the TSV file: ./data/v2.1/topres19th/en/HIPE-2022-v2.1-topres19th-train-en.tsv \n",
      "Number of documents: 309 \n",
      "Number of entities: {'coarse_lit': 3182} \n",
      "Number of tokens: 123983 \n",
      "Entity breakdown by type: coarse_lit\n",
      "+----------+---------+\n",
      "|          |   count |\n",
      "+==========+=========+\n",
      "| BUILDING |     359 |\n",
      "+----------+---------+\n",
      "| LOC      |    2580 |\n",
      "+----------+---------+\n",
      "| STREET   |     243 |\n",
      "+----------+---------+\n",
      "\n"
     ]
    }
   ],
   "source": [
    "# print some basic stats for the TSV dataset \n",
    "print(describe_dataset(documents=topRes19th_train_en_docs))"
   ]
  },
  {
   "cell_type": "markdown",
   "id": "d90cc1a2",
   "metadata": {},
   "source": [
    "#### Test\n",
    "\n",
    "(lines below are to be commented out once the test files for topRes are published)"
   ]
  },
  {
   "cell_type": "code",
   "execution_count": 97,
   "id": "f46d26bc",
   "metadata": {},
   "outputs": [],
   "source": [
    "# parse the TSV into a list of `HipeDocument` objects\n",
    "#topRes19th_test_en_docs = parse_tsv(file_path=topRes19th_test_en_path)"
   ]
  },
  {
   "cell_type": "code",
   "execution_count": 98,
   "id": "00abdc89",
   "metadata": {},
   "outputs": [],
   "source": [
    "# print some basic stats for the TSV dataset \n",
    "#print(describe_dataset(documents=topRes19th_dev_en_docs))"
   ]
  },
  {
   "cell_type": "markdown",
   "id": "9abfd336",
   "metadata": {},
   "source": [
    "## newseye\n",
    "\n",
    "See the [README file](./documentation/README-newseye.md) for detailed information about this dataset."
   ]
  },
  {
   "cell_type": "markdown",
   "id": "86321d90",
   "metadata": {},
   "source": [
    "### File paths"
   ]
  },
  {
   "cell_type": "code",
   "execution_count": 99,
   "id": "24c4cf39",
   "metadata": {},
   "outputs": [],
   "source": [
    "# FR\n",
    "newseye_dev_fr_path = os.path.join(HIPE2022_data_path, f\"newseye/fr/HIPE-2022-{RELEASE_VERSION}-newseye-dev-fr.tsv\")\n",
    "newseye_train_fr_path = os.path.join(HIPE2022_data_path, f\"newseye/fr/HIPE-2022-{RELEASE_VERSION}-newseye-train-fr.tsv\")\n",
    "newseye_test_fr_path = os.path.join(HIPE2022_data_path, f\"newseye/fr/HIPE-2022-{RELEASE_VERSION}-newseye-test-fr.tsv\")\n",
    "\n",
    "# DE\n",
    "newseye_dev_de_path = os.path.join(HIPE2022_data_path, f\"newseye/de/HIPE-2022-{RELEASE_VERSION}-newseye-dev-de.tsv\")\n",
    "newseye_train_de_path = os.path.join(HIPE2022_data_path, f\"newseye/de/HIPE-2022-{RELEASE_VERSION}-newseye-train-de.tsv\")\n",
    "newseye_test_de_path = os.path.join(HIPE2022_data_path, f\"newseye/de/HIPE-2022-{RELEASE_VERSION}-newseye-test-de.tsv\")\n",
    "\n",
    "# FI\n",
    "newseye_dev_fi_path = os.path.join(HIPE2022_data_path, f\"newseye/fi/HIPE-2022-{RELEASE_VERSION}-newseye-dev-fi.tsv\")\n",
    "newseye_train_fi_path = os.path.join(HIPE2022_data_path, f\"newseye/fi/HIPE-2022-{RELEASE_VERSION}-newseye-train-fi.tsv\")\n",
    "newseye_test_fi_path = os.path.join(HIPE2022_data_path, f\"newseye/fi/HIPE-2022-{RELEASE_VERSION}-newseye-test-fi.tsv\")\n",
    "\n",
    "# SV\n",
    "newseye_dev_sv_path = os.path.join(HIPE2022_data_path, f\"newseye/sv/HIPE-2022-{RELEASE_VERSION}-newseye-dev-sv.tsv\")\n",
    "newseye_train_sv_path = os.path.join(HIPE2022_data_path, f\"newseye/sv/HIPE-2022-{RELEASE_VERSION}-newseye-train-sv.tsv\")\n",
    "newseye_test_sv_path = os.path.join(HIPE2022_data_path, f\"newseye/sv/HIPE-2022-{RELEASE_VERSION}-newseye-test-sv.tsv\")"
   ]
  },
  {
   "cell_type": "markdown",
   "id": "289ca720",
   "metadata": {},
   "source": [
    "### newseye FR"
   ]
  },
  {
   "cell_type": "markdown",
   "id": "acd2b525",
   "metadata": {},
   "source": [
    "#### Dev"
   ]
  },
  {
   "cell_type": "code",
   "execution_count": 100,
   "id": "35e7be47",
   "metadata": {},
   "outputs": [],
   "source": [
    "# parse the TSV into a list of `HipeDocument` objects\n",
    "newseye_dev_fr_docs = parse_tsv(file_path=newseye_dev_fr_path)"
   ]
  },
  {
   "cell_type": "code",
   "execution_count": 101,
   "id": "c0093f53",
   "metadata": {},
   "outputs": [
    {
     "name": "stdout",
     "output_type": "stream",
     "text": [
      "\n",
      "Path of the TSV file: ./data/v2.1/newseye/fr/HIPE-2022-v2.1-newseye-dev-fr.tsv \n",
      "Number of documents: 35 \n",
      "Number of entities: {'coarse_lit': 752, 'fine_lit': 3, 'nested': 32} \n",
      "Number of tokens: 21727 \n",
      "Entity breakdown by type: coarse_lit\n",
      "+-----------+---------+\n",
      "|           |   count |\n",
      "+===========+=========+\n",
      "| HumanProd |      11 |\n",
      "+-----------+---------+\n",
      "| LOC       |     335 |\n",
      "+-----------+---------+\n",
      "| ORG       |     113 |\n",
      "+-----------+---------+\n",
      "| PER       |     293 |\n",
      "+-----------+---------+\n",
      "fine_lit\n",
      "+------------+---------+\n",
      "|            |   count |\n",
      "+============+=========+\n",
      "| PER.author |       3 |\n",
      "+------------+---------+\n",
      "nested\n",
      "+-----------+---------+\n",
      "|           |   count |\n",
      "+===========+=========+\n",
      "| HumanProd |       1 |\n",
      "+-----------+---------+\n",
      "| LOC       |      18 |\n",
      "+-----------+---------+\n",
      "| ORG       |       7 |\n",
      "+-----------+---------+\n",
      "| PER       |       6 |\n",
      "+-----------+---------+\n",
      "\n"
     ]
    }
   ],
   "source": [
    "# print some basic stats for the TSV dataset \n",
    "print(describe_dataset(documents=newseye_dev_fr_docs))"
   ]
  },
  {
   "cell_type": "markdown",
   "id": "f527b0d3",
   "metadata": {},
   "source": [
    "#### Train"
   ]
  },
  {
   "cell_type": "code",
   "execution_count": 102,
   "id": "541b4c65",
   "metadata": {},
   "outputs": [
    {
     "data": {
      "text/plain": [
       "'./data/v2.1/newseye/fr/HIPE-2022-v2.1-newseye-train-fr.tsv'"
      ]
     },
     "execution_count": 102,
     "metadata": {},
     "output_type": "execute_result"
    }
   ],
   "source": [
    "newseye_train_fr_path"
   ]
  },
  {
   "cell_type": "code",
   "execution_count": 103,
   "id": "7b4cd97a",
   "metadata": {},
   "outputs": [],
   "source": [
    "# parse the TSV into a list of `HipeDocument` objects\n",
    "newseye_train_fr_docs = parse_tsv(file_path=newseye_train_fr_path)"
   ]
  },
  {
   "cell_type": "code",
   "execution_count": 104,
   "id": "4cdc73ab",
   "metadata": {},
   "outputs": [
    {
     "name": "stdout",
     "output_type": "stream",
     "text": [
      "\n",
      "Path of the TSV file: ./data/v2.1/newseye/fr/HIPE-2022-v2.1-newseye-train-fr.tsv \n",
      "Number of documents: 35 \n",
      "Number of entities: {'coarse_lit': 10423, 'fine_lit': 99, 'nested': 522} \n",
      "Number of tokens: 255165 \n",
      "Entity breakdown by type: coarse_lit\n",
      "+-----------+---------+\n",
      "|           |   count |\n",
      "+===========+=========+\n",
      "| HumanProd |     200 |\n",
      "+-----------+---------+\n",
      "| LOC       |    4055 |\n",
      "+-----------+---------+\n",
      "| ORG       |    1285 |\n",
      "+-----------+---------+\n",
      "| PER       |    4883 |\n",
      "+-----------+---------+\n",
      "fine_lit\n",
      "+------------+---------+\n",
      "|            |   count |\n",
      "+============+=========+\n",
      "| PER.author |      99 |\n",
      "+------------+---------+\n",
      "nested\n",
      "+-----------+---------+\n",
      "|           |   count |\n",
      "+===========+=========+\n",
      "| HumanProd |       6 |\n",
      "+-----------+---------+\n",
      "| LOC       |     263 |\n",
      "+-----------+---------+\n",
      "| ORG       |     212 |\n",
      "+-----------+---------+\n",
      "| PER       |      41 |\n",
      "+-----------+---------+\n",
      "\n"
     ]
    }
   ],
   "source": [
    "# print some basic stats for the TSV dataset \n",
    "print(describe_dataset(documents=newseye_train_fr_docs))"
   ]
  },
  {
   "cell_type": "markdown",
   "id": "8e67dd9d",
   "metadata": {},
   "source": [
    "#### Test"
   ]
  },
  {
   "cell_type": "code",
   "execution_count": 105,
   "id": "a41bd5ac",
   "metadata": {},
   "outputs": [],
   "source": [
    "# parse the TSV into a list of `HipeDocument` objects\n",
    "newseye_test_fr_docs = parse_tsv(file_path=newseye_test_fr_path)"
   ]
  },
  {
   "cell_type": "code",
   "execution_count": 106,
   "id": "42ab4bd5",
   "metadata": {},
   "outputs": [
    {
     "name": "stdout",
     "output_type": "stream",
     "text": [
      "\n",
      "Path of the TSV file: ./data/v2.1/newseye/fr/HIPE-2022-v2.1-newseye-test-fr.tsv \n",
      "Number of documents: 35 \n",
      "Number of entities: {'coarse_lit': 2530, 'fine_lit': 34, 'nested': 136} \n",
      "Number of tokens: 70794 \n",
      "Entity breakdown by type: coarse_lit\n",
      "+-----------+---------+\n",
      "|           |   count |\n",
      "+===========+=========+\n",
      "| HumanProd |      33 |\n",
      "+-----------+---------+\n",
      "| LOC       |    1112 |\n",
      "+-----------+---------+\n",
      "| ORG       |     360 |\n",
      "+-----------+---------+\n",
      "| PER       |    1025 |\n",
      "+-----------+---------+\n",
      "fine_lit\n",
      "+------------+---------+\n",
      "|            |   count |\n",
      "+============+=========+\n",
      "| PER.author |      34 |\n",
      "+------------+---------+\n",
      "nested\n",
      "+-----------+---------+\n",
      "|           |   count |\n",
      "+===========+=========+\n",
      "| HumanProd |       5 |\n",
      "+-----------+---------+\n",
      "| LOC       |      85 |\n",
      "+-----------+---------+\n",
      "| ORG       |      31 |\n",
      "+-----------+---------+\n",
      "| PER       |      15 |\n",
      "+-----------+---------+\n",
      "\n"
     ]
    }
   ],
   "source": [
    "# print some basic stats for the TSV dataset \n",
    "print(describe_dataset(documents=newseye_test_fr_docs))"
   ]
  },
  {
   "cell_type": "markdown",
   "id": "47d69e44",
   "metadata": {},
   "source": [
    "### newseye DE"
   ]
  },
  {
   "cell_type": "markdown",
   "id": "8398af96",
   "metadata": {},
   "source": [
    "#### Dev"
   ]
  },
  {
   "cell_type": "code",
   "execution_count": 107,
   "id": "9b6ef18f",
   "metadata": {},
   "outputs": [],
   "source": [
    "# parse the TSV into a list of `HipeDocument` objects\n",
    "newseye_dev_de_docs = parse_tsv(file_path=newseye_dev_de_path)"
   ]
  },
  {
   "cell_type": "code",
   "execution_count": 108,
   "id": "3da94913",
   "metadata": {},
   "outputs": [
    {
     "name": "stdout",
     "output_type": "stream",
     "text": [
      "\n",
      "Path of the TSV file: ./data/v2.1/newseye/de/HIPE-2022-v2.1-newseye-dev-de.tsv \n",
      "Number of documents: 12 \n",
      "Number of entities: {'coarse_lit': 539, 'fine_lit': 5, 'nested': 29} \n",
      "Number of tokens: 40061 \n",
      "Entity breakdown by type: coarse_lit\n",
      "+-----------+---------+\n",
      "|           |   count |\n",
      "+===========+=========+\n",
      "| HumanProd |       4 |\n",
      "+-----------+---------+\n",
      "| LOC       |     263 |\n",
      "+-----------+---------+\n",
      "| ORG       |     123 |\n",
      "+-----------+---------+\n",
      "| PER       |     149 |\n",
      "+-----------+---------+\n",
      "fine_lit\n",
      "+------------+---------+\n",
      "|            |   count |\n",
      "+============+=========+\n",
      "| PER.author |       5 |\n",
      "+------------+---------+\n",
      "nested\n",
      "+-----+---------+\n",
      "|     |   count |\n",
      "+=====+=========+\n",
      "| LOC |      10 |\n",
      "+-----+---------+\n",
      "| ORG |      11 |\n",
      "+-----+---------+\n",
      "| PER |       8 |\n",
      "+-----+---------+\n",
      "\n"
     ]
    }
   ],
   "source": [
    "# print some basic stats for the TSV dataset \n",
    "print(describe_dataset(documents=newseye_dev_de_docs))"
   ]
  },
  {
   "cell_type": "markdown",
   "id": "2c73fbcb",
   "metadata": {},
   "source": [
    "#### Train"
   ]
  },
  {
   "cell_type": "code",
   "execution_count": 109,
   "id": "e0c65881",
   "metadata": {},
   "outputs": [],
   "source": [
    "# parse the TSV into a list of `HipeDocument` objects\n",
    "newseye_train_de_docs = parse_tsv(file_path=newseye_train_de_path)"
   ]
  },
  {
   "cell_type": "code",
   "execution_count": 110,
   "id": "43791e9a",
   "metadata": {},
   "outputs": [
    {
     "name": "stdout",
     "output_type": "stream",
     "text": [
      "\n",
      "Path of the TSV file: ./data/v2.1/newseye/de/HIPE-2022-v2.1-newseye-train-de.tsv \n",
      "Number of documents: 7 \n",
      "Number of entities: {'coarse_lit': 11381, 'fine_lit': 21, 'nested': 1133} \n",
      "Number of tokens: 374332 \n",
      "Entity breakdown by type: coarse_lit\n",
      "+-----------+---------+\n",
      "|           |   count |\n",
      "+===========+=========+\n",
      "| HumanProd |      37 |\n",
      "+-----------+---------+\n",
      "| LOC       |    5135 |\n",
      "+-----------+---------+\n",
      "| ORG       |    3108 |\n",
      "+-----------+---------+\n",
      "| PER       |    3101 |\n",
      "+-----------+---------+\n",
      "fine_lit\n",
      "+------------+---------+\n",
      "|            |   count |\n",
      "+============+=========+\n",
      "| PER.author |      21 |\n",
      "+------------+---------+\n",
      "nested\n",
      "+-----------+---------+\n",
      "|           |   count |\n",
      "+===========+=========+\n",
      "| HumanProd |       2 |\n",
      "+-----------+---------+\n",
      "| LOC       |     754 |\n",
      "+-----------+---------+\n",
      "| ORG       |     136 |\n",
      "+-----------+---------+\n",
      "| PER       |     241 |\n",
      "+-----------+---------+\n",
      "\n"
     ]
    }
   ],
   "source": [
    "# print some basic stats for the TSV dataset \n",
    "print(describe_dataset(documents=newseye_train_de_docs))"
   ]
  },
  {
   "cell_type": "markdown",
   "id": "b9b6ce3a",
   "metadata": {},
   "source": [
    "#### Test"
   ]
  },
  {
   "cell_type": "code",
   "execution_count": 111,
   "id": "e59d42ca",
   "metadata": {},
   "outputs": [],
   "source": [
    "# parse the TSV into a list of `HipeDocument` objects\n",
    "newseye_test_de_docs = parse_tsv(file_path=newseye_test_de_path)"
   ]
  },
  {
   "cell_type": "code",
   "execution_count": 112,
   "id": "49cacfd5",
   "metadata": {},
   "outputs": [
    {
     "name": "stdout",
     "output_type": "stream",
     "text": [
      "\n",
      "Path of the TSV file: ./data/v2.1/newseye/de/HIPE-2022-v2.1-newseye-test-de.tsv \n",
      "Number of documents: 13 \n",
      "Number of entities: {'coarse_lit': 2401, 'fine_lit': 13, 'nested': 100} \n",
      "Number of tokens: 99775 \n",
      "Entity breakdown by type: coarse_lit\n",
      "+-----------+---------+\n",
      "|           |   count |\n",
      "+===========+=========+\n",
      "| HumanProd |      15 |\n",
      "+-----------+---------+\n",
      "| LOC       |    1222 |\n",
      "+-----------+---------+\n",
      "| ORG       |     353 |\n",
      "+-----------+---------+\n",
      "| PER       |     811 |\n",
      "+-----------+---------+\n",
      "fine_lit\n",
      "+------------+---------+\n",
      "|            |   count |\n",
      "+============+=========+\n",
      "| PER.author |      13 |\n",
      "+------------+---------+\n",
      "nested\n",
      "+-----------+---------+\n",
      "|           |   count |\n",
      "+===========+=========+\n",
      "| HumanProd |       2 |\n",
      "+-----------+---------+\n",
      "| LOC       |      30 |\n",
      "+-----------+---------+\n",
      "| ORG       |      29 |\n",
      "+-----------+---------+\n",
      "| PER       |      39 |\n",
      "+-----------+---------+\n",
      "\n"
     ]
    }
   ],
   "source": [
    "# print some basic stats for the TSV dataset \n",
    "print(describe_dataset(documents=newseye_test_de_docs))"
   ]
  },
  {
   "cell_type": "markdown",
   "id": "872b6a68",
   "metadata": {},
   "source": [
    "### newseye FI"
   ]
  },
  {
   "cell_type": "markdown",
   "id": "0a10da0f",
   "metadata": {},
   "source": [
    "#### Dev"
   ]
  },
  {
   "cell_type": "code",
   "execution_count": 113,
   "id": "a6550817",
   "metadata": {},
   "outputs": [],
   "source": [
    "# parse the TSV into a list of `HipeDocument` objects\n",
    "newseye_dev_fi_docs = parse_tsv(file_path=newseye_dev_fi_path)"
   ]
  },
  {
   "cell_type": "code",
   "execution_count": 114,
   "id": "2ef3872d",
   "metadata": {},
   "outputs": [
    {
     "name": "stdout",
     "output_type": "stream",
     "text": [
      "\n",
      "Path of the TSV file: ./data/v2.1/newseye/fi/HIPE-2022-v2.1-newseye-dev-fi.tsv \n",
      "Number of documents: 24 \n",
      "Number of entities: {'coarse_lit': 223, 'fine_lit': 1, 'nested': 26} \n",
      "Number of tokens: 6350 \n",
      "Entity breakdown by type: coarse_lit\n",
      "+-----------+---------+\n",
      "|           |   count |\n",
      "+===========+=========+\n",
      "| HumanProd |      12 |\n",
      "+-----------+---------+\n",
      "| LOC       |      97 |\n",
      "+-----------+---------+\n",
      "| ORG       |      37 |\n",
      "+-----------+---------+\n",
      "| PER       |      77 |\n",
      "+-----------+---------+\n",
      "fine_lit\n",
      "+------------+---------+\n",
      "|            |   count |\n",
      "+============+=========+\n",
      "| PER.author |       1 |\n",
      "+------------+---------+\n",
      "nested\n",
      "+-----+---------+\n",
      "|     |   count |\n",
      "+=====+=========+\n",
      "| LOC |      22 |\n",
      "+-----+---------+\n",
      "| ORG |       2 |\n",
      "+-----+---------+\n",
      "| PER |       2 |\n",
      "+-----+---------+\n",
      "\n"
     ]
    }
   ],
   "source": [
    "# print some basic stats for the TSV dataset \n",
    "print(describe_dataset(documents=newseye_dev_fi_docs))"
   ]
  },
  {
   "cell_type": "markdown",
   "id": "51e3615d",
   "metadata": {},
   "source": [
    "#### Train"
   ]
  },
  {
   "cell_type": "code",
   "execution_count": 115,
   "id": "d183a069",
   "metadata": {},
   "outputs": [],
   "source": [
    "# parse the TSV into a list of `HipeDocument` objects\n",
    "newseye_train_fi_docs = parse_tsv(file_path=newseye_train_fi_path)"
   ]
  },
  {
   "cell_type": "code",
   "execution_count": 116,
   "id": "06e61ccb",
   "metadata": {},
   "outputs": [
    {
     "name": "stdout",
     "output_type": "stream",
     "text": [
      "\n",
      "Path of the TSV file: ./data/v2.1/newseye/fi/HIPE-2022-v2.1-newseye-train-fi.tsv \n",
      "Number of documents: 24 \n",
      "Number of entities: {'coarse_lit': 2146, 'fine_lit': 15, 'nested': 225} \n",
      "Number of tokens: 48222 \n",
      "Entity breakdown by type: coarse_lit\n",
      "+-----------+---------+\n",
      "|           |   count |\n",
      "+===========+=========+\n",
      "| HumanProd |     126 |\n",
      "+-----------+---------+\n",
      "| LOC       |     979 |\n",
      "+-----------+---------+\n",
      "| ORG       |     259 |\n",
      "+-----------+---------+\n",
      "| PER       |     782 |\n",
      "+-----------+---------+\n",
      "fine_lit\n",
      "+------------+---------+\n",
      "|            |   count |\n",
      "+============+=========+\n",
      "| PER.author |      15 |\n",
      "+------------+---------+\n",
      "nested\n",
      "+-----------+---------+\n",
      "|           |   count |\n",
      "+===========+=========+\n",
      "| HumanProd |       2 |\n",
      "+-----------+---------+\n",
      "| LOC       |     171 |\n",
      "+-----------+---------+\n",
      "| ORG       |      35 |\n",
      "+-----------+---------+\n",
      "| PER       |      17 |\n",
      "+-----------+---------+\n",
      "\n"
     ]
    }
   ],
   "source": [
    "# print some basic stats for the TSV dataset \n",
    "print(describe_dataset(documents=newseye_train_fi_docs))"
   ]
  },
  {
   "cell_type": "markdown",
   "id": "8585309d",
   "metadata": {},
   "source": [
    "#### Test"
   ]
  },
  {
   "cell_type": "code",
   "execution_count": 117,
   "id": "7d4e29a0",
   "metadata": {},
   "outputs": [],
   "source": [
    "# parse the TSV into a list of `HipeDocument` objects\n",
    "newseye_test_fi_docs = parse_tsv(file_path=newseye_test_fi_path)"
   ]
  },
  {
   "cell_type": "code",
   "execution_count": 118,
   "id": "d37bb572",
   "metadata": {},
   "outputs": [
    {
     "name": "stdout",
     "output_type": "stream",
     "text": [
      "\n",
      "Path of the TSV file: ./data/v2.1/newseye/fi/HIPE-2022-v2.1-newseye-test-fi.tsv \n",
      "Number of documents: 24 \n",
      "Number of entities: {'coarse_lit': 691, 'fine_lit': 7, 'nested': 42} \n",
      "Number of tokens: 14963 \n",
      "Entity breakdown by type: coarse_lit\n",
      "+-----------+---------+\n",
      "|           |   count |\n",
      "+===========+=========+\n",
      "| HumanProd |      22 |\n",
      "+-----------+---------+\n",
      "| LOC       |     262 |\n",
      "+-----------+---------+\n",
      "| ORG       |      54 |\n",
      "+-----------+---------+\n",
      "| PER       |     353 |\n",
      "+-----------+---------+\n",
      "fine_lit\n",
      "+------------+---------+\n",
      "|            |   count |\n",
      "+============+=========+\n",
      "| PER.author |       7 |\n",
      "+------------+---------+\n",
      "nested\n",
      "+-----+---------+\n",
      "|     |   count |\n",
      "+=====+=========+\n",
      "| LOC |      29 |\n",
      "+-----+---------+\n",
      "| ORG |      10 |\n",
      "+-----+---------+\n",
      "| PER |       3 |\n",
      "+-----+---------+\n",
      "\n"
     ]
    }
   ],
   "source": [
    "# print some basic stats for the TSV dataset \n",
    "print(describe_dataset(documents=newseye_test_fi_docs))"
   ]
  },
  {
   "cell_type": "markdown",
   "id": "74083291",
   "metadata": {},
   "source": [
    "### newseye SV"
   ]
  },
  {
   "cell_type": "markdown",
   "id": "b60fcdb9",
   "metadata": {},
   "source": [
    "#### Dev"
   ]
  },
  {
   "cell_type": "code",
   "execution_count": 119,
   "id": "266f8bee",
   "metadata": {},
   "outputs": [],
   "source": [
    "# parse the TSV into a list of `HipeDocument` objects\n",
    "newseye_dev_sv_docs = parse_tsv(file_path=newseye_dev_sv_path)"
   ]
  },
  {
   "cell_type": "code",
   "execution_count": 120,
   "id": "42c4a49a",
   "metadata": {},
   "outputs": [
    {
     "name": "stdout",
     "output_type": "stream",
     "text": [
      "\n",
      "Path of the TSV file: ./data/v2.1/newseye/sv/HIPE-2022-v2.1-newseye-dev-sv.tsv \n",
      "Number of documents: 21 \n",
      "Number of entities: {'coarse_lit': 266, 'fine_lit': 1, 'nested': 9} \n",
      "Number of tokens: 6906 \n",
      "Entity breakdown by type: coarse_lit\n",
      "+-----------+---------+\n",
      "|           |   count |\n",
      "+===========+=========+\n",
      "| HumanProd |      17 |\n",
      "+-----------+---------+\n",
      "| LOC       |     148 |\n",
      "+-----------+---------+\n",
      "| ORG       |      17 |\n",
      "+-----------+---------+\n",
      "| PER       |      84 |\n",
      "+-----------+---------+\n",
      "fine_lit\n",
      "+------------+---------+\n",
      "|            |   count |\n",
      "+============+=========+\n",
      "| PER.author |       1 |\n",
      "+------------+---------+\n",
      "nested\n",
      "+-----+---------+\n",
      "|     |   count |\n",
      "+=====+=========+\n",
      "| LOC |       7 |\n",
      "+-----+---------+\n",
      "| ORG |       1 |\n",
      "+-----+---------+\n",
      "| PER |       1 |\n",
      "+-----+---------+\n",
      "\n"
     ]
    }
   ],
   "source": [
    "# print some basic stats for the TSV dataset \n",
    "print(describe_dataset(documents=newseye_dev_sv_docs))"
   ]
  },
  {
   "cell_type": "markdown",
   "id": "92def368",
   "metadata": {},
   "source": [
    "#### Train"
   ]
  },
  {
   "cell_type": "code",
   "execution_count": 121,
   "id": "cc962b4f",
   "metadata": {},
   "outputs": [],
   "source": [
    "# parse the TSV into a list of `HipeDocument` objects\n",
    "newseye_train_sv_docs = parse_tsv(file_path=newseye_train_sv_path)"
   ]
  },
  {
   "cell_type": "code",
   "execution_count": 122,
   "id": "b6f6f2e4",
   "metadata": {},
   "outputs": [
    {
     "name": "stdout",
     "output_type": "stream",
     "text": [
      "\n",
      "Path of the TSV file: ./data/v2.1/newseye/sv/HIPE-2022-v2.1-newseye-train-sv.tsv \n",
      "Number of documents: 21 \n",
      "Number of entities: {'coarse_lit': 2141, 'fine_lit': 16, 'nested': 126} \n",
      "Number of tokens: 56306 \n",
      "Entity breakdown by type: coarse_lit\n",
      "+-----------+---------+\n",
      "|           |   count |\n",
      "+===========+=========+\n",
      "| HumanProd |     164 |\n",
      "+-----------+---------+\n",
      "| LOC       |     985 |\n",
      "+-----------+---------+\n",
      "| ORG       |     153 |\n",
      "+-----------+---------+\n",
      "| PER       |     839 |\n",
      "+-----------+---------+\n",
      "fine_lit\n",
      "+------------+---------+\n",
      "|            |   count |\n",
      "+============+=========+\n",
      "| PER.author |      16 |\n",
      "+------------+---------+\n",
      "nested\n",
      "+-----------+---------+\n",
      "|           |   count |\n",
      "+===========+=========+\n",
      "| HumanProd |       1 |\n",
      "+-----------+---------+\n",
      "| LOC       |     100 |\n",
      "+-----------+---------+\n",
      "| ORG       |      15 |\n",
      "+-----------+---------+\n",
      "| PER       |      10 |\n",
      "+-----------+---------+\n",
      "\n"
     ]
    }
   ],
   "source": [
    "# print some basic stats for the TSV dataset \n",
    "print(describe_dataset(documents=newseye_train_sv_docs))"
   ]
  },
  {
   "cell_type": "markdown",
   "id": "89d1ad9a",
   "metadata": {},
   "source": [
    "#### Test"
   ]
  },
  {
   "cell_type": "code",
   "execution_count": 123,
   "id": "40406c49",
   "metadata": {},
   "outputs": [],
   "source": [
    "# parse the TSV into a list of `HipeDocument` objects\n",
    "newseye_test_sv_docs = parse_tsv(file_path=newseye_test_sv_path)"
   ]
  },
  {
   "cell_type": "code",
   "execution_count": 124,
   "id": "018bf812",
   "metadata": {},
   "outputs": [
    {
     "name": "stdout",
     "output_type": "stream",
     "text": [
      "\n",
      "Path of the TSV file: ./data/v2.1/newseye/sv/HIPE-2022-v2.1-newseye-test-sv.tsv \n",
      "Number of documents: 21 \n",
      "Number of entities: {'coarse_lit': 604, 'nested': 26} \n",
      "Number of tokens: 16162 \n",
      "Entity breakdown by type: coarse_lit\n",
      "+-----------+---------+\n",
      "|           |   count |\n",
      "+===========+=========+\n",
      "| HumanProd |      22 |\n",
      "+-----------+---------+\n",
      "| LOC       |     313 |\n",
      "+-----------+---------+\n",
      "| ORG       |      60 |\n",
      "+-----------+---------+\n",
      "| PER       |     209 |\n",
      "+-----------+---------+\n",
      "nested\n",
      "+-----+---------+\n",
      "|     |   count |\n",
      "+=====+=========+\n",
      "| LOC |      20 |\n",
      "+-----+---------+\n",
      "| ORG |       2 |\n",
      "+-----+---------+\n",
      "| PER |       4 |\n",
      "+-----+---------+\n",
      "\n"
     ]
    }
   ],
   "source": [
    "# print some basic stats for the TSV dataset \n",
    "print(describe_dataset(documents=newseye_test_sv_docs))"
   ]
  },
  {
   "cell_type": "markdown",
   "id": "170e049d",
   "metadata": {},
   "source": [
    "## sonar\n",
    "\n",
    "See the [README file](./documentation/README-sonar.md) for detailed information about this dataset."
   ]
  },
  {
   "cell_type": "markdown",
   "id": "0a688da4",
   "metadata": {},
   "source": [
    "### File paths"
   ]
  },
  {
   "cell_type": "code",
   "execution_count": 125,
   "id": "263a7947",
   "metadata": {},
   "outputs": [],
   "source": [
    "sonar_dev_de_path = os.path.join(HIPE2022_data_path, f\"sonar/de/HIPE-2022-{RELEASE_VERSION}-sonar-dev-de.tsv\")\n",
    "sonar_test_de_path = os.path.join(HIPE2022_data_path, f\"sonar/de/HIPE-2022-{RELEASE_VERSION}-sonar-test-de.tsv\")"
   ]
  },
  {
   "cell_type": "markdown",
   "id": "65df2a7a",
   "metadata": {},
   "source": [
    "#### Dev"
   ]
  },
  {
   "cell_type": "code",
   "execution_count": 126,
   "id": "d5ac5fcb",
   "metadata": {},
   "outputs": [],
   "source": [
    "# parse the TSV into a list of `HipeDocument` objects\n",
    "sonar_dev_de_docs = parse_tsv(file_path=sonar_dev_de_path)"
   ]
  },
  {
   "cell_type": "code",
   "execution_count": 127,
   "id": "fba9bf96",
   "metadata": {},
   "outputs": [
    {
     "name": "stdout",
     "output_type": "stream",
     "text": [
      "\n",
      "Path of the TSV file: ./data/v2.1/sonar/de/HIPE-2022-v2.1-sonar-dev-de.tsv \n",
      "Number of documents: 10 \n",
      "Number of entities: {'coarse_lit': 654} \n",
      "Number of tokens: 17476 \n",
      "Entity breakdown by type: coarse_lit\n",
      "+-----+---------+\n",
      "|     |   count |\n",
      "+=====+=========+\n",
      "| LOC |     300 |\n",
      "+-----+---------+\n",
      "| ORG |     138 |\n",
      "+-----+---------+\n",
      "| PER |     216 |\n",
      "+-----+---------+\n",
      "\n"
     ]
    }
   ],
   "source": [
    "# print some basic stats for the TSV dataset \n",
    "print(describe_dataset(documents=sonar_dev_de_docs))"
   ]
  },
  {
   "cell_type": "markdown",
   "id": "c5c90f0d",
   "metadata": {},
   "source": [
    "#### Test"
   ]
  },
  {
   "cell_type": "code",
   "execution_count": 128,
   "id": "b9081feb",
   "metadata": {},
   "outputs": [],
   "source": [
    "# parse the TSV into a list of `HipeDocument` objects\n",
    "sonar_test_de_docs = parse_tsv(file_path=sonar_test_de_path)"
   ]
  },
  {
   "cell_type": "code",
   "execution_count": 129,
   "id": "7b84855f",
   "metadata": {},
   "outputs": [
    {
     "name": "stdout",
     "output_type": "stream",
     "text": [
      "\n",
      "Path of the TSV file: ./data/v2.1/sonar/de/HIPE-2022-v2.1-sonar-test-de.tsv \n",
      "Number of documents: 10 \n",
      "Number of entities: {'coarse_lit': 471} \n",
      "Number of tokens: 15463 \n",
      "Entity breakdown by type: coarse_lit\n",
      "+-----+---------+\n",
      "|     |   count |\n",
      "+=====+=========+\n",
      "| LOC |     177 |\n",
      "+-----+---------+\n",
      "| ORG |     111 |\n",
      "+-----+---------+\n",
      "| PER |     183 |\n",
      "+-----+---------+\n",
      "\n"
     ]
    }
   ],
   "source": [
    "# print some basic stats for the TSV dataset \n",
    "print(describe_dataset(documents=sonar_test_de_docs))"
   ]
  }
 ],
 "metadata": {
  "kernelspec": {
   "display_name": "Python 3 (ipykernel)",
   "language": "python",
   "name": "python3"
  },
  "language_info": {
   "codemirror_mode": {
    "name": "ipython",
    "version": 3
   },
   "file_extension": ".py",
   "mimetype": "text/x-python",
   "name": "python",
   "nbconvert_exporter": "python",
   "pygments_lexer": "ipython3",
   "version": "3.8.0"
  }
 },
 "nbformat": 4,
 "nbformat_minor": 5
}
