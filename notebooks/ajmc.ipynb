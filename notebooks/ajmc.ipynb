{
 "cells": [
  {
   "cell_type": "markdown",
   "metadata": {},
   "source": [
    "# Imports"
   ]
  },
  {
   "cell_type": "code",
   "execution_count": 32,
   "metadata": {},
   "outputs": [],
   "source": [
    "import random\n",
    "from typing import List, Dict\n",
    "from hipe_commons.helpers.tsv import parse_tsv, ENTITY_TYPES, HipeDocument, HipeEntity\n",
    "from hipe_commons.stats import describe_dataset"
   ]
  },
  {
   "cell_type": "markdown",
   "metadata": {},
   "source": [
    "# Functions"
   ]
  },
  {
   "cell_type": "code",
   "execution_count": 42,
   "metadata": {},
   "outputs": [],
   "source": [
    "def collect_entities(documents: List[HipeDocument]) -> Dict[str, List[HipeEntity]]:\n",
    "    \"\"\"Simple function to gather all entities from documents in a dataset, divided by type.\n",
    "\n",
    "    :param documents: Input documents in HIPE format\n",
    "    :type documents: List[HipeDocument]\n",
    "    :return: A list of `HipeEntity` objects\n",
    "    :rtype: Dict[str, List[HipeEntity]]\n",
    "    \"\"\"\n",
    "    all_entities = {}\n",
    "\n",
    "    for doc in ajmc_sample_en_docs:\n",
    "        for e_type in ENTITY_TYPES:\n",
    "            \n",
    "            if e_type in doc.entities:\n",
    "\n",
    "                if e_type not in all_entities:\n",
    "                    all_entities[e_type] = []\n",
    "\n",
    "                all_entities[e_type] += doc.entities[e_type]\n",
    "    return all_entities"
   ]
  },
  {
   "cell_type": "markdown",
   "metadata": {},
   "source": [
    "# English sample"
   ]
  },
  {
   "cell_type": "markdown",
   "metadata": {},
   "source": [
    "## Read TSV"
   ]
  },
  {
   "cell_type": "code",
   "execution_count": 5,
   "metadata": {},
   "outputs": [],
   "source": [
    "ajmc_sample_en_path = \"../data/ajmc/v0.1/en/HIPE-2022-ajmc-v0.1-sample-en.tsv\""
   ]
  },
  {
   "cell_type": "code",
   "execution_count": 6,
   "metadata": {},
   "outputs": [],
   "source": [
    "# parse the TSV into a list of `HipeDocument` objects\n",
    "ajmc_sample_en_docs = parse_tsv(file_path=ajmc_sample_en_path)"
   ]
  },
  {
   "cell_type": "code",
   "execution_count": 46,
   "metadata": {},
   "outputs": [
    {
     "data": {
      "text/plain": [
       "5"
      ]
     },
     "execution_count": 46,
     "metadata": {},
     "output_type": "execute_result"
    }
   ],
   "source": [
    "# number of documents in the ajmc EN sample file\n",
    "len(ajmc_sample_en_docs)"
   ]
  },
  {
   "cell_type": "markdown",
   "metadata": {},
   "source": [
    "## Basic stats"
   ]
  },
  {
   "cell_type": "code",
   "execution_count": 10,
   "metadata": {},
   "outputs": [
    {
     "name": "stdout",
     "output_type": "stream",
     "text": [
      "\n",
      "Path of the TSV file: ../data/ajmc/v0.1/en/HIPE-2022-ajmc-v0.1-sample-en.tsv \n",
      "Number of documents: 5 \n",
      "Number of entities: {'coarse_lit': 153, 'fine_lit': 153} \n",
      "Number of tokens: 2187 \n",
      "Entity breakdown by type: coarse_lit\n",
      "+-------+---------+\n",
      "|       |   count |\n",
      "+=======+=========+\n",
      "| date  |       1 |\n",
      "+-------+---------+\n",
      "| loc   |       5 |\n",
      "+-------+---------+\n",
      "| pers  |      65 |\n",
      "+-------+---------+\n",
      "| scope |      51 |\n",
      "+-------+---------+\n",
      "| work  |      31 |\n",
      "+-------+---------+\n",
      "fine_lit\n",
      "+--------------+---------+\n",
      "|              |   count |\n",
      "+==============+=========+\n",
      "| date         |       1 |\n",
      "+--------------+---------+\n",
      "| loc          |       5 |\n",
      "+--------------+---------+\n",
      "| pers.author  |      28 |\n",
      "+--------------+---------+\n",
      "| pers.editor  |       6 |\n",
      "+--------------+---------+\n",
      "| pers.myth    |      30 |\n",
      "+--------------+---------+\n",
      "| pers.other   |       1 |\n",
      "+--------------+---------+\n",
      "| scope        |      51 |\n",
      "+--------------+---------+\n",
      "| work.primlit |      30 |\n",
      "+--------------+---------+\n",
      "| work.seclit  |       1 |\n",
      "+--------------+---------+\n",
      "\n"
     ]
    }
   ],
   "source": [
    "print(describe_dataset(documents=ajmc_sample_en_docs))"
   ]
  },
  {
   "cell_type": "markdown",
   "metadata": {},
   "source": [
    "## Inspect sample entities"
   ]
  },
  {
   "cell_type": "markdown",
   "metadata": {},
   "source": [
    "Let's now have a look at a bunch of random entities for each entity type in this dataset."
   ]
  },
  {
   "cell_type": "code",
   "execution_count": 48,
   "metadata": {},
   "outputs": [],
   "source": [
    "# first, we need to gather all entities from documents in the dataset\n",
    "all_entities = collect_entities(ajmc_sample_en_docs)"
   ]
  },
  {
   "cell_type": "code",
   "execution_count": 40,
   "metadata": {},
   "outputs": [
    {
     "data": {
      "text/plain": [
       "[[scope] Append.  (None),\n",
       " [loc] Salamis (Q202422),\n",
       " [scope] 411  (None),\n",
       " [scope] § 9.p. 12, 2 (None),\n",
       " [scope] 27 (None)]"
      ]
     },
     "execution_count": 40,
     "metadata": {},
     "output_type": "execute_result"
    }
   ],
   "source": [
    "random.sample(all_entities['coarse_lit'], 5)"
   ]
  },
  {
   "cell_type": "code",
   "execution_count": 41,
   "metadata": {},
   "outputs": [
    {
     "data": {
      "text/plain": [
       "[[scope] 27 (None),\n",
       " [work.primlit] “42.  (Q241077),\n",
       " [pers.other] Photius (Q243187),\n",
       " [work.primlit] Miad  (Q8275),\n",
       " [work.primlit] Trach.  (Q945342)]"
      ]
     },
     "execution_count": 41,
     "metadata": {},
     "output_type": "execute_result"
    }
   ],
   "source": [
    "random.sample(all_entities['fine_lit'], 5)"
   ]
  },
  {
   "cell_type": "markdown",
   "metadata": {},
   "source": [
    "# German sample"
   ]
  },
  {
   "cell_type": "markdown",
   "metadata": {},
   "source": [
    "## Read TSV"
   ]
  },
  {
   "cell_type": "code",
   "execution_count": 12,
   "metadata": {},
   "outputs": [],
   "source": [
    "ajmc_sample_de_path = \"../data/ajmc/v0.1/de/HIPE-2022-ajmc-v0.1-sample-de.tsv\""
   ]
  },
  {
   "cell_type": "code",
   "execution_count": 13,
   "metadata": {},
   "outputs": [],
   "source": [
    "ajmc_sample_de_docs = parse_tsv(file_path=ajmc_sample_de_path)"
   ]
  },
  {
   "cell_type": "markdown",
   "metadata": {},
   "source": [
    "## Basic stats"
   ]
  },
  {
   "cell_type": "code",
   "execution_count": 15,
   "metadata": {},
   "outputs": [
    {
     "name": "stdout",
     "output_type": "stream",
     "text": [
      "\n",
      "Path of the TSV file: ../data/ajmc/v0.1/de/HIPE-2022-ajmc-v0.1-sample-de.tsv \n",
      "Number of documents: 8 \n",
      "Number of entities: {'coarse_lit': 202, 'fine_lit': 202, 'nested': 7} \n",
      "Number of tokens: 2584 \n",
      "Entity breakdown by type: coarse_lit\n",
      "+-------+---------+\n",
      "|       |   count |\n",
      "+=======+=========+\n",
      "| date  |       2 |\n",
      "+-------+---------+\n",
      "| loc   |       3 |\n",
      "+-------+---------+\n",
      "| pers  |      92 |\n",
      "+-------+---------+\n",
      "| scope |      79 |\n",
      "+-------+---------+\n",
      "| work  |      26 |\n",
      "+-------+---------+\n",
      "fine_lit\n",
      "+--------------+---------+\n",
      "|              |   count |\n",
      "+==============+=========+\n",
      "| date         |       2 |\n",
      "+--------------+---------+\n",
      "| loc          |       3 |\n",
      "+--------------+---------+\n",
      "| pers.author  |      36 |\n",
      "+--------------+---------+\n",
      "| pers.myth    |      54 |\n",
      "+--------------+---------+\n",
      "| pers.other   |       2 |\n",
      "+--------------+---------+\n",
      "| scope        |      79 |\n",
      "+--------------+---------+\n",
      "| work.primlit |      25 |\n",
      "+--------------+---------+\n",
      "| work.seclit  |       1 |\n",
      "+--------------+---------+\n",
      "nested\n",
      "+-------+---------+\n",
      "|       |   count |\n",
      "+=======+=========+\n",
      "| loc   |       2 |\n",
      "+-------+---------+\n",
      "| scope |       5 |\n",
      "+-------+---------+\n",
      "\n"
     ]
    }
   ],
   "source": [
    "print(describe_dataset(documents=ajmc_sample_de_docs))"
   ]
  },
  {
   "cell_type": "markdown",
   "metadata": {},
   "source": [
    "Let's now have a look at a bunch of random entities for each entity type in this dataset."
   ]
  },
  {
   "cell_type": "code",
   "execution_count": 47,
   "metadata": {},
   "outputs": [],
   "source": [
    "# first, we need to gather all entities from documents in the dataset\n",
    "all_entities = collect_entities(ajmc_sample_de_docs)"
   ]
  },
  {
   "cell_type": "code",
   "execution_count": 44,
   "metadata": {},
   "outputs": [
    {
     "data": {
      "text/plain": [
       "[[scope] 3. 59) (None),\n",
       " [scope] 1. 15 § 13 (None),\n",
       " [scope] 2. 557 f.: (None),\n",
       " [work] Pk.  (Q1415903),\n",
       " [pers] Meineke  (Q77628)]"
      ]
     },
     "execution_count": 44,
     "metadata": {},
     "output_type": "execute_result"
    }
   ],
   "source": [
    "random.sample(all_entities['coarse_lit'], 5)"
   ]
  },
  {
   "cell_type": "code",
   "execution_count": 45,
   "metadata": {},
   "outputs": [
    {
     "data": {
      "text/plain": [
       "[[pers.author] Aesch.  (Q40939),\n",
       " [pers.author] Sophocles  (Q11950683),\n",
       " [pers.author] Sophocles  (Q11950683),\n",
       " [scope] p. 221) (None),\n",
       " [work.primlit] Little Iliad (Q2087365)]"
      ]
     },
     "execution_count": 45,
     "metadata": {},
     "output_type": "execute_result"
    }
   ],
   "source": [
    "random.sample(all_entities['fine_lit'], 5)"
   ]
  }
 ],
 "metadata": {
  "interpreter": {
   "hash": "3f71d33a9884d3588e07aec0372ed71657c1daee96af90553802fa17e32b8b98"
  },
  "kernelspec": {
   "display_name": "Python 3.10.0 64-bit ('hipe_commons-test': pyenv)",
   "language": "python",
   "name": "python3"
  },
  "language_info": {
   "codemirror_mode": {
    "name": "ipython",
    "version": 3
   },
   "file_extension": ".py",
   "mimetype": "text/x-python",
   "name": "python",
   "nbconvert_exporter": "python",
   "pygments_lexer": "ipython3",
   "version": "3.10.0"
  },
  "orig_nbformat": 4
 },
 "nbformat": 4,
 "nbformat_minor": 2
}
